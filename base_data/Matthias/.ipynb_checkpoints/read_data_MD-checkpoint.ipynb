{
 "cells": [
  {
   "cell_type": "code",
   "execution_count": 1,
   "id": "e2afe6c0",
   "metadata": {
    "ExecuteTime": {
     "end_time": "2022-02-28T21:12:43.909551Z",
     "start_time": "2022-02-28T21:12:43.776924Z"
    }
   },
   "outputs": [
    {
     "name": "stdout",
     "output_type": "stream",
     "text": [
      "(3702, 1)\n",
      "DORNBIRN In der Schulgasse in Dornbirn hat eine 71,93 Quadratmeter große Wohnung für einen Quadratmeterpreis von 5533,71 Euro den Besitzer gewechselt. Dieser beinhaltet auch einen Pkw-Abstellplatz. Käufer der Wohnung mit 9,86 Quadratmetern Terrasse ist die ValLiLean Beteiligungs- und Immobilienverwaltungs GmbH. Beim Verkäufer handelt es sich um die Karrenblick Projekt GmbH.  Der Kaufpreis liegt bei 398.040 Euro. Unterzeichnet wurde der Kaufvertrag am 18. September. Die Verbücherung datiert mit Oktober 2020.\n"
     ]
    },
    {
     "data": {
      "text/html": [
       "<div>\n",
       "<style scoped>\n",
       "    .dataframe tbody tr th:only-of-type {\n",
       "        vertical-align: middle;\n",
       "    }\n",
       "\n",
       "    .dataframe tbody tr th {\n",
       "        vertical-align: top;\n",
       "    }\n",
       "\n",
       "    .dataframe thead th {\n",
       "        text-align: right;\n",
       "    }\n",
       "</style>\n",
       "<table border=\"1\" class=\"dataframe\">\n",
       "  <thead>\n",
       "    <tr style=\"text-align: right;\">\n",
       "      <th></th>\n",
       "      <th>Text</th>\n",
       "    </tr>\n",
       "  </thead>\n",
       "  <tbody>\n",
       "    <tr>\n",
       "      <th>0</th>\n",
       "      <td>DORNBIRN In der Schulgasse in Dornbirn hat ein...</td>\n",
       "    </tr>\n",
       "    <tr>\n",
       "      <th>1</th>\n",
       "      <td>FELDKIRCH Im Altenreuteweg in Feldkirch hat ei...</td>\n",
       "    </tr>\n",
       "    <tr>\n",
       "      <th>2</th>\n",
       "      <td>LUDESCH In der Raggalerstraße in Ludesch hat e...</td>\n",
       "    </tr>\n",
       "    <tr>\n",
       "      <th>3</th>\n",
       "      <td>DORNBIRN Im Fohramoos in Dornbirn hat ein Gebä...</td>\n",
       "    </tr>\n",
       "    <tr>\n",
       "      <th>4</th>\n",
       "      <td>VANDANS In der Bahnhofstraße 5 in Vandans wurd...</td>\n",
       "    </tr>\n",
       "  </tbody>\n",
       "</table>\n",
       "</div>"
      ],
      "text/plain": [
       "                                                Text\n",
       "0  DORNBIRN In der Schulgasse in Dornbirn hat ein...\n",
       "1  FELDKIRCH Im Altenreuteweg in Feldkirch hat ei...\n",
       "2  LUDESCH In der Raggalerstraße in Ludesch hat e...\n",
       "3  DORNBIRN Im Fohramoos in Dornbirn hat ein Gebä...\n",
       "4  VANDANS In der Bahnhofstraße 5 in Vandans wurd..."
      ]
     },
     "execution_count": 1,
     "metadata": {},
     "output_type": "execute_result"
    }
   ],
   "source": [
    "import pandas as pd\n",
    "import numpy as np\n",
    "import json\n",
    "np.random.seed(seed=42)\n",
    "df = pd.read_csv(\"../all_articles_in_text.csv\")\n",
    "print(df.shape)\n",
    "print(df.iloc[0,0])\n",
    "df.head()"
   ]
  },
  {
   "cell_type": "code",
   "execution_count": 2,
   "id": "bf29dbd1",
   "metadata": {},
   "outputs": [
    {
     "name": "stdout",
     "output_type": "stream",
     "text": [
      "dict_keys(['Text'])\n",
      "3702\n"
     ]
    },
    {
     "data": {
      "text/plain": [
       "'WOLFURT Die Fussenegger Wohnbau GmbH kaufte um 1.218.816 Euro ein in der Bregenzer Straße gelegenes Gebäude auf einer Grundstücksfläche von 1587 Quadratmetern. Beim Verkäufer handelt es sich um eine Privatperson. Flächenwidmung: Baufläche Mischgebiet. Der Kaufvertrag wurde am 8. Februar unterzeichnet. Die Verbücherung erfolgte im September.'"
      ]
     },
     "execution_count": 2,
     "metadata": {},
     "output_type": "execute_result"
    }
   ],
   "source": [
    "df_dict = df.to_dict(orient=\"list\")\n",
    "print(df_dict.keys())\n",
    "text_list = df_dict[\"Text\"]\n",
    "print(len(text_list))\n",
    "text_list[np.random.randint(0, len(text_list))]"
   ]
  },
  {
   "cell_type": "code",
   "execution_count": 3,
   "id": "961bd426",
   "metadata": {
    "ExecuteTime": {
     "end_time": "2022-03-01T16:58:01.878220Z",
     "start_time": "2022-03-01T16:58:01.829252Z"
    }
   },
   "outputs": [
    {
     "name": "stdout",
     "output_type": "stream",
     "text": [
      "3702\n"
     ]
    },
    {
     "data": {
      "text/plain": [
       "{'text': 'LUSTENAU Im Untere Aue 12c in Lustenau hat eine 74,3 Quadratmeter große Wohnung (Baujahr 2020) für einen Quadratmeterpreis von 5397,04 Euro den Besitzer gewechselt. Dieser beinhaltet auch einen Pkw-Abstellplatz. Käufer der Wohnung mit 12,45 Quadratmetern Balkon ist eine Privatperson. Beim Verkäufer handelt es sich um die i+R Wohnbau GmbH.  Der Kaufpreis liegt bei 401.000 Euro. Unterzeichnet wurde der Kaufvertrag am 15. April. Die Verbücherung datiert mit Mai 2021.',\n",
       " 'meta': {'source': 'vn'}}"
      ]
     },
     "execution_count": 3,
     "metadata": {},
     "output_type": "execute_result"
    }
   ],
   "source": [
    "dict_list = []\n",
    "for text in text_list:\n",
    "    di = {}\n",
    "    di['text'] = text\n",
    "    di['meta'] = {'source': 'vn'}\n",
    "    dict_list.append(di)\n",
    "print(len(dict_list))\n",
    "dict_list[np.random.randint(0, len(dict_list))]"
   ]
  },
  {
   "cell_type": "code",
   "execution_count": 4,
   "id": "3297eb7c",
   "metadata": {
    "ExecuteTime": {
     "end_time": "2022-03-01T16:58:18.814518Z",
     "start_time": "2022-03-01T16:58:18.783044Z"
    }
   },
   "outputs": [
    {
     "ename": "NameError",
     "evalue": "name 'li' is not defined",
     "output_type": "error",
     "traceback": [
      "\u001b[0;31m---------------------------------------------------------------------------\u001b[0m",
      "\u001b[0;31mNameError\u001b[0m                                 Traceback (most recent call last)",
      "\u001b[0;32m/tmp/ipykernel_150773/3857641407.py\u001b[0m in \u001b[0;36m<module>\u001b[0;34m\u001b[0m\n\u001b[1;32m      1\u001b[0m \u001b[0;32mwith\u001b[0m \u001b[0mopen\u001b[0m\u001b[0;34m(\u001b[0m\u001b[0;34m\"data.jsonl\"\u001b[0m\u001b[0;34m,\u001b[0m \u001b[0;34m\"w\"\u001b[0m\u001b[0;34m)\u001b[0m \u001b[0;32mas\u001b[0m \u001b[0moutfile\u001b[0m\u001b[0;34m:\u001b[0m\u001b[0;34m\u001b[0m\u001b[0;34m\u001b[0m\u001b[0m\n\u001b[0;32m----> 2\u001b[0;31m     \u001b[0;32mfor\u001b[0m \u001b[0mentry\u001b[0m \u001b[0;32min\u001b[0m \u001b[0mli\u001b[0m\u001b[0;34m:\u001b[0m\u001b[0;34m\u001b[0m\u001b[0;34m\u001b[0m\u001b[0m\n\u001b[0m\u001b[1;32m      3\u001b[0m         \u001b[0mprint\u001b[0m\u001b[0;34m(\u001b[0m\u001b[0mentry\u001b[0m\u001b[0;34m)\u001b[0m\u001b[0;34m\u001b[0m\u001b[0;34m\u001b[0m\u001b[0m\n\u001b[1;32m      4\u001b[0m         \u001b[0mjson\u001b[0m\u001b[0;34m.\u001b[0m\u001b[0mdump\u001b[0m\u001b[0;34m(\u001b[0m\u001b[0mentry\u001b[0m\u001b[0;34m,\u001b[0m \u001b[0moutfile\u001b[0m\u001b[0;34m)\u001b[0m\u001b[0;34m\u001b[0m\u001b[0;34m\u001b[0m\u001b[0m\n\u001b[1;32m      5\u001b[0m         \u001b[0moutfile\u001b[0m\u001b[0;34m.\u001b[0m\u001b[0mwrite\u001b[0m\u001b[0;34m(\u001b[0m\u001b[0;34m'\\n'\u001b[0m\u001b[0;34m)\u001b[0m\u001b[0;34m\u001b[0m\u001b[0;34m\u001b[0m\u001b[0m\n",
      "\u001b[0;31mNameError\u001b[0m: name 'li' is not defined"
     ]
    }
   ],
   "source": [
    "with open(\"data.jsonl\", \"w\") as outfile:\n",
    "    for dict_i in dict_list:\n",
    "        print(dict_i)\n",
    "        json.dump(dict_i, outfile)\n",
    "        outfile.write('\\n')"
   ]
  },
  {
   "cell_type": "code",
   "execution_count": 6,
   "id": "4dba4b38",
   "metadata": {
    "ExecuteTime": {
     "end_time": "2022-03-01T19:50:54.167037Z",
     "start_time": "2022-03-01T19:50:54.160956Z"
    }
   },
   "outputs": [
    {
     "ename": "NameError",
     "evalue": "name 'gemeinden' is not defined",
     "output_type": "error",
     "traceback": [
      "\u001b[0;31m---------------------------------------------------------------------------\u001b[0m",
      "\u001b[0;31mNameError\u001b[0m                                 Traceback (most recent call last)",
      "\u001b[0;32m/tmp/ipykernel_142947/1135840977.py\u001b[0m in \u001b[0;36m<module>\u001b[0;34m\u001b[0m\n\u001b[1;32m      1\u001b[0m \u001b[0mgemli\u001b[0m \u001b[0;34m=\u001b[0m \u001b[0;34m[\u001b[0m\u001b[0;34m]\u001b[0m\u001b[0;34m\u001b[0m\u001b[0;34m\u001b[0m\u001b[0m\n\u001b[1;32m      2\u001b[0m \u001b[0;34m\u001b[0m\u001b[0m\n\u001b[0;32m----> 3\u001b[0;31m \u001b[0;32mfor\u001b[0m \u001b[0mel\u001b[0m \u001b[0;32min\u001b[0m \u001b[0mgemeinden\u001b[0m\u001b[0;34m:\u001b[0m\u001b[0;34m\u001b[0m\u001b[0;34m\u001b[0m\u001b[0m\n\u001b[0m\u001b[1;32m      4\u001b[0m     \u001b[0mdi\u001b[0m \u001b[0;34m=\u001b[0m \u001b[0;34m{\u001b[0m\u001b[0;34m}\u001b[0m\u001b[0;34m\u001b[0m\u001b[0;34m\u001b[0m\u001b[0m\n\u001b[1;32m      5\u001b[0m     \u001b[0mdi\u001b[0m\u001b[0;34m[\u001b[0m\u001b[0;34m'label'\u001b[0m\u001b[0;34m]\u001b[0m \u001b[0;34m=\u001b[0m \u001b[0;34m'ORT'\u001b[0m\u001b[0;34m\u001b[0m\u001b[0;34m\u001b[0m\u001b[0m\n",
      "\u001b[0;31mNameError\u001b[0m: name 'gemeinden' is not defined"
     ]
    }
   ],
   "source": [
    "gemli = []\n",
    "\n",
    "for el in gemeinden:\n",
    "    di = {}\n",
    "    di['label'] = 'ORT'\n",
    "    di['pattern'] = [{'lower': el.lower()}]\n",
    "    gemli.append(di)"
   ]
  },
  {
   "cell_type": "code",
   "execution_count": 21,
   "id": "5902b63c",
   "metadata": {
    "ExecuteTime": {
     "end_time": "2022-03-01T19:51:29.779068Z",
     "start_time": "2022-03-01T19:51:29.769035Z"
    }
   },
   "outputs": [],
   "source": [
    "with open('pattern_ort.jsonl', 'w') as outfile:\n",
    "    for entry in gemli:\n",
    "        json.dump(entry, outfile)\n",
    "        outfile.write('\\n')"
   ]
  },
  {
   "cell_type": "code",
   "execution_count": null,
   "id": "ec96cfcd",
   "metadata": {},
   "outputs": [],
   "source": []
  }
 ],
 "metadata": {
  "kernelspec": {
   "display_name": "Python 3 (ipykernel)",
   "language": "python",
   "name": "python3"
  },
  "language_info": {
   "codemirror_mode": {
    "name": "ipython",
    "version": 3
   },
   "file_extension": ".py",
   "mimetype": "text/x-python",
   "name": "python",
   "nbconvert_exporter": "python",
   "pygments_lexer": "ipython3",
   "version": "3.9.7"
  },
  "toc": {
   "base_numbering": 1,
   "nav_menu": {},
   "number_sections": true,
   "sideBar": true,
   "skip_h1_title": false,
   "title_cell": "Table of Contents",
   "title_sidebar": "Contents",
   "toc_cell": false,
   "toc_position": {},
   "toc_section_display": true,
   "toc_window_display": false
  }
 },
 "nbformat": 4,
 "nbformat_minor": 5
}
