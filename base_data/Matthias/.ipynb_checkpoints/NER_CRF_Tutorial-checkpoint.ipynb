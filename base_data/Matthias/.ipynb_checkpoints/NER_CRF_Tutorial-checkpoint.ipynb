{
 "cells": [
  {
   "cell_type": "markdown",
   "id": "172d573a",
   "metadata": {},
   "source": [
    "# NER tutorial with *sklearn-crfsuite*\n",
    "\n",
    "Uses `scikit-learn==0.23.2`!\n",
    "\n",
    "- https://sklearn-crfsuite.readthedocs.io/en/latest/tutorial.html#let-s-use-conll-2002-data-to-build-a-ner-system (NER tutorial website),\n",
    "- https://github.com/TeamHG-Memex/sklearn-crfsuite/blob/master/docs/CoNLL2002.ipynb (NER tutorial code on GitHub)\n",
    "- https://github.com/TeamHG-Memex/sklearn-crfsuite/issues/60 (GitHub issue with the original tutorial code when sklearn version >= 0.24)\n",
    " - https://stackoverflow.com/questions/66059532/attributeerror-crf-object-has-no-attribute-keep-tempfiles (related StackOverflow question)\n",
    " - https://stackoverflow.com/questions/59974146/installing-an-old-version-of-scikit-learn (realted StackOverflow solution)"
   ]
  },
  {
   "cell_type": "code",
   "execution_count": 1,
   "id": "93213b41",
   "metadata": {},
   "outputs": [],
   "source": [
    "%matplotlib inline\n",
    "import matplotlib.pyplot as plt\n",
    "from itertools import chain\n",
    "import nltk\n",
    "import sklearn\n",
    "import scipy.stats\n",
    "from sklearn.metrics import make_scorer\n",
    "#from sklearn.model_selection import cross_val_score\n",
    "from sklearn.model_selection import RandomizedSearchCV\n",
    "import sklearn_crfsuite\n",
    "from sklearn_crfsuite import scorers\n",
    "from sklearn_crfsuite import metrics\n",
    "from collections import Counter\n",
    "plt.style.use('ggplot')"
   ]
  },
  {
   "cell_type": "markdown",
   "id": "ef53f3a3",
   "metadata": {},
   "source": [
    "## Let’s use CoNLL 2002 data to build a NER system\n",
    "[CoNLL2002](https://paperswithcode.com/dataset/conll-2002) corpus is available in NLTK. We use Spanish data."
   ]
  },
  {
   "cell_type": "code",
   "execution_count": 2,
   "id": "49faf840",
   "metadata": {},
   "outputs": [
    {
     "data": {
      "text/plain": [
       "['esp.testa', 'esp.testb', 'esp.train', 'ned.testa', 'ned.testb', 'ned.train']"
      ]
     },
     "execution_count": 2,
     "metadata": {},
     "output_type": "execute_result"
    }
   ],
   "source": [
    "nltk.corpus.conll2002.fileids()"
   ]
  },
  {
   "cell_type": "code",
   "execution_count": 3,
   "id": "3b1fe691",
   "metadata": {},
   "outputs": [
    {
     "name": "stdout",
     "output_type": "stream",
     "text": [
      "CPU times: user 1.63 s, sys: 87 ms, total: 1.72 s\n",
      "Wall time: 1.72 s\n"
     ]
    }
   ],
   "source": [
    "%%time\n",
    "train_sents = list(nltk.corpus.conll2002.iob_sents('esp.train'))\n",
    "test_sents = list(nltk.corpus.conll2002.iob_sents('esp.testb'))"
   ]
  },
  {
   "cell_type": "code",
   "execution_count": 4,
   "id": "0cdd0298",
   "metadata": {},
   "outputs": [
    {
     "data": {
      "text/plain": [
       "[('Melbourne', 'NP', 'B-LOC'),\n",
       " ('(', 'Fpa', 'O'),\n",
       " ('Australia', 'NP', 'B-LOC'),\n",
       " (')', 'Fpt', 'O'),\n",
       " (',', 'Fc', 'O'),\n",
       " ('25', 'Z', 'O'),\n",
       " ('may', 'NC', 'O'),\n",
       " ('(', 'Fpa', 'O'),\n",
       " ('EFE', 'NC', 'B-ORG'),\n",
       " (')', 'Fpt', 'O'),\n",
       " ('.', 'Fp', 'O')]"
      ]
     },
     "execution_count": 4,
     "metadata": {},
     "output_type": "execute_result"
    }
   ],
   "source": [
    "train_sents[0]"
   ]
  },
  {
   "cell_type": "markdown",
   "id": "f4e7ab7e",
   "metadata": {},
   "source": [
    "## Features\n",
    "\n",
    "Next, define some features. In this example we use word identity, word suffix, word shape and word POS tag; also, some information from nearby words is used.\n",
    "\n",
    "This makes a simple baseline, but you certainly can add and remove some features to get (much?) better results - experiment with it.\n",
    "\n",
    "The sklearn-crfsuite (and python-crfsuite) library supports several feature formats; here we use feature dicts."
   ]
  },
  {
   "cell_type": "code",
   "execution_count": 5,
   "id": "c8abc3f7",
   "metadata": {},
   "outputs": [],
   "source": [
    "def word2features(sent, i):\n",
    "    word = sent[i][0]\n",
    "    postag = sent[i][1]\n",
    "    \n",
    "    features = {\n",
    "        'bias': 1.0,\n",
    "        'word.lower()': word.lower(),\n",
    "        'word[-3:]': word[-3:],\n",
    "        'word[-2:]': word[-2:],\n",
    "        'word.isupper()': word.isupper(),\n",
    "        'word.istitle()': word.istitle(),\n",
    "        'word.isdigit()': word.isdigit(),\n",
    "        'postag': postag,\n",
    "        'postag[:2]': postag[:2],        \n",
    "    }\n",
    "    if i > 0:\n",
    "        word1 = sent[i-1][0]\n",
    "        postag1 = sent[i-1][1]\n",
    "        features.update({\n",
    "            '-1:word.lower()': word1.lower(),\n",
    "            '-1:word.istitle()': word1.istitle(),\n",
    "            '-1:word.isupper()': word1.isupper(),\n",
    "            '-1:postag': postag1,\n",
    "            '-1:postag[:2]': postag1[:2],\n",
    "        })\n",
    "    else:\n",
    "        features['BOS'] = True\n",
    "        \n",
    "    if i < len(sent)-1:\n",
    "        word1 = sent[i+1][0]\n",
    "        postag1 = sent[i+1][1]\n",
    "        features.update({\n",
    "            '+1:word.lower()': word1.lower(),\n",
    "            '+1:word.istitle()': word1.istitle(),\n",
    "            '+1:word.isupper()': word1.isupper(),\n",
    "            '+1:postag': postag1,\n",
    "            '+1:postag[:2]': postag1[:2],\n",
    "        })\n",
    "    else:\n",
    "        features['EOS'] = True\n",
    "                \n",
    "    return features\n",
    "\n",
    "def sent2features(sent):\n",
    "    return [word2features(sent, i) for i in range(len(sent))]\n",
    "\n",
    "def sent2labels(sent):\n",
    "    return [label for token, postag, label in sent]\n",
    "\n",
    "def sent2tokens(sent):\n",
    "    return [token for token, postag, label in sent]"
   ]
  },
  {
   "cell_type": "markdown",
   "id": "15120cea",
   "metadata": {},
   "source": [
    "This is what word2features extracts:"
   ]
  },
  {
   "cell_type": "code",
   "execution_count": 6,
   "id": "d644a868",
   "metadata": {},
   "outputs": [
    {
     "data": {
      "text/plain": [
       "{'bias': 1.0,\n",
       " 'word.lower()': 'melbourne',\n",
       " 'word[-3:]': 'rne',\n",
       " 'word[-2:]': 'ne',\n",
       " 'word.isupper()': False,\n",
       " 'word.istitle()': True,\n",
       " 'word.isdigit()': False,\n",
       " 'postag': 'NP',\n",
       " 'postag[:2]': 'NP',\n",
       " 'BOS': True,\n",
       " '+1:word.lower()': '(',\n",
       " '+1:word.istitle()': False,\n",
       " '+1:word.isupper()': False,\n",
       " '+1:postag': 'Fpa',\n",
       " '+1:postag[:2]': 'Fp'}"
      ]
     },
     "execution_count": 6,
     "metadata": {},
     "output_type": "execute_result"
    }
   ],
   "source": [
    "sent2features(train_sents[0])[0]"
   ]
  },
  {
   "cell_type": "markdown",
   "id": "16aa80a0",
   "metadata": {},
   "source": [
    "Extract features from the data:"
   ]
  },
  {
   "cell_type": "code",
   "execution_count": 7,
   "id": "59cd3525",
   "metadata": {},
   "outputs": [
    {
     "name": "stdout",
     "output_type": "stream",
     "text": [
      "CPU times: user 964 ms, sys: 93.3 ms, total: 1.06 s\n",
      "Wall time: 1.06 s\n"
     ]
    }
   ],
   "source": [
    "%%time\n",
    "X_train = [sent2features(s) for s in train_sents]\n",
    "y_train = [sent2labels(s) for s in train_sents]\n",
    "X_test = [sent2features(s) for s in test_sents]\n",
    "y_test = [sent2labels(s) for s in test_sents]"
   ]
  },
  {
   "cell_type": "markdown",
   "id": "d9450bbc",
   "metadata": {},
   "source": [
    "## Training\n",
    "To see all possible CRF parameters check its docstring. Here we are useing L-BFGS training algorithm (it is default) with Elastic Net (L1 + L2) regularization."
   ]
  },
  {
   "cell_type": "code",
   "execution_count": 8,
   "id": "f6eb7ad3",
   "metadata": {},
   "outputs": [
    {
     "name": "stdout",
     "output_type": "stream",
     "text": [
      "CPU times: user 34.8 s, sys: 234 ms, total: 35.1 s\n",
      "Wall time: 35.1 s\n"
     ]
    },
    {
     "name": "stderr",
     "output_type": "stream",
     "text": [
      "/Users/matthias/opt/anaconda3/envs/nlu/lib/python3.8/site-packages/sklearn/base.py:209: FutureWarning: From version 0.24, get_params will raise an AttributeError if a parameter cannot be retrieved as an instance attribute. Previously it would return None.\n",
      "  warnings.warn('From version 0.24, get_params will raise an '\n"
     ]
    },
    {
     "data": {
      "text/plain": [
       "CRF(algorithm='lbfgs', all_possible_transitions=True, c1=0.1, c2=0.1,\n",
       "    keep_tempfiles=None, max_iterations=100)"
      ]
     },
     "execution_count": 8,
     "metadata": {},
     "output_type": "execute_result"
    }
   ],
   "source": [
    "%%time\n",
    "crf = sklearn_crfsuite.CRF(\n",
    "    algorithm='lbfgs', \n",
    "    c1=0.1, # L1 cost\n",
    "    c2=0.1, # L2 cost\n",
    "    max_iterations=100, \n",
    "    all_possible_transitions=True\n",
    ")\n",
    "crf.fit(X_train, y_train)"
   ]
  },
  {
   "cell_type": "markdown",
   "id": "0bb7d1d9",
   "metadata": {},
   "source": [
    "## Evaluation\n",
    "There is much more O entities in data set, but we’re more interested in other entities. To account for this we’ll use averaged F1 score computed for all labels except for O. The `sklearn-crfsuite.metrics` package provides some useful metrics for sequence classification task, including this one."
   ]
  },
  {
   "cell_type": "code",
   "execution_count": 9,
   "id": "6b50dd92",
   "metadata": {},
   "outputs": [
    {
     "data": {
      "text/plain": [
       "['B-LOC', 'B-ORG', 'B-PER', 'I-PER', 'B-MISC', 'I-ORG', 'I-LOC', 'I-MISC']"
      ]
     },
     "execution_count": 9,
     "metadata": {},
     "output_type": "execute_result"
    }
   ],
   "source": [
    "labels = list(crf.classes_)\n",
    "labels.remove('O')\n",
    "labels"
   ]
  },
  {
   "cell_type": "code",
   "execution_count": 10,
   "id": "0a8eda34",
   "metadata": {},
   "outputs": [
    {
     "data": {
      "text/plain": [
       "0.7964686316443963"
      ]
     },
     "execution_count": 10,
     "metadata": {},
     "output_type": "execute_result"
    }
   ],
   "source": [
    "y_pred = crf.predict(X_test)\n",
    "metrics.flat_f1_score(y_test, y_pred, average='weighted', labels=labels)"
   ]
  },
  {
   "cell_type": "markdown",
   "id": "2339bcb0",
   "metadata": {},
   "source": [
    "Inspect per-class results in more detail:"
   ]
  },
  {
   "cell_type": "code",
   "execution_count": 11,
   "id": "a2c59c1f",
   "metadata": {},
   "outputs": [
    {
     "name": "stderr",
     "output_type": "stream",
     "text": [
      "/Users/matthias/opt/anaconda3/envs/nlu/lib/python3.8/site-packages/sklearn/utils/validation.py:67: FutureWarning: Pass labels=['B-LOC', 'I-LOC', 'B-MISC', 'I-MISC', 'B-ORG', 'I-ORG', 'B-PER', 'I-PER'] as keyword args. From version 0.25 passing these as positional arguments will result in an error\n",
      "  warnings.warn(\"Pass {} as keyword args. From version 0.25 \"\n"
     ]
    },
    {
     "name": "stdout",
     "output_type": "stream",
     "text": [
      "              precision    recall  f1-score   support\n",
      "\n",
      "       B-LOC      0.810     0.784     0.797      1084\n",
      "       I-LOC      0.690     0.637     0.662       325\n",
      "      B-MISC      0.731     0.569     0.640       339\n",
      "      I-MISC      0.699     0.589     0.639       557\n",
      "       B-ORG      0.807     0.832     0.820      1400\n",
      "       I-ORG      0.852     0.786     0.818      1104\n",
      "       B-PER      0.850     0.884     0.867       735\n",
      "       I-PER      0.893     0.943     0.917       634\n",
      "\n",
      "   micro avg      0.813     0.787     0.799      6178\n",
      "   macro avg      0.791     0.753     0.770      6178\n",
      "weighted avg      0.809     0.787     0.796      6178\n",
      "\n"
     ]
    }
   ],
   "source": [
    "# group B and I results\n",
    "sorted_labels = sorted(labels, key=lambda name: (name[1:], name[0]))\n",
    "print(metrics.flat_classification_report(y_test, y_pred, labels=sorted_labels, digits=3))"
   ]
  },
  {
   "cell_type": "markdown",
   "id": "90ec01ef",
   "metadata": {},
   "source": [
    "# Hyperparameter Optimization\n",
    "\n",
    "To improve quality try to select regularization parameters using randomized search and 3-fold cross-validation.\n",
    "\n",
    "I takes quite a lot of CPU time and RAM (we're fitting a model 50 * 3 = 150 times), so grab a tea and be patient, or reduce n_iter in RandomizedSearchCV, or fit model only on a subset of training data."
   ]
  },
  {
   "cell_type": "code",
   "execution_count": 12,
   "id": "f3c597df",
   "metadata": {},
   "outputs": [
    {
     "name": "stdout",
     "output_type": "stream",
     "text": [
      "Fitting 3 folds for each of 50 candidates, totalling 150 fits\n"
     ]
    },
    {
     "name": "stderr",
     "output_type": "stream",
     "text": [
      "[Parallel(n_jobs=-1)]: Using backend LokyBackend with 8 concurrent workers.\n",
      "[Parallel(n_jobs=-1)]: Done  34 tasks      | elapsed:  5.0min\n",
      "[Parallel(n_jobs=-1)]: Done 150 out of 150 | elapsed: 18.8min finished\n"
     ]
    },
    {
     "name": "stdout",
     "output_type": "stream",
     "text": [
      "CPU times: user 3min 19s, sys: 10.7 s, total: 3min 29s\n",
      "Wall time: 19min 21s\n"
     ]
    },
    {
     "data": {
      "text/plain": [
       "RandomizedSearchCV(cv=3,\n",
       "                   estimator=CRF(algorithm='lbfgs',\n",
       "                                 all_possible_transitions=True,\n",
       "                                 keep_tempfiles=None, max_iterations=100),\n",
       "                   n_iter=50, n_jobs=-1,\n",
       "                   param_distributions={'c1': <scipy.stats._distn_infrastructure.rv_frozen object at 0x7fe54bf63df0>,\n",
       "                                        'c2': <scipy.stats._distn_infrastructure.rv_frozen object at 0x7fe53b9f30d0>},\n",
       "                   scoring=make_scorer(flat_f1_score, average=weighted, labels=['B-LOC', 'B-ORG', 'B-PER', 'I-PER', 'B-MISC', 'I-ORG', 'I-LOC', 'I-MISC']),\n",
       "                   verbose=1)"
      ]
     },
     "execution_count": 12,
     "metadata": {},
     "output_type": "execute_result"
    }
   ],
   "source": [
    "%%time\n",
    "# define fixed parameters and parameters to search\n",
    "crf = sklearn_crfsuite.CRF(algorithm='lbfgs', max_iterations=100, all_possible_transitions=True)\n",
    "params_space = {\n",
    "    'c1': scipy.stats.expon(scale=0.5),\n",
    "    'c2': scipy.stats.expon(scale=0.05),\n",
    "}\n",
    "# use the same metric for evaluation\n",
    "f1_scorer = make_scorer(metrics.flat_f1_score, average='weighted', labels=labels)\n",
    "# search\n",
    "rs = RandomizedSearchCV(crf, params_space, cv=3, verbose=1, n_jobs=-1, n_iter=50, scoring=f1_scorer)\n",
    "rs.fit(X_train, y_train)"
   ]
  },
  {
   "cell_type": "markdown",
   "id": "a4f87679",
   "metadata": {},
   "source": [
    "*Results*"
   ]
  },
  {
   "cell_type": "code",
   "execution_count": 13,
   "id": "53e3a09b",
   "metadata": {},
   "outputs": [
    {
     "name": "stdout",
     "output_type": "stream",
     "text": [
      "best params: {'c1': 0.15831138047806773, 'c2': 0.011052053727829287}\n",
      "best CV score: 0.7488774434774083\n",
      "model size: 1.15M\n"
     ]
    }
   ],
   "source": [
    "# crf = rs.best_estimator_\n",
    "print('best params:', rs.best_params_)\n",
    "print('best CV score:', rs.best_score_)\n",
    "print('model size: {:0.2f}M'.format(rs.best_estimator_.size_ / 1000000))"
   ]
  },
  {
   "cell_type": "markdown",
   "id": "65da4ecb",
   "metadata": {},
   "source": [
    "## Check parameter space\n",
    "\n",
    "A chart which shows which `c1` and `c2` values have RandomizedSearchCV checked. Red color means better results, blue means worse."
   ]
  },
  {
   "cell_type": "code",
   "execution_count": 14,
   "id": "918a57c5",
   "metadata": {},
   "outputs": [
    {
     "name": "stdout",
     "output_type": "stream",
     "text": [
      "dict_keys(['mean_fit_time', 'std_fit_time', 'mean_score_time', 'std_score_time', 'param_c1', 'param_c2', 'params', 'split0_test_score', 'split1_test_score', 'split2_test_score', 'mean_test_score', 'std_test_score', 'rank_test_score'])\n",
      "most bluish (bad) = 0.7073, most reddish (good) = 0.7489\n"
     ]
    },
    {
     "data": {
      "image/png": "[encoded data removed]",
      "text/plain": [
       "<Figure size 864x864 with 1 Axes>"
      ]
     },
     "metadata": {},
     "output_type": "display_data"
    }
   ],
   "source": [
    "print(rs.cv_results_.keys())\n",
    "_x = [rs.cv_results_[\"param_c1\"][i] for i in range(len(rs.cv_results_[\"param_c1\"]))]\n",
    "_y = [rs.cv_results_[\"param_c2\"][i] for i in range(len(rs.cv_results_[\"param_c2\"]))]\n",
    "_c = [rs.cv_results_[\"mean_test_score\"][i] for i in range(len(rs.cv_results_[\"mean_test_score\"]))]\n",
    "#_x = [s.parameters['c1'] for s in rs.grid_scores_]\n",
    "#_y = [s.parameters['c2'] for s in rs.grid_scores_]\n",
    "#_c = [s.mean_validation_score for s in rs.grid_scores_]\n",
    "fig = plt.figure()\n",
    "fig.set_size_inches(12, 12)\n",
    "ax = plt.gca()\n",
    "ax.set_yscale('log')\n",
    "ax.set_xscale('log')\n",
    "ax.set_xlabel('C1')\n",
    "ax.set_ylabel('C2')\n",
    "ax.set_title(\"Randomized Hyperparameter Search CV Results (min={:0.3}, max={:0.3})\".format(min(_c), max(_c)))\n",
    "ax.scatter(_x, _y, c=_c, s=60, alpha=0.9, edgecolors=[0,0,0])\n",
    "print(\"most bluish (bad) = {:0.4}, most reddish (good) = {:0.4}\".format(min(_c), max(_c)))"
   ]
  },
  {
   "cell_type": "markdown",
   "id": "de5db920",
   "metadata": {},
   "source": [
    "## Check best estimator on our test data\n",
    "\n",
    "As you can see, quality has improved."
   ]
  },
  {
   "cell_type": "code",
   "execution_count": 15,
   "id": "8eb64545",
   "metadata": {},
   "outputs": [
    {
     "name": "stdout",
     "output_type": "stream",
     "text": [
      "              precision    recall  f1-score   support\n",
      "\n",
      "       B-LOC      0.801     0.777     0.789      1084\n",
      "       I-LOC      0.680     0.634     0.656       325\n",
      "      B-MISC      0.732     0.555     0.631       339\n",
      "      I-MISC      0.702     0.589     0.641       557\n",
      "       B-ORG      0.807     0.834     0.820      1400\n",
      "       I-ORG      0.849     0.785     0.816      1104\n",
      "       B-PER      0.845     0.886     0.865       735\n",
      "       I-PER      0.887     0.945     0.915       634\n",
      "\n",
      "   micro avg      0.809     0.785     0.797      6178\n",
      "   macro avg      0.788     0.751     0.767      6178\n",
      "weighted avg      0.806     0.785     0.794      6178\n",
      "\n"
     ]
    }
   ],
   "source": [
    "crf = rs.best_estimator_\n",
    "y_pred = crf.predict(X_test)\n",
    "print(metrics.flat_classification_report(y_test, y_pred, labels=sorted_labels, digits=3))"
   ]
  },
  {
   "cell_type": "markdown",
   "id": "8f4491e9",
   "metadata": {},
   "source": [
    "## Let's check what classifier learned"
   ]
  },
  {
   "cell_type": "code",
   "execution_count": 16,
   "id": "9c732bf2",
   "metadata": {},
   "outputs": [
    {
     "name": "stdout",
     "output_type": "stream",
     "text": [
      "Top likely transitions:\n",
      "B-ORG  -> I-ORG   7.335104\n",
      "I-ORG  -> I-ORG   7.182332\n",
      "B-MISC -> I-MISC  6.590855\n",
      "I-MISC -> I-MISC  6.529036\n",
      "B-PER  -> I-PER   5.985198\n",
      "B-LOC  -> I-LOC   5.442185\n",
      "I-LOC  -> I-LOC   4.705227\n",
      "I-PER  -> I-PER   4.522220\n",
      "O      -> O       4.273930\n",
      "O      -> B-ORG   2.787985\n",
      "O      -> B-PER   2.343052\n",
      "O      -> B-LOC   1.906944\n",
      "O      -> B-MISC  1.594453\n",
      "B-ORG  -> O       0.343345\n",
      "I-PER  -> B-LOC   0.082920\n",
      "B-LOC  -> B-LOC   0.076873\n",
      "B-MISC -> B-ORG   -0.000233\n",
      "B-MISC -> O       -0.090696\n",
      "B-LOC  -> O       -0.235140\n",
      "B-ORG  -> B-LOC   -0.262194\n",
      "\n",
      "Top unlikely transitions:\n",
      "I-MISC -> I-ORG   -3.146758\n",
      "I-LOC  -> I-PER   -3.297362\n",
      "B-ORG  -> I-LOC   -3.317147\n",
      "I-LOC  -> B-MISC  -3.401077\n",
      "I-PER  -> B-ORG   -3.426563\n",
      "I-ORG  -> I-PER   -3.455197\n",
      "I-PER  -> I-LOC   -3.472904\n",
      "I-MISC -> I-PER   -3.547933\n",
      "B-PER  -> B-MISC  -3.568035\n",
      "I-ORG  -> B-MISC  -3.855506\n",
      "B-ORG  -> B-MISC  -3.882630\n",
      "B-PER  -> B-PER   -3.913008\n",
      "I-ORG  -> I-LOC   -3.926586\n",
      "I-MISC -> I-LOC   -3.967749\n",
      "I-PER  -> B-MISC  -4.081854\n",
      "B-MISC -> B-MISC  -4.477959\n",
      "O      -> I-MISC  -6.581443\n",
      "O      -> I-ORG   -6.834067\n",
      "O      -> I-PER   -7.452589\n",
      "O      -> I-LOC   -7.709590\n"
     ]
    }
   ],
   "source": [
    "def print_transitions(trans_features):\n",
    "    for (label_from, label_to), weight in trans_features:\n",
    "        print(\"%-6s -> %-7s %0.6f\" % (label_from, label_to, weight))\n",
    "\n",
    "print(\"Top likely transitions:\")\n",
    "print_transitions(Counter(crf.transition_features_).most_common(20))\n",
    "print(\"\\nTop unlikely transitions:\")\n",
    "print_transitions(Counter(crf.transition_features_).most_common()[-20:])"
   ]
  },
  {
   "cell_type": "markdown",
   "id": "dfb59f8c",
   "metadata": {},
   "source": [
    "We can see that, for example, it is very likely that the beginning of an organization name (B-ORG) will be followed by a token inside organization name (I-ORG), but transitions to I-ORG from tokens with other labels are penalized.\n",
    "\n",
    "Check the state features:"
   ]
  },
  {
   "cell_type": "code",
   "execution_count": 17,
   "id": "b0d51d4a",
   "metadata": {},
   "outputs": [
    {
     "name": "stdout",
     "output_type": "stream",
     "text": [
      "Top positive:\n",
      "14.315880 B-ORG    word.lower():efe-cantabria\n",
      "12.231644 B-ORG    word.lower():psoe-progresistas\n",
      "9.969028 B-ORG    word.lower():petrobras\n",
      "9.552977 I-ORG    -1:word.lower():l\n",
      "9.425149 B-ORG    word.lower():coag-extremadura\n",
      "8.845923 B-LOC    +1:word.lower():finalizaron\n",
      "8.721312 I-ORG    -1:word.lower():rasd\n",
      "8.468674 B-ORG    word[-2:]:-e\n",
      "8.442209 B-MISC   word.lower():cc2305001730\n",
      "7.755989 B-PER    word.lower():orduña\n",
      "7.645402 B-ORG    word.lower():xfera\n",
      "7.598324 I-ORG    -1:word.lower():ag\n",
      "7.566108 B-ORG    word.lower():eu-ecologista\n",
      "7.330622 B-ORG    +1:word.lower():plasencia\n",
      "7.212976 B-ORG    -1:word.lower():sociolaboral\n",
      "7.126636 B-ORG    -1:word.lower():distancia\n",
      "7.049417 B-MISC   word.lower():diversia\n",
      "6.875352 B-ORG    word.lower():esquerra\n",
      "6.836758 B-ORG    +1:word.lower():hara\n",
      "6.774600 B-LOC    -1:word.lower():cantabria\n",
      "6.729462 B-PER    word.lower():salva\n",
      "6.717146 B-PER    word.lower():reinas\n",
      "6.614535 I-LOC    -1:word.lower():calle\n",
      "6.549403 I-PER    -1:word.lower():juanito\n",
      "6.488804 B-LOC    -1:word.lower():celebrarán\n",
      "6.486364 B-MISC   -1:word.lower():league\n",
      "6.444908 B-MISC   word.lower():vaciamadrid\n",
      "6.430072 I-MISC   -1:word.lower():1.9\n",
      "6.414432 B-PER    word.lower():valedor\n",
      "6.397954 I-PER    -1:word.lower():juli\n",
      "\n",
      "Top negative:\n",
      "-2.714740 O        +1:word.lower():río\n",
      "-2.790250 O        +1:word.lower():montaña\n",
      "-2.798239 O        -1:word.lower():sección\n",
      "-2.832101 O        word.lower():circo\n",
      "-2.834114 O        -1:word.lower():pardo\n",
      "-2.863569 B-MISC   -1:word.isupper()\n",
      "-2.875602 I-PER    +1:word.lower():del\n",
      "-2.995136 O        -1:word.lower():agora\n",
      "-3.042765 O        -1:word.lower():televisión\n",
      "-3.074434 O        word[-3:]:sil\n",
      "-3.143143 I-PER    word[-3:]:ico\n",
      "-3.263181 O        -1:word.lower():británica\n",
      "-3.266712 O        +1:word.lower():justicia\n",
      "-3.272225 B-PER    word[-3:]:nes\n",
      "-3.291122 B-LOC    word[-3:]:la\n",
      "-3.306832 I-PER    +1:word.lower():el\n",
      "-3.362755 O        -1:word.lower():padres\n",
      "-3.376267 O        word[-3:]:LOS\n",
      "-3.390765 O        -1:word.lower():concha\n",
      "-3.487009 O        -1:word.lower():sánchez\n",
      "-3.669982 O        word[-2:]:nd\n",
      "-3.980110 B-PER    -1:word.lower():del\n",
      "-4.026196 O        +1:word.lower():plasencia\n",
      "-4.217605 I-PER    -1:word.lower():san\n",
      "-4.282257 O        word.lower():mas\n",
      "-4.418609 O        word[-2:]:om\n",
      "-4.425139 O        -1:word.lower():españolas\n",
      "-6.072544 O        -1:word.lower():celebrarán\n",
      "-6.331881 O        word.isupper()\n",
      "-9.201265 O        word.istitle()\n"
     ]
    }
   ],
   "source": [
    "def print_state_features(state_features):\n",
    "    for (attr, label), weight in state_features:\n",
    "        print(\"%0.6f %-8s %s\" % (weight, label, attr))\n",
    "\n",
    "print(\"Top positive:\")\n",
    "print_state_features(Counter(crf.state_features_).most_common(30))\n",
    "\n",
    "print(\"\\nTop negative:\")\n",
    "print_state_features(Counter(crf.state_features_).most_common()[-30:])"
   ]
  }
 ],
 "metadata": {
  "kernelspec": {
   "display_name": "Python 3",
   "language": "python",
   "name": "python3"
  },
  "language_info": {
   "codemirror_mode": {
    "name": "ipython",
    "version": 3
   },
   "file_extension": ".py",
   "mimetype": "text/x-python",
   "name": "python",
   "nbconvert_exporter": "python",
   "pygments_lexer": "ipython3",
   "version": "3.8.8"
  }
 },
 "nbformat": 4,
 "nbformat_minor": 5
}
