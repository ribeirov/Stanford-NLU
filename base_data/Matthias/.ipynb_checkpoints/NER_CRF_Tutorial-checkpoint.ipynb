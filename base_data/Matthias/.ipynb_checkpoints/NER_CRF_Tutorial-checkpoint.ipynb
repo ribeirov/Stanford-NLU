{
 "cells": [
  {
   "cell_type": "markdown",
   "id": "172d573a",
   "metadata": {},
   "source": [
    "# NER tutorial with *sklearn-crfsuite*\n",
    "\n",
    "Uses `scikit-learn==0.23.2`!\n",
    "\n",
    "- https://sklearn-crfsuite.readthedocs.io/en/latest/tutorial.html#let-s-use-conll-2002-data-to-build-a-ner-system (NER tutorial website),\n",
    "- https://github.com/TeamHG-Memex/sklearn-crfsuite/blob/master/docs/CoNLL2002.ipynb (NER tutorial code on GitHub)\n",
    "- https://github.com/TeamHG-Memex/sklearn-crfsuite/issues/60 (GitHub issue with the original tutorial code when sklearn version >= 0.24)\n",
    " - https://stackoverflow.com/questions/66059532/attributeerror-crf-object-has-no-attribute-keep-tempfiles (related StackOverflow question)\n",
    " - https://stackoverflow.com/questions/59974146/installing-an-old-version-of-scikit-learn (realted StackOverflow solution)"
   ]
  },
  {
   "cell_type": "code",
   "execution_count": 1,
   "id": "93213b41",
   "metadata": {},
   "outputs": [],
   "source": [
    "%matplotlib inline\n",
    "import matplotlib.pyplot as plt\n",
    "from itertools import chain\n",
    "import nltk\n",
    "import sklearn\n",
    "import scipy.stats\n",
    "from sklearn.metrics import make_scorer\n",
    "#from sklearn.model_selection import cross_val_score\n",
    "from sklearn.model_selection import RandomizedSearchCV\n",
    "import sklearn_crfsuite\n",
    "from sklearn_crfsuite import scorers\n",
    "from sklearn_crfsuite import metrics\n",
    "from collections import Counter\n",
    "plt.style.use('ggplot')"
   ]
  },
  {
   "cell_type": "markdown",
   "id": "ef53f3a3",
   "metadata": {},
   "source": [
    "## Let’s use CoNLL 2002 data to build a NER system\n",
    "[CoNLL2002](https://paperswithcode.com/dataset/conll-2002) corpus is available in NLTK. We use Spanish data."
   ]
  },
  {
   "cell_type": "code",
   "execution_count": 2,
   "id": "49faf840",
   "metadata": {},
   "outputs": [
    {
     "data": {
      "text/plain": [
       "['esp.testa', 'esp.testb', 'esp.train', 'ned.testa', 'ned.testb', 'ned.train']"
      ]
     },
     "execution_count": 2,
     "metadata": {},
     "output_type": "execute_result"
    }
   ],
   "source": [
    "nltk.corpus.conll2002.fileids()"
   ]
  },
  {
   "cell_type": "code",
   "execution_count": 3,
   "id": "3b1fe691",
   "metadata": {},
   "outputs": [
    {
     "name": "stdout",
     "output_type": "stream",
     "text": [
      "CPU times: user 1.62 s, sys: 100 ms, total: 1.72 s\n",
      "Wall time: 1.72 s\n"
     ]
    }
   ],
   "source": [
    "%%time\n",
    "train_sents = list(nltk.corpus.conll2002.iob_sents('esp.train'))\n",
    "test_sents = list(nltk.corpus.conll2002.iob_sents('esp.testb'))"
   ]
  },
  {
   "cell_type": "code",
   "execution_count": 4,
   "id": "0cdd0298",
   "metadata": {},
   "outputs": [
    {
     "data": {
      "text/plain": [
       "[('Melbourne', 'NP', 'B-LOC'),\n",
       " ('(', 'Fpa', 'O'),\n",
       " ('Australia', 'NP', 'B-LOC'),\n",
       " (')', 'Fpt', 'O'),\n",
       " (',', 'Fc', 'O'),\n",
       " ('25', 'Z', 'O'),\n",
       " ('may', 'NC', 'O'),\n",
       " ('(', 'Fpa', 'O'),\n",
       " ('EFE', 'NC', 'B-ORG'),\n",
       " (')', 'Fpt', 'O'),\n",
       " ('.', 'Fp', 'O')]"
      ]
     },
     "execution_count": 4,
     "metadata": {},
     "output_type": "execute_result"
    }
   ],
   "source": [
    "train_sents[0]"
   ]
  },
  {
   "cell_type": "markdown",
   "id": "f4e7ab7e",
   "metadata": {},
   "source": [
    "## Features\n",
    "\n",
    "Next, define some features. In this example we use word identity, word suffix, word shape and word POS tag; also, some information from nearby words is used.\n",
    "\n",
    "This makes a simple baseline, but you certainly can add and remove some features to get (much?) better results - experiment with it.\n",
    "\n",
    "The sklearn-crfsuite (and python-crfsuite) library supports several feature formats; here we use feature dicts."
   ]
  },
  {
   "cell_type": "code",
   "execution_count": 5,
   "id": "c8abc3f7",
   "metadata": {},
   "outputs": [],
   "source": [
    "def word2features(sent, i):\n",
    "    word = sent[i][0]\n",
    "    postag = sent[i][1]\n",
    "    \n",
    "    features = {\n",
    "        'bias': 1.0,\n",
    "        'word.lower()': word.lower(),\n",
    "        'word[-3:]': word[-3:],\n",
    "        'word[-2:]': word[-2:],\n",
    "        'word.isupper()': word.isupper(),\n",
    "        'word.istitle()': word.istitle(),\n",
    "        'word.isdigit()': word.isdigit(),\n",
    "        'postag': postag,\n",
    "        'postag[:2]': postag[:2],        \n",
    "    }\n",
    "    if i > 0:\n",
    "        word1 = sent[i-1][0]\n",
    "        postag1 = sent[i-1][1]\n",
    "        features.update({\n",
    "            '-1:word.lower()': word1.lower(),\n",
    "            '-1:word.istitle()': word1.istitle(),\n",
    "            '-1:word.isupper()': word1.isupper(),\n",
    "            '-1:postag': postag1,\n",
    "            '-1:postag[:2]': postag1[:2],\n",
    "        })\n",
    "    else:\n",
    "        features['BOS'] = True\n",
    "        \n",
    "    if i < len(sent)-1:\n",
    "        word1 = sent[i+1][0]\n",
    "        postag1 = sent[i+1][1]\n",
    "        features.update({\n",
    "            '+1:word.lower()': word1.lower(),\n",
    "            '+1:word.istitle()': word1.istitle(),\n",
    "            '+1:word.isupper()': word1.isupper(),\n",
    "            '+1:postag': postag1,\n",
    "            '+1:postag[:2]': postag1[:2],\n",
    "        })\n",
    "    else:\n",
    "        features['EOS'] = True\n",
    "                \n",
    "    return features\n",
    "\n",
    "def sent2features(sent):\n",
    "    return [word2features(sent, i) for i in range(len(sent))]\n",
    "\n",
    "def sent2labels(sent):\n",
    "    return [label for token, postag, label in sent]\n",
    "\n",
    "def sent2tokens(sent):\n",
    "    return [token for token, postag, label in sent]"
   ]
  },
  {
   "cell_type": "markdown",
   "id": "15120cea",
   "metadata": {},
   "source": [
    "This is what word2features extracts:"
   ]
  },
  {
   "cell_type": "code",
   "execution_count": 6,
   "id": "d644a868",
   "metadata": {},
   "outputs": [
    {
     "data": {
      "text/plain": [
       "{'bias': 1.0,\n",
       " 'word.lower()': 'melbourne',\n",
       " 'word[-3:]': 'rne',\n",
       " 'word[-2:]': 'ne',\n",
       " 'word.isupper()': False,\n",
       " 'word.istitle()': True,\n",
       " 'word.isdigit()': False,\n",
       " 'postag': 'NP',\n",
       " 'postag[:2]': 'NP',\n",
       " 'BOS': True,\n",
       " '+1:word.lower()': '(',\n",
       " '+1:word.istitle()': False,\n",
       " '+1:word.isupper()': False,\n",
       " '+1:postag': 'Fpa',\n",
       " '+1:postag[:2]': 'Fp'}"
      ]
     },
     "execution_count": 6,
     "metadata": {},
     "output_type": "execute_result"
    }
   ],
   "source": [
    "sent2features(train_sents[0])[0]"
   ]
  },
  {
   "cell_type": "markdown",
   "id": "16aa80a0",
   "metadata": {},
   "source": [
    "Extract features from the data:"
   ]
  },
  {
   "cell_type": "code",
   "execution_count": 7,
   "id": "59cd3525",
   "metadata": {},
   "outputs": [
    {
     "name": "stdout",
     "output_type": "stream",
     "text": [
      "CPU times: user 951 ms, sys: 87.1 ms, total: 1.04 s\n",
      "Wall time: 1.04 s\n"
     ]
    }
   ],
   "source": [
    "%%time\n",
    "X_train = [sent2features(s) for s in train_sents]\n",
    "y_train = [sent2labels(s) for s in train_sents]\n",
    "X_test = [sent2features(s) for s in test_sents]\n",
    "y_test = [sent2labels(s) for s in test_sents]"
   ]
  },
  {
   "cell_type": "markdown",
   "id": "d9450bbc",
   "metadata": {},
   "source": [
    "## Training\n",
    "To see all possible CRF parameters check its docstring. Here we are useing L-BFGS training algorithm (it is default) with Elastic Net (L1 + L2) regularization."
   ]
  },
  {
   "cell_type": "code",
   "execution_count": 8,
   "id": "f6eb7ad3",
   "metadata": {},
   "outputs": [
    {
     "name": "stdout",
     "output_type": "stream",
     "text": [
      "CPU times: user 34.6 s, sys: 216 ms, total: 34.8 s\n",
      "Wall time: 34.8 s\n"
     ]
    },
    {
     "name": "stderr",
     "output_type": "stream",
     "text": [
      "/Users/matthias/opt/anaconda3/envs/nlu/lib/python3.8/site-packages/sklearn/base.py:209: FutureWarning: From version 0.24, get_params will raise an AttributeError if a parameter cannot be retrieved as an instance attribute. Previously it would return None.\n",
      "  warnings.warn('From version 0.24, get_params will raise an '\n"
     ]
    },
    {
     "data": {
      "text/plain": [
       "CRF(algorithm='lbfgs', all_possible_transitions=True, c1=0.1, c2=0.1,\n",
       "    keep_tempfiles=None, max_iterations=100)"
      ]
     },
     "execution_count": 8,
     "metadata": {},
     "output_type": "execute_result"
    }
   ],
   "source": [
    "%%time\n",
    "crf = sklearn_crfsuite.CRF(\n",
    "    algorithm='lbfgs', \n",
    "    c1=0.1, # L1 cost\n",
    "    c2=0.1, # L2 cost\n",
    "    max_iterations=100, \n",
    "    all_possible_transitions=True\n",
    ")\n",
    "crf.fit(X_train, y_train)"
   ]
  },
  {
   "cell_type": "markdown",
   "id": "0bb7d1d9",
   "metadata": {},
   "source": [
    "## Evaluation\n",
    "There is much more O entities in data set, but we’re more interested in other entities. To account for this we’ll use averaged F1 score computed for all labels except for O. The `sklearn-crfsuite.metrics` package provides some useful metrics for sequence classification task, including this one."
   ]
  },
  {
   "cell_type": "code",
   "execution_count": 9,
   "id": "6b50dd92",
   "metadata": {},
   "outputs": [
    {
     "data": {
      "text/plain": [
       "['B-LOC', 'B-ORG', 'B-PER', 'I-PER', 'B-MISC', 'I-ORG', 'I-LOC', 'I-MISC']"
      ]
     },
     "execution_count": 9,
     "metadata": {},
     "output_type": "execute_result"
    }
   ],
   "source": [
    "labels = list(crf.classes_)\n",
    "labels.remove('O')\n",
    "labels"
   ]
  },
  {
   "cell_type": "code",
   "execution_count": 10,
   "id": "0a8eda34",
   "metadata": {},
   "outputs": [
    {
     "data": {
      "text/plain": [
       "0.7964686316443963"
      ]
     },
     "execution_count": 10,
     "metadata": {},
     "output_type": "execute_result"
    }
   ],
   "source": [
    "y_pred = crf.predict(X_test)\n",
    "metrics.flat_f1_score(y_test, y_pred, average='weighted', labels=labels)"
   ]
  },
  {
   "cell_type": "markdown",
   "id": "2339bcb0",
   "metadata": {},
   "source": [
    "Inspect per-class results in more detail:"
   ]
  },
  {
   "cell_type": "code",
   "execution_count": 11,
   "id": "a2c59c1f",
   "metadata": {},
   "outputs": [
    {
     "name": "stderr",
     "output_type": "stream",
     "text": [
      "/Users/matthias/opt/anaconda3/envs/nlu/lib/python3.8/site-packages/sklearn/utils/validation.py:67: FutureWarning: Pass labels=['B-LOC', 'I-LOC', 'B-MISC', 'I-MISC', 'B-ORG', 'I-ORG', 'B-PER', 'I-PER'] as keyword args. From version 0.25 passing these as positional arguments will result in an error\n",
      "  warnings.warn(\"Pass {} as keyword args. From version 0.25 \"\n"
     ]
    },
    {
     "name": "stdout",
     "output_type": "stream",
     "text": [
      "              precision    recall  f1-score   support\n",
      "\n",
      "       B-LOC      0.810     0.784     0.797      1084\n",
      "       I-LOC      0.690     0.637     0.662       325\n",
      "      B-MISC      0.731     0.569     0.640       339\n",
      "      I-MISC      0.699     0.589     0.639       557\n",
      "       B-ORG      0.807     0.832     0.820      1400\n",
      "       I-ORG      0.852     0.786     0.818      1104\n",
      "       B-PER      0.850     0.884     0.867       735\n",
      "       I-PER      0.893     0.943     0.917       634\n",
      "\n",
      "   micro avg      0.813     0.787     0.799      6178\n",
      "   macro avg      0.791     0.753     0.770      6178\n",
      "weighted avg      0.809     0.787     0.796      6178\n",
      "\n"
     ]
    }
   ],
   "source": [
    "# group B and I results\n",
    "sorted_labels = sorted(labels, key=lambda name: (name[1:], name[0]))\n",
    "print(metrics.flat_classification_report(y_test, y_pred, labels=sorted_labels, digits=3))"
   ]
  },
  {
   "cell_type": "markdown",
   "id": "90ec01ef",
   "metadata": {},
   "source": [
    "# Hyperparameter Optimization\n",
    "\n",
    "To improve quality try to select regularization parameters using randomized search and 3-fold cross-validation.\n",
    "\n",
    "I takes quite a lot of CPU time and RAM (we're fitting a model 10 * 3 = 30 times), so grab a tea and be patient, or reduce n_iter in RandomizedSearchCV, or fit model only on a subset of training data."
   ]
  },
  {
   "cell_type": "code",
   "execution_count": 12,
   "id": "f3c597df",
   "metadata": {},
   "outputs": [
    {
     "name": "stdout",
     "output_type": "stream",
     "text": [
      "Fitting 3 folds for each of 10 candidates, totalling 30 fits\n"
     ]
    },
    {
     "name": "stderr",
     "output_type": "stream",
     "text": [
      "[Parallel(n_jobs=-1)]: Using backend LokyBackend with 8 concurrent workers.\n",
      "[Parallel(n_jobs=-1)]: Done  30 out of  30 | elapsed:  1.2min finished\n"
     ]
    },
    {
     "name": "stdout",
     "output_type": "stream",
     "text": [
      "CPU times: user 40.6 s, sys: 2.25 s, total: 42.9 s\n",
      "Wall time: 1min 21s\n"
     ]
    },
    {
     "data": {
      "text/plain": [
       "RandomizedSearchCV(cv=3,\n",
       "                   estimator=CRF(algorithm='lbfgs',\n",
       "                                 all_possible_transitions=True,\n",
       "                                 keep_tempfiles=None, max_iterations=10),\n",
       "                   n_jobs=-1,\n",
       "                   param_distributions={'c1': <scipy.stats._distn_infrastructure.rv_frozen object at 0x7fc2daf61790>,\n",
       "                                        'c2': <scipy.stats._distn_infrastructure.rv_frozen object at 0x7fc2daf61a30>},\n",
       "                   scoring=make_scorer(flat_f1_score, average=weighted, labels=['B-LOC', 'B-ORG', 'B-PER', 'I-PER', 'B-MISC', 'I-ORG', 'I-LOC', 'I-MISC']),\n",
       "                   verbose=1)"
      ]
     },
     "execution_count": 12,
     "metadata": {},
     "output_type": "execute_result"
    }
   ],
   "source": [
    "%%time\n",
    "# define fixed parameters and parameters to search\n",
    "crf = sklearn_crfsuite.CRF(algorithm='lbfgs', max_iterations=10, all_possible_transitions=True)\n",
    "params_space = {\n",
    "    'c1': scipy.stats.expon(scale=0.5),\n",
    "    'c2': scipy.stats.expon(scale=0.05),\n",
    "}\n",
    "# use the same metric for evaluation\n",
    "f1_scorer = make_scorer(metrics.flat_f1_score, average='weighted', labels=labels)\n",
    "# search\n",
    "rs = RandomizedSearchCV(crf, params_space, cv=3, verbose=1, n_jobs=-1, n_iter=10, scoring=f1_scorer)\n",
    "rs.fit(X_train, y_train)"
   ]
  },
  {
   "cell_type": "markdown",
   "id": "a4f87679",
   "metadata": {},
   "source": [
    "*Results*"
   ]
  },
  {
   "cell_type": "code",
   "execution_count": 13,
   "id": "53e3a09b",
   "metadata": {},
   "outputs": [
    {
     "name": "stdout",
     "output_type": "stream",
     "text": [
      "best params: {'c1': 0.05940307278482916, 'c2': 0.07298699451134853}\n",
      "best CV score: 0.43991614511163196\n",
      "model size: 4.80M\n"
     ]
    }
   ],
   "source": [
    "# crf = rs.best_estimator_\n",
    "print('best params:', rs.best_params_)\n",
    "print('best CV score:', rs.best_score_)\n",
    "print('model size: {:0.2f}M'.format(rs.best_estimator_.size_ / 1000000))"
   ]
  },
  {
   "cell_type": "markdown",
   "id": "65da4ecb",
   "metadata": {},
   "source": [
    "## Check parameter space\n",
    "\n",
    "A chart which shows which `c1` and `c2` values have RandomizedSearchCV checked. Red color means better results, blue means worse."
   ]
  },
  {
   "cell_type": "code",
   "execution_count": 14,
   "id": "918a57c5",
   "metadata": {},
   "outputs": [
    {
     "name": "stdout",
     "output_type": "stream",
     "text": [
      "dict_keys(['mean_fit_time', 'std_fit_time', 'mean_score_time', 'std_score_time', 'param_c1', 'param_c2', 'params', 'split0_test_score', 'split1_test_score', 'split2_test_score', 'mean_test_score', 'std_test_score', 'rank_test_score'])\n",
      "most bluish (bad) = 0.4383, most reddish (good) = 0.4399\n"
     ]
    },
    {
     "data": {
      "image/png": "[encoded data removed]",
      "text/plain": [
       "<Figure size 864x864 with 1 Axes>"
      ]
     },
     "metadata": {},
     "output_type": "display_data"
    }
   ],
   "source": [
    "print(rs.cv_results_.keys())\n",
    "_x = [rs.cv_results_[\"param_c1\"][i] for i in range(len(rs.cv_results_[\"param_c1\"]))]\n",
    "_y = [rs.cv_results_[\"param_c2\"][i] for i in range(len(rs.cv_results_[\"param_c2\"]))]\n",
    "_c = [rs.cv_results_[\"mean_test_score\"][i] for i in range(len(rs.cv_results_[\"mean_test_score\"]))]\n",
    "#_x = [s.parameters['c1'] for s in rs.grid_scores_]\n",
    "#_y = [s.parameters['c2'] for s in rs.grid_scores_]\n",
    "#_c = [s.mean_validation_score for s in rs.grid_scores_]\n",
    "fig = plt.figure()\n",
    "fig.set_size_inches(12, 12)\n",
    "ax = plt.gca()\n",
    "ax.set_yscale('log')\n",
    "ax.set_xscale('log')\n",
    "ax.set_xlabel('C1')\n",
    "ax.set_ylabel('C2')\n",
    "ax.set_title(\"Randomized Hyperparameter Search CV Results (min={:0.3}, max={:0.3})\".format(min(_c), max(_c)))\n",
    "ax.scatter(_x, _y, c=_c, s=60, alpha=0.9, edgecolors=[0,0,0])\n",
    "print(\"most bluish (bad) = {:0.4}, most reddish (good) = {:0.4}\".format(min(_c), max(_c)))"
   ]
  },
  {
   "cell_type": "markdown",
   "id": "de5db920",
   "metadata": {},
   "source": [
    "## Check best estimator on our test data\n",
    "\n",
    "As you can see, quality has improved."
   ]
  },
  {
   "cell_type": "code",
   "execution_count": 15,
   "id": "8eb64545",
   "metadata": {},
   "outputs": [
    {
     "name": "stdout",
     "output_type": "stream",
     "text": [
      "              precision    recall  f1-score   support\n",
      "\n",
      "       B-LOC      0.713     0.437     0.542      1084\n",
      "       I-LOC      0.292     0.022     0.040       325\n",
      "      B-MISC      0.000     0.000     0.000       339\n",
      "      I-MISC      0.000     0.000     0.000       557\n",
      "       B-ORG      0.559     0.706     0.624      1400\n",
      "       I-ORG      0.578     0.625     0.601      1104\n",
      "       B-PER      0.512     0.740     0.605       735\n",
      "       I-PER      0.558     0.916     0.693       634\n",
      "\n",
      "   micro avg      0.570     0.532     0.550      6178\n",
      "   macro avg      0.401     0.431     0.388      6178\n",
      "weighted avg      0.489     0.532     0.489      6178\n",
      "\n"
     ]
    }
   ],
   "source": [
    "crf = rs.best_estimator_\n",
    "y_pred = crf.predict(X_test)\n",
    "print(metrics.flat_classification_report(y_test, y_pred, labels=sorted_labels, digits=3))"
   ]
  },
  {
   "cell_type": "markdown",
   "id": "8f4491e9",
   "metadata": {},
   "source": [
    "## Let's check what classifier learned"
   ]
  },
  {
   "cell_type": "code",
   "execution_count": 16,
   "id": "9c732bf2",
   "metadata": {},
   "outputs": [
    {
     "name": "stdout",
     "output_type": "stream",
     "text": [
      "Top likely transitions:\n",
      "I-ORG  -> I-ORG   2.616527\n",
      "B-PER  -> I-PER   2.570798\n",
      "I-MISC -> I-MISC  2.314164\n",
      "O      -> O       2.118351\n",
      "B-ORG  -> I-ORG   2.017939\n",
      "B-MISC -> I-MISC  1.513306\n",
      "O      -> B-ORG   1.253480\n",
      "O      -> B-PER   1.125412\n",
      "B-LOC  -> I-LOC   0.978847\n",
      "I-LOC  -> I-LOC   0.864182\n",
      "O      -> B-LOC   0.717552\n",
      "I-PER  -> I-PER   0.689638\n",
      "O      -> B-MISC  0.626197\n",
      "B-ORG  -> O       0.045550\n",
      "I-MISC -> B-MISC  -0.102442\n",
      "B-MISC -> B-PER   -0.104431\n",
      "I-LOC  -> B-MISC  -0.104632\n",
      "B-MISC -> B-MISC  -0.111252\n",
      "B-MISC -> B-LOC   -0.117120\n",
      "B-MISC -> I-LOC   -0.125529\n",
      "\n",
      "Top unlikely transitions:\n",
      "I-ORG  -> O       -0.307854\n",
      "I-PER  -> I-ORG   -0.323395\n",
      "I-ORG  -> I-MISC  -0.325175\n",
      "B-PER  -> I-MISC  -0.332552\n",
      "B-LOC  -> I-PER   -0.351197\n",
      "I-ORG  -> B-ORG   -0.361760\n",
      "B-LOC  -> I-ORG   -0.380133\n",
      "I-PER  -> O       -0.402839\n",
      "B-ORG  -> I-MISC  -0.409746\n",
      "I-ORG  -> I-PER   -0.417274\n",
      "I-ORG  -> B-LOC   -0.425440\n",
      "B-MISC -> O       -0.459521\n",
      "B-PER  -> I-ORG   -0.460961\n",
      "I-MISC -> O       -0.502882\n",
      "B-ORG  -> I-PER   -0.505331\n",
      "B-PER  -> O       -0.654202\n",
      "O      -> I-LOC   -1.470929\n",
      "O      -> I-MISC  -1.817142\n",
      "O      -> I-PER   -1.851400\n",
      "O      -> I-ORG   -2.213822\n"
     ]
    }
   ],
   "source": [
    "def print_transitions(trans_features):\n",
    "    for (label_from, label_to), weight in trans_features:\n",
    "        print(\"%-6s -> %-7s %0.6f\" % (label_from, label_to, weight))\n",
    "\n",
    "print(\"Top likely transitions:\")\n",
    "print_transitions(Counter(crf.transition_features_).most_common(20))\n",
    "print(\"\\nTop unlikely transitions:\")\n",
    "print_transitions(Counter(crf.transition_features_).most_common()[-20:])"
   ]
  },
  {
   "cell_type": "markdown",
   "id": "dfb59f8c",
   "metadata": {},
   "source": [
    "We can see that, for example, it is very likely that the beginning of an organization name (B-ORG) will be followed by a token inside organization name (I-ORG), but transitions to I-ORG from tokens with other labels are penalized.\n",
    "\n",
    "Check the state features:"
   ]
  },
  {
   "cell_type": "code",
   "execution_count": 17,
   "id": "b0d51d4a",
   "metadata": {},
   "outputs": [
    {
     "name": "stdout",
     "output_type": "stream",
     "text": [
      "Top positive:\n",
      "2.328484 O        BOS\n",
      "2.316445 O        bias\n",
      "2.302970 B-ORG    word.isupper()\n",
      "2.092022 I-PER    -1:word.istitle()\n",
      "1.983010 O        postag[:2]:Fp\n",
      "1.968593 O        EOS\n",
      "1.379605 O        word.lower():.\n",
      "1.379605 O        word[-3:]:.\n",
      "1.379605 O        word[-2:]:.\n",
      "1.379605 O        postag:Fp\n",
      "1.219947 B-PER    word.istitle()\n",
      "1.095105 B-LOC    word.istitle()\n",
      "0.972220 O        word.lower():,\n",
      "0.972220 O        word[-3:]:,\n",
      "0.972220 O        word[-2:]:,\n",
      "0.972220 O        postag:Fc\n",
      "0.972220 O        postag[:2]:Fc\n",
      "0.949793 I-ORG    -1:word.istitle()\n",
      "0.858328 O        postag:DA\n",
      "0.858328 O        postag[:2]:DA\n",
      "0.773869 B-LOC    -1:word.lower():en\n",
      "0.772035 B-ORG    word.lower():efe\n",
      "0.764819 I-ORG    -1:word.lower():de\n",
      "0.749178 I-LOC    -1:word.istitle()\n",
      "0.743832 B-ORG    word.istitle()\n",
      "0.705341 I-MISC   -1:word.istitle()\n",
      "0.697014 I-PER    word.istitle()\n",
      "0.696315 B-ORG    word[-2:]:FE\n",
      "0.689156 B-ORG    word[-3:]:EFE\n",
      "0.688950 O        postag:RG\n",
      "\n",
      "Top negative:\n",
      "-0.376693 O        word[-2:]:de\n",
      "-0.386216 O        word[-2:]:ia\n",
      "-0.400671 B-MISC   -1:word.istitle()\n",
      "-0.422027 B-LOC    bias\n",
      "-0.426872 B-PER    -1:postag:DA\n",
      "-0.426872 B-PER    -1:postag[:2]:DA\n",
      "-0.445577 B-ORG    postag:SP\n",
      "-0.445577 B-ORG    postag[:2]:SP\n",
      "-0.447359 I-ORG    bias\n",
      "-0.471714 I-LOC    BOS\n",
      "-0.481688 B-LOC    -1:postag:NC\n",
      "-0.481688 B-LOC    -1:postag[:2]:NC\n",
      "-0.496652 B-ORG    bias\n",
      "-0.505736 O        word[-3:]:EFE\n",
      "-0.518269 O        word[-2:]:FE\n",
      "-0.527743 O        -1:word.lower():de\n",
      "-0.550781 O        word.lower():efe\n",
      "-0.551848 B-PER    -1:word.istitle()\n",
      "-0.556464 O        postag:NP\n",
      "-0.556464 O        postag[:2]:NP\n",
      "-0.580032 O        +1:word.lower():)\n",
      "-0.580032 O        +1:postag:Fpt\n",
      "-0.586148 O        -1:word.lower():(\n",
      "-0.586148 O        -1:postag:Fpa\n",
      "-0.643097 B-ORG    -1:word.istitle()\n",
      "-0.723898 B-LOC    -1:word.istitle()\n",
      "-0.735678 I-PER    bias\n",
      "-1.009764 O        +1:word.istitle()\n",
      "-2.947590 O        word.isupper()\n",
      "-4.833276 O        word.istitle()\n"
     ]
    }
   ],
   "source": [
    "def print_state_features(state_features):\n",
    "    for (attr, label), weight in state_features:\n",
    "        print(\"%0.6f %-8s %s\" % (weight, label, attr))\n",
    "\n",
    "print(\"Top positive:\")\n",
    "print_state_features(Counter(crf.state_features_).most_common(30))\n",
    "\n",
    "print(\"\\nTop negative:\")\n",
    "print_state_features(Counter(crf.state_features_).most_common()[-30:])"
   ]
  }
 ],
 "metadata": {
  "kernelspec": {
   "display_name": "Python 3",
   "language": "python",
   "name": "python3"
  },
  "language_info": {
   "codemirror_mode": {
    "name": "ipython",
    "version": 3
   },
   "file_extension": ".py",
   "mimetype": "text/x-python",
   "name": "python",
   "nbconvert_exporter": "python",
   "pygments_lexer": "ipython3",
   "version": "3.8.8"
  }
 },
 "nbformat": 4,
 "nbformat_minor": 5
}
