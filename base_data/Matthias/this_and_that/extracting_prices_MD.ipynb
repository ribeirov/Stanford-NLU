{
 "cells": [
  {
   "cell_type": "code",
   "execution_count": 4,
   "id": "e2afe6c0",
   "metadata": {
    "ExecuteTime": {
     "end_time": "2022-02-28T21:12:43.909551Z",
     "start_time": "2022-02-28T21:12:43.776924Z"
    }
   },
   "outputs": [
    {
     "name": "stdout",
     "output_type": "stream",
     "text": [
      "dict_keys(['Text'])\n",
      "3702\n"
     ]
    }
   ],
   "source": [
    "import pandas as pd\n",
    "import re\n",
    "di = pd.read_csv(\"../all_articles_in_text.csv\").to_dict(orient=\"list\")\n",
    "print(di.keys())\n",
    "text_list = di[\"Text\"]\n",
    "print(len(text_list))"
   ]
  },
  {
   "cell_type": "code",
   "execution_count": null,
   "id": "f9676304",
   "metadata": {
    "ExecuteTime": {
     "end_time": "2022-02-28T21:12:44.188961Z",
     "start_time": "2022-02-28T21:12:44.158194Z"
    }
   },
   "outputs": [],
   "source": []
  },
  {
   "cell_type": "code",
   "execution_count": 2,
   "id": "67aae55a",
   "metadata": {
    "ExecuteTime": {
     "end_time": "2022-03-01T16:56:27.553349Z",
     "start_time": "2022-03-01T16:56:27.530609Z"
    }
   },
   "outputs": [
    {
     "ename": "NameError",
     "evalue": "name 'df' is not defined",
     "output_type": "error",
     "traceback": [
      "\u001b[0;31m---------------------------------------------------------------------------\u001b[0m",
      "\u001b[0;31mNameError\u001b[0m                                 Traceback (most recent call last)",
      "\u001b[0;32m/tmp/ipykernel_146210/3073065394.py\u001b[0m in \u001b[0;36m<module>\u001b[0;34m\u001b[0m\n\u001b[0;32m----> 1\u001b[0;31m \u001b[0mdi\u001b[0m \u001b[0;34m=\u001b[0m \u001b[0mdf\u001b[0m\u001b[0;34m.\u001b[0m\u001b[0mto_dict\u001b[0m\u001b[0;34m(\u001b[0m\u001b[0morient\u001b[0m\u001b[0;34m=\u001b[0m\u001b[0;34m'list'\u001b[0m\u001b[0;34m)\u001b[0m \u001b[0;31m# dict in which elements are lists\u001b[0m\u001b[0;34m\u001b[0m\u001b[0;34m\u001b[0m\u001b[0m\n\u001b[0m\u001b[1;32m      2\u001b[0m \u001b[0mdi\u001b[0m\u001b[0;34m[\u001b[0m\u001b[0;34m'Text'\u001b[0m\u001b[0;34m]\u001b[0m\u001b[0;34m\u001b[0m\u001b[0;34m\u001b[0m\u001b[0m\n",
      "\u001b[0;31mNameError\u001b[0m: name 'df' is not defined"
     ]
    }
   ],
   "source": [
    "di = df.to_dict(orient='list') # dict in which elements are lists\n",
    "di['Text']"
   ]
  },
  {
   "cell_type": "code",
   "execution_count": null,
   "id": "93f45f7a",
   "metadata": {},
   "outputs": [],
   "source": [
    "di['Text'][0]"
   ]
  },
  {
   "cell_type": "code",
   "execution_count": null,
   "id": "13878fa0",
   "metadata": {},
   "outputs": [],
   "source": [
    "print(df.head())"
   ]
  },
  {
   "cell_type": "code",
   "execution_count": null,
   "id": "ec96cfcd",
   "metadata": {},
   "outputs": [],
   "source": [
    "def findPrices(text):\n",
    "    # regex = re.compile(r' (\\d{0,2}\\.?)?(\\d{3}\\.?\\d{3})? Euro') # no need to go up to 8-digits on price; 7 is enough\n",
    "    regex = re.compile(r' (\\d\\.?)?(\\d{3}\\.?\\d{3})? Euro') # updated version\n",
    "    return regex.finditer(text)"
   ]
  },
  {
   "cell_type": "code",
   "execution_count": null,
   "id": "35e49d6b",
   "metadata": {},
   "outputs": [],
   "source": [
    "print(di['Text'][0])"
   ]
  },
  {
   "cell_type": "code",
   "execution_count": null,
   "id": "70e4812a",
   "metadata": {},
   "outputs": [],
   "source": [
    "a=findPrices(di['Text'][0])\n",
    "for a_i in a:\n",
    "    print(a_i.group(0))"
   ]
  },
  {
   "cell_type": "code",
   "execution_count": null,
   "id": "a70c8827",
   "metadata": {},
   "outputs": [],
   "source": [
    "b='ahxs sdjklsd 11.500.000 Euro'\n",
    "a=findPrices(b)\n",
    "for a_i in a:\n",
    "    print(a_i.group(0))"
   ]
  },
  {
   "cell_type": "code",
   "execution_count": null,
   "id": "c1dc4f24",
   "metadata": {},
   "outputs": [],
   "source": [
    "x = lambda a: findPrices(a)"
   ]
  },
  {
   "cell_type": "code",
   "execution_count": null,
   "id": "13fe0db4",
   "metadata": {},
   "outputs": [],
   "source": [
    "def findPricesList(auxList,i):\n",
    "    return findPrices(auxList[i])"
   ]
  },
  {
   "cell_type": "code",
   "execution_count": null,
   "id": "33f2fde2",
   "metadata": {},
   "outputs": [],
   "source": [
    "a = findPricesList(di['Text'],0)\n",
    "for a_i in a:\n",
    "    print(a_i.group(0))"
   ]
  },
  {
   "cell_type": "code",
   "execution_count": null,
   "id": "b2478b87",
   "metadata": {},
   "outputs": [],
   "source": [
    "a=list(map(lambda i:findPricesList(di['Text'], i), range(0, len(di['Text']))))\n",
    "for i in range(0,len(a)):\n",
    "    for a_i in a[i]:\n",
    "        print(a_i.group(0))"
   ]
  }
 ],
 "metadata": {
  "kernelspec": {
   "display_name": "Python 3 (ipykernel)",
   "language": "python",
   "name": "python3"
  },
  "language_info": {
   "codemirror_mode": {
    "name": "ipython",
    "version": 3
   },
   "file_extension": ".py",
   "mimetype": "text/x-python",
   "name": "python",
   "nbconvert_exporter": "python",
   "pygments_lexer": "ipython3",
   "version": "3.9.7"
  },
  "toc": {
   "base_numbering": 1,
   "nav_menu": {},
   "number_sections": true,
   "sideBar": true,
   "skip_h1_title": false,
   "title_cell": "Table of Contents",
   "title_sidebar": "Contents",
   "toc_cell": false,
   "toc_position": {},
   "toc_section_display": true,
   "toc_window_display": false
  }
 },
 "nbformat": 4,
 "nbformat_minor": 5
}
