{
 "cells": [
  {
   "cell_type": "code",
   "execution_count": 3,
   "id": "2f0f2d94",
   "metadata": {
    "ExecuteTime": {
     "end_time": "2022-03-04T21:39:22.757412Z",
     "start_time": "2022-03-04T21:39:22.681396Z"
    }
   },
   "outputs": [],
   "source": [
    "import spacy\n",
    "import re\n",
    "\n",
    "nlp = spacy.load(\"blank:de\")\n",
    "doc = nlp(\"DORNBIRN In der Schulgasse in Dornbirn hat eine 71,93 Quadratmeter große Wohnung für einen Quadratmeterpreis von 5533,71 Euro den Besitzer gewechselt. Dieser beinhaltet auch einen Pkw-Abstellplatz. Käufer der Wohnung mit 9,86 Quadratmetern Terrasse ist die ValLiLean Beteiligungs- und Immobilienverwaltungs GmbH. Beim Verkäufer handelt es sich um die Karrenblick Projekt GmbH.  Der Kaufpreis liegt bei 398.040 Euro. Unterzeichnet wurde der Kaufvertrag am 18. September. Die Verbücherung datiert mit Oktober 2020.\")\n",
    "\n",
    "expression = r\"[Uu](nited|\\.?) ?[Ss](tates|\\.?)\"\n",
    "for match in re.finditer(expression, doc.text):\n",
    "    start, end = match.span()\n",
    "    span = doc.char_span(start, end)\n",
    "    # This is a Span object or None if match doesn't map to valid token sequence\n",
    "    if span is not None:\n",
    "        print(\"Found match:\", span.text)"
   ]
  },
  {
   "cell_type": "code",
   "execution_count": 52,
   "id": "e7f700ea",
   "metadata": {
    "ExecuteTime": {
     "end_time": "2022-03-08T09:39:41.834904Z",
     "start_time": "2022-03-08T09:39:41.827132Z"
    }
   },
   "outputs": [
    {
     "data": {
      "text/plain": [
       "{'label': 'GESAMTPREIS',\n",
       " 'pattern': [{'TEXT': {'REGEX': '^(\\\\d\\\\.?)?(\\\\d{3}\\\\.?\\\\d{3})?$'}}]}"
      ]
     },
     "execution_count": 52,
     "metadata": {},
     "output_type": "execute_result"
    }
   ],
   "source": [
    "s = r'{\"label\": \"GESAMTPREIS\", \"pattern\":[{\"TEXT\": {\"REGEX\":\"^(\\\\d\\\\.?)?(\\\\d{3}\\\\.?\\\\d{3})?$\"}}]}'\n",
    "json.loads(s)\n",
    "#\\^(\\\\d\\\\.?)?(\\\\d{3}\\\\.?\\\\d{3})?$\n"
   ]
  },
  {
   "cell_type": "code",
   "execution_count": 19,
   "id": "919cb516",
   "metadata": {
    "ExecuteTime": {
     "end_time": "2022-03-08T09:14:59.616419Z",
     "start_time": "2022-03-08T09:14:59.612095Z"
    }
   },
   "outputs": [],
   "source": [
    "import json"
   ]
  },
  {
   "cell_type": "code",
   "execution_count": 20,
   "id": "d32d6959",
   "metadata": {
    "ExecuteTime": {
     "end_time": "2022-03-08T09:15:00.239038Z",
     "start_time": "2022-03-08T09:15:00.232075Z"
    }
   },
   "outputs": [
    {
     "data": {
      "text/plain": [
       "{'label': 'GESAMTPREIS', 'pattern': [{'TEXT': {'REGEX': 'abc'}}]}"
      ]
     },
     "execution_count": 20,
     "metadata": {},
     "output_type": "execute_result"
    }
   ],
   "source": []
  },
  {
   "cell_type": "code",
   "execution_count": null,
   "id": "5d500ae6",
   "metadata": {},
   "outputs": [],
   "source": []
  }
 ],
 "metadata": {
  "kernelspec": {
   "display_name": "nlu",
   "language": "python",
   "name": "nlu"
  },
  "language_info": {
   "codemirror_mode": {
    "name": "ipython",
    "version": 3
   },
   "file_extension": ".py",
   "mimetype": "text/x-python",
   "name": "python",
   "nbconvert_exporter": "python",
   "pygments_lexer": "ipython3",
   "version": "3.8.12"
  },
  "toc": {
   "base_numbering": 1,
   "nav_menu": {},
   "number_sections": true,
   "sideBar": true,
   "skip_h1_title": false,
   "title_cell": "Table of Contents",
   "title_sidebar": "Contents",
   "toc_cell": false,
   "toc_position": {},
   "toc_section_display": true,
   "toc_window_display": false
  }
 },
 "nbformat": 4,
 "nbformat_minor": 5
}
