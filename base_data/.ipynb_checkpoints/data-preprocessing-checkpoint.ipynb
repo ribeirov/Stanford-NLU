{
 "cells": [
  {
   "cell_type": "markdown",
   "id": "c6b69ccb",
   "metadata": {},
   "source": [
    "# (1) TOWN Gazetteer + GESAMTPREIS Regex"
   ]
  },
  {
   "cell_type": "code",
   "execution_count": 16,
   "id": "6edd4fd3",
   "metadata": {},
   "outputs": [],
   "source": [
    "import json\n",
    "import pandas as pd\n",
    "import re\n",
    "from collections import Counter \n",
    "df = pd.read_csv('townsVoralberg.csv',names=['towns'])  "
   ]
  },
  {
   "cell_type": "code",
   "execution_count": 5,
   "id": "e04be575",
   "metadata": {},
   "outputs": [],
   "source": [
    "# output town gazetteer\n",
    "gemli = []\n",
    "for i in df.index:\n",
    "    di = {}\n",
    "    di['label'] = 'ORT'\n",
    "    di['pattern'] = [{'lower': df['towns'][i].lower()}]\n",
    "    gemli.append(di)\n",
    "gemli.append({\"label\": \"GESAMTPREIS\", \"pattern\":[{\"TEXT\": {\"REGEX\":\"^(\\\\d\\\\.?)?(\\\\d{3}\\\\.?\\\\d{3})?$\"}}]})\n",
    "with open('pattern_ort2.jsonl', 'w') as outfile:\n",
    "    for entry in gemli:\n",
    "        json.dump(entry, outfile)\n",
    "        outfile.write('\\n')"
   ]
  },
  {
   "cell_type": "markdown",
   "id": "04819e6b",
   "metadata": {},
   "source": [
    "# (2) Clean-up Annotation Inconsistencies"
   ]
  },
  {
   "cell_type": "markdown",
   "id": "8b514cef",
   "metadata": {},
   "source": [
    "This part of code changes file annotations.jsonl to remove last trailing non-alphanumeric character but only for those tokens that are the last in a chain of (possibly many) tokens classified in same class. In other words we leave unchanged non-alphanumeric characters that either don't appear in last character of token or appear in last character of a token that is part of a group of successive tokens all classified in the same label (named entity). For e.g. we want to change labelling of following tokens \"ABC GmbH.\" so as to only label \"ABC GmbH\" (i.e. removing the trailing \".\")"
   ]
  },
  {
   "cell_type": "code",
   "execution_count": 44,
   "id": "112e63de",
   "metadata": {},
   "outputs": [],
   "source": [
    "labels = ['ORT','STRASSE','FLAECHE','IMMO_TYP','GESAMTPREIS','TERRASSENGROESSE','KAEUFER','VERKAEUFER','DATUM_VERTRAG','DATUM_VERBUECHERUNG','QMPREIS']"
   ]
  },
  {
   "cell_type": "code",
   "execution_count": 326,
   "id": "0a4c4b4c",
   "metadata": {},
   "outputs": [],
   "source": [
    "with open('annotations.jsonl') as jsonl_file:\n",
    "    lines = jsonl_file.readlines()\n",
    "annot = [json.loads(line) for line in lines]"
   ]
  },
  {
   "cell_type": "markdown",
   "id": "bcb30cbd",
   "metadata": {},
   "source": [
    "now use labels in annotations['spans'] to add them to token-level data: annotations['tokens']"
   ]
  },
  {
   "cell_type": "code",
   "execution_count": 245,
   "id": "f3f86430",
   "metadata": {},
   "outputs": [],
   "source": [
    "def getSpansLabel(listDict,idxEnd): # this function returns the label from annot['spans'] that corresponds to index for end character\n",
    "    # listDict = annot[k]['spans']\n",
    "    # idxStart = start character from annot[k]['tokens'][i]['start']\n",
    "    for i in range(0,len(listDict)):\n",
    "        auxDict=listDict[i]\n",
    "        a_s, a_e = auxDict['start'], auxDict['end']\n",
    "        if idxEnd>=a_s: # i.e. in any case stop when idxStart < a_s (as dict tokens are ordered ASC in list; i.e. by order they appear in text)\n",
    "            if (idxEnd>=a_s and idxEnd<=a_e): \n",
    "                return auxDict['label'] \n",
    "            elif i==len(listDict)-1: #case where idxStart > 'end' key of last dict in list\n",
    "                if idxEnd>a_e:\n",
    "                    return 'O'\n",
    "        else: return 'O'"
   ]
  },
  {
   "cell_type": "markdown",
   "id": "72922a58",
   "metadata": {},
   "source": [
    "Apply labels from 'spans' dictionary to tokens for subsequent processing (e.g. in CRF model)"
   ]
  },
  {
   "cell_type": "code",
   "execution_count": 327,
   "id": "382fc0b3",
   "metadata": {},
   "outputs": [],
   "source": [
    "# now use getLabel function and loop through all items of annot list:\n",
    "    \n",
    "for j in range(0,len(annot)):\n",
    "    a = annot[j]\n",
    "    # select list of dict of tokens w/ annnotations and add column w/ no. of words to each dict:\n",
    "    b = a['spans']\n",
    "    # add noWords to b dict. note: b is list of dicts w/ annotations; tokens not on this list don't have annotations\n",
    "    if b!=[]: #i.e. only try to add annotations to tokens if there are annotations to begin with\n",
    "        for i in range(0,len(b)): \n",
    "            b[i]['noWords']=b[i]['token_end']-b[i]['token_start']+1\n",
    "        #print(b)\n",
    "\n",
    "        # select dict of tokens\n",
    "        c = a['tokens']\n",
    "        # add label to each token\n",
    "        for i in range(0,len(c)):\n",
    "            c[i]['label'] = getSpansLabel(b,c[i]['end'])\n",
    "        annot[j]['tokens'] = c"
   ]
  },
  {
   "cell_type": "markdown",
   "id": "bf67ec6d",
   "metadata": {},
   "source": [
    "Next cell shows Counter of annotations that shall be changed"
   ]
  },
  {
   "cell_type": "code",
   "execution_count": 328,
   "id": "4ab5e9d7",
   "metadata": {},
   "outputs": [
    {
     "name": "stdout",
     "output_type": "stream",
     "text": [
      "Counter()\n",
      "Counter()\n",
      "Counter()\n",
      "Counter()\n",
      "Counter({'1.': 1})\n",
      "Counter()\n",
      "Counter({'gmbh.': 22, 'mbh.': 1})\n",
      "Counter({'gmbh.': 20, '..': 1})\n",
      "Counter({'2020.': 3, '2019.': 2, '25.04.2019.': 1, '2012.': 1})\n",
      "Counter({'2021.': 55, '2020.': 42, '2022.': 2, '2019.': 1})\n",
      "Counter()\n"
     ]
    }
   ],
   "source": [
    "# find situations where last token of same label ends with non-alphanumeric character\n",
    "for l in range(0,len(labels)):\n",
    "    out=[]\n",
    "    for k in range(0,len(annot)):\n",
    "        if annot[k]['spans']!=[]: # are there annot for this example?\n",
    "            j=len(annot[k]['tokens'])\n",
    "            for i in range(0,j-1):\n",
    "                if annot[k]['tokens'][i]['label']==labels[l]:\n",
    "                    if bool(re.match(r'\\W',annot[k]['tokens'][i]['text'].lower()[-1:])) and annot[k]['tokens'][i]['label'] != annot[k]['tokens'][i+1]['label']:\n",
    "                        out.append(annot[k]['tokens'][i]['text'].lower())\n",
    "                        #print(\"k/\"+str(k))\n",
    "        # now add for i=j-1 (i.e. last token in example; by definition this is last token in label)\n",
    "            if annot[k]['tokens'][j-1]['label']==labels[l]:\n",
    "                if bool(re.match(r'\\W',annot[k]['tokens'][j-1]['text'].lower()[-1:])):\n",
    "                    out.append(annot[k]['tokens'][j-1]['text'].lower())\n",
    "    out_count = Counter(out)\n",
    "    print(out_count)"
   ]
  },
  {
   "cell_type": "markdown",
   "id": "2f06aa5c",
   "metadata": {},
   "source": [
    "And now change the annotations programmatically"
   ]
  },
  {
   "cell_type": "code",
   "execution_count": 267,
   "id": "4f4c1dce",
   "metadata": {},
   "outputs": [],
   "source": [
    "def getSpansIndex(listDict,idxEnd): # this function returns the index from annot['spans'] that corresponds to index for start character\n",
    "    # listDict = annot[k]['spans']\n",
    "    # idxStart = start character from annot[k]['tokens'][i]['start']\n",
    "    for i in range(0,len(listDict)):\n",
    "        auxDict=listDict[i]\n",
    "        a_s, a_e = auxDict['start'], auxDict['end']\n",
    "        if idxEnd>=a_s: # i.e. in any case stop when idxStart < a_s (as dict tokens are ordered ASC in list; i.e. by order they appear in text)\n",
    "            if (idxEnd>=a_s and idxEnd<=a_e): \n",
    "                return i \n",
    "            elif i==len(listDict)-1: #case where idxStart > 'end' key of last dict in list\n",
    "                if idxEnd>a_e:\n",
    "                    return None\n",
    "        else: return None"
   ]
  },
  {
   "cell_type": "code",
   "execution_count": 329,
   "id": "73ebd08b",
   "metadata": {},
   "outputs": [],
   "source": [
    "# find situations where last token of same label (i.e. next token has different label) ends with non-alphanumeric character\n",
    "for k in range(0,len(annot)):\n",
    "    j=len(annot[k]['tokens'])\n",
    "    nAdded=0\n",
    "    i=0\n",
    "    if annot[k]['spans']!=[]: # are there annot for this example?\n",
    "        while i < j-1+nAdded:\n",
    "            if bool(re.match(r'\\W',annot[k]['tokens'][i]['text'].lower()[-1:])) and annot[k]['tokens'][i]['label'] != annot[k]['tokens'][i+1]['label'] and annot[k]['tokens'][i]['label'] !='O':\n",
    "                # NOTE: 'O' labels were only added programmatically above (and not added to 'spans') so we don't want to track them here\n",
    "                auxSpansRow = getSpansIndex(annot[k]['spans'],annot[k]['tokens'][i]['end'])\n",
    "                if len(annot[k]['tokens'][i]['text'])==1: # if token only has 1 char then replace label entirely by \"O\"\n",
    "                    annot[k]['tokens'][i]['label']=\"O\"\n",
    "                    # remove one word from annot[]['spans']:\n",
    "                    if annot[k]['spans'][auxSpansRow]['end']==annot[k]['spans'][auxSpansRow]['start']+1: #if class label only has this char\n",
    "                        del annot[k]['spans'][auxSpansRow] # can remove this entry entirely from ['spans'] list\n",
    "                    else:\n",
    "                        # reduce 'end' by 1 char and also 'token_end' and noWords by 1 \n",
    "                        annot[k]['spans'][auxSpansRow]['end'] = annot[k]['spans'][auxSpansRow]['end']-1\n",
    "                        annot[k]['spans'][auxSpansRow]['token_end'] = annot[k]['spans'][auxSpansRow]['token_end']-1\n",
    "                        annot[k]['spans'][auxSpansRow]['noWords'] = annot[k]['spans'][auxSpansRow]['noWords']-1\n",
    "                else: # token has more than 1 character\n",
    "                    # now add a separate token for this item\n",
    "                    annot[k]['tokens'].append({'text': annot[k]['tokens'][i]['text'][-1:], \n",
    "                                               'start': annot[k]['tokens'][i]['end']-1, \n",
    "                                               'end': annot[k]['tokens'][i]['end'], \n",
    "                                               'id': annot[k]['tokens'][i]['id']+1, #note: this id already incorporates chgs due to prior additions (if they exist)\n",
    "                                               'ws': True, 'label': 'O'})\n",
    "                    nAdded += 1 \n",
    "                    annot[k]['tokens'][i]['end']=annot[k]['tokens'][i]['end']-1 #update end index for this token\n",
    "                    annot[k]['tokens'][i]['text']=annot[k]['tokens'][i]['text'][:-1] #update text for this token\n",
    "                    # and ajust id's up by 1 on all remaining ones (ex all ones previously added i.e. end on j-1 as the one just added was add @ end of list)\n",
    "                    for m in range(i+1,j): \n",
    "                        annot[k]['tokens'][m]['id']=annot[k]['tokens'][m]['id']+1 \n",
    "                        #if m==j-1: # Debugging ...\n",
    "                            #print(\"nAdded=\"+str(nAdded))\n",
    "                            #print(\"m=\"+str(m))\n",
    "                            #print(\"maxIdx=\"+str(len(annot[k]['tokens'])-1))\n",
    "                    # in this case only need to reduce end index of ['spans'] by 1; no tokens w/ label are unchanged\n",
    "                    annot[k]['spans'][auxSpansRow]['end'] = annot[k]['spans'][auxSpansRow]['end']-1 \n",
    "            i += 1\n",
    "    # now add for i=j-1 (i.e. last token in example; by definition this is last token in label)\n",
    "        lastRow=j-1+nAdded # this is the id of the last row of 'tokens' list\n",
    "        if bool(re.match(r'\\W',annot[k]['tokens'][lastRow]['text'].lower()[-1:])) and annot[k]['tokens'][i]['label'] !='O':\n",
    "            # NOTE: 'O' labels were only added programmatically above (and not added to 'spans') so we don't want to track them here\n",
    "            auxSpansRow = getSpansIndex(annot[k]['spans'],annot[k]['tokens'][lastRow]['start'])\n",
    "            if len(annot[k]['tokens'][lastRow]['text'])==1: # if token only has 1 char then replace label entirely by \"O\"\n",
    "                annot[k]['tokens'][lastRow]['label']=\"O\"\n",
    "                # remove one word from annot[]['spans']:\n",
    "                if annot[k]['spans'][auxSpansRow]['end']==annot[k]['spans'][auxSpansRow]['start']+1: #if class label only has this char\n",
    "                    del annot[k]['spans'][auxSpansRow] # can remove this entry entirely from ['spans'] list\n",
    "                else:\n",
    "                    # reduce 'end' by 1 char and also 'token_end' and noWords by 1 \n",
    "                    annot[k]['spans'][auxSpansRow]['end'] = annot[k]['spans'][auxSpansRow]['end']-1\n",
    "                    annot[k]['spans'][auxSpansRow]['token_end'] = annot[k]['spans'][auxSpansRow]['token_end']-1\n",
    "                    annot[k]['spans'][auxSpansRow]['noWords'] = annot[k]['spans'][auxSpansRow]['noWords']-1\n",
    "            else: # token has more than 1 character\n",
    "                # now add a separate token for this item\n",
    "                annot[k]['tokens'].append({'text': annot[k]['tokens'][i]['text'][-1:], \n",
    "                                           'start': annot[k]['tokens'][i]['end']-1, \n",
    "                                           'end': annot[k]['tokens'][i]['end'], \n",
    "                                           'id': annot[k]['tokens'][i]['id']+1, \n",
    "                                           'ws': True, 'label': 'O'}) \n",
    "                annot[k]['tokens'][lastRow]['end']=annot[k]['tokens'][lastRow]['end']-1 #update end index for this token\n",
    "                annot[k]['tokens'][lastRow]['text']=annot[k]['tokens'][lastRow]['text'][:-1] #update text for this token\n",
    "                # in this case only need to reduce end index of ['spans'] by 1; no tokens w/ label are unchanged\n",
    "                annot[k]['spans'][auxSpansRow]['end'] = annot[k]['spans'][auxSpansRow]['end']-1\n",
    "    # finally sort list of dict by id so as to have tokens in order they show up in text\n",
    "    annot[k]['tokens'] = sorted(annot[k]['tokens'], key=lambda d: d['id'])"
   ]
  },
  {
   "cell_type": "markdown",
   "id": "a3a9898f",
   "metadata": {},
   "source": [
    "And next cell shows effect of this change on the Counter we ran above"
   ]
  },
  {
   "cell_type": "code",
   "execution_count": 330,
   "id": "71d47680",
   "metadata": {},
   "outputs": [
    {
     "name": "stdout",
     "output_type": "stream",
     "text": [
      "Counter()\n",
      "Counter()\n",
      "Counter()\n",
      "Counter()\n",
      "Counter()\n",
      "Counter()\n",
      "Counter()\n",
      "Counter({'.': 1})\n",
      "Counter()\n",
      "Counter()\n",
      "Counter()\n"
     ]
    }
   ],
   "source": [
    "# find situations where last token of same label ends with non-alphanumeric character\n",
    "for l in range(0,len(labels)):\n",
    "    out=[]\n",
    "    for k in range(0,len(annot)):\n",
    "        if annot[k]['spans']!=[]: # are there annot for this example?\n",
    "            j=len(annot[k]['tokens'])\n",
    "            for i in range(0,j-1):\n",
    "                if annot[k]['tokens'][i]['label']==labels[l]:\n",
    "                    if bool(re.match(r'\\W',annot[k]['tokens'][i]['text'].lower()[-1:])) and annot[k]['tokens'][i]['label'] != annot[k]['tokens'][i+1]['label']:\n",
    "                        out.append(annot[k]['tokens'][i]['text'].lower())\n",
    "                        #print(\"k/\"+str(k))\n",
    "        # now add for i=j-1 (i.e. last token in example; by definition this is last token in label)\n",
    "            if annot[k]['tokens'][j-1]['label']==labels[l]:\n",
    "                if bool(re.match(r'\\W',annot[k]['tokens'][j-1]['text'].lower()[-1:])):\n",
    "                    out.append(annot[k]['tokens'][j-1]['text'].lower())\n",
    "    out_count = Counter(out)\n",
    "    print(out_count)"
   ]
  },
  {
   "cell_type": "code",
   "execution_count": 27,
   "id": "2b58e3eb",
   "metadata": {},
   "outputs": [
    {
     "name": "stdout",
     "output_type": "stream",
     "text": [
      "[{'text': 'DORNBIRN', 'start': 0, 'end': 8, 'id': 0, 'ws': True, 'label': 'ORT'}, {'text': 'In', 'start': 9, 'end': 11, 'id': 1, 'ws': True, 'label': 'O'}, {'text': 'der', 'start': 12, 'end': 15, 'id': 2, 'ws': True, 'label': 'O'}, {'text': 'Schulgasse', 'start': 16, 'end': 26, 'id': 3, 'ws': True, 'label': 'STRASSE'}, {'text': 'in', 'start': 27, 'end': 29, 'id': 4, 'ws': True, 'label': 'O'}, {'text': 'Dornbirn', 'start': 30, 'end': 38, 'id': 5, 'ws': True, 'label': 'ORT'}, {'text': 'hat', 'start': 39, 'end': 42, 'id': 6, 'ws': True, 'label': 'O'}, {'text': 'eine', 'start': 43, 'end': 47, 'id': 7, 'ws': True, 'label': 'O'}, {'text': '71,93', 'start': 48, 'end': 53, 'id': 8, 'ws': True, 'label': 'FLAECHE'}, {'text': 'Quadratmeter', 'start': 54, 'end': 66, 'id': 9, 'ws': True, 'label': 'O'}, {'text': 'große', 'start': 67, 'end': 72, 'id': 10, 'ws': True, 'label': 'O'}, {'text': 'Wohnung', 'start': 73, 'end': 80, 'id': 11, 'ws': True, 'label': 'IMMO_TYP'}, {'text': 'für', 'start': 81, 'end': 84, 'id': 12, 'ws': True, 'label': 'O'}, {'text': 'einen', 'start': 85, 'end': 90, 'id': 13, 'ws': True, 'label': 'O'}, {'text': 'Quadratmeterpreis', 'start': 91, 'end': 108, 'id': 14, 'ws': True, 'label': 'O'}, {'text': 'von', 'start': 109, 'end': 112, 'id': 15, 'ws': True, 'label': 'O'}, {'text': '5533,71', 'start': 113, 'end': 120, 'id': 16, 'ws': True, 'label': 'QMPREIS'}, {'text': 'Euro', 'start': 121, 'end': 125, 'id': 17, 'ws': True, 'label': 'O'}, {'text': 'den', 'start': 126, 'end': 129, 'id': 18, 'ws': True, 'label': 'O'}, {'text': 'Besitzer', 'start': 130, 'end': 138, 'id': 19, 'ws': True, 'label': 'O'}, {'text': 'gewechselt', 'start': 139, 'end': 149, 'id': 20, 'ws': False, 'label': 'O'}, {'text': '.', 'start': 149, 'end': 150, 'id': 21, 'ws': True, 'label': 'O'}, {'text': 'Dieser', 'start': 151, 'end': 157, 'id': 22, 'ws': True, 'label': 'O'}, {'text': 'beinhaltet', 'start': 158, 'end': 168, 'id': 23, 'ws': True, 'label': 'O'}, {'text': 'auch', 'start': 169, 'end': 173, 'id': 24, 'ws': True, 'label': 'O'}, {'text': 'einen', 'start': 174, 'end': 179, 'id': 25, 'ws': True, 'label': 'O'}, {'text': 'Pkw-Abstellplatz', 'start': 180, 'end': 196, 'id': 26, 'ws': False, 'label': 'O'}, {'text': '.', 'start': 196, 'end': 197, 'id': 27, 'ws': True, 'label': 'O'}, {'text': 'Käufer', 'start': 198, 'end': 204, 'id': 28, 'ws': True, 'label': 'O'}, {'text': 'der', 'start': 205, 'end': 208, 'id': 29, 'ws': True, 'label': 'O'}, {'text': 'Wohnung', 'start': 209, 'end': 216, 'id': 30, 'ws': True, 'label': 'O'}, {'text': 'mit', 'start': 217, 'end': 220, 'id': 31, 'ws': True, 'label': 'O'}, {'text': '9,86', 'start': 221, 'end': 225, 'id': 32, 'ws': True, 'label': 'TERRASSENGROESSE'}, {'text': 'Quadratmetern', 'start': 226, 'end': 239, 'id': 33, 'ws': True, 'label': 'O'}, {'text': 'Terrasse', 'start': 240, 'end': 248, 'id': 34, 'ws': True, 'label': 'O'}, {'text': 'ist', 'start': 249, 'end': 252, 'id': 35, 'ws': True, 'label': 'O'}, {'text': 'die', 'start': 253, 'end': 256, 'id': 36, 'ws': True, 'label': 'O'}, {'text': 'ValLiLean', 'start': 257, 'end': 266, 'id': 37, 'ws': True, 'label': 'KAEUFER'}, {'text': 'Beteiligungs-', 'start': 267, 'end': 280, 'id': 38, 'ws': True, 'label': 'KAEUFER'}, {'text': 'und', 'start': 281, 'end': 284, 'id': 39, 'ws': True, 'label': 'KAEUFER'}, {'text': 'Immobilienverwaltungs', 'start': 285, 'end': 306, 'id': 40, 'ws': True, 'label': 'KAEUFER'}, {'text': 'GmbH.', 'start': 307, 'end': 312, 'id': 41, 'ws': True, 'label': 'KAEUFER'}, {'text': 'Beim', 'start': 313, 'end': 317, 'id': 42, 'ws': True, 'label': 'O'}, {'text': 'Verkäufer', 'start': 318, 'end': 327, 'id': 43, 'ws': True, 'label': 'O'}, {'text': 'handelt', 'start': 328, 'end': 335, 'id': 44, 'ws': True, 'label': 'O'}, {'text': 'es', 'start': 336, 'end': 338, 'id': 45, 'ws': True, 'label': 'O'}, {'text': 'sich', 'start': 339, 'end': 343, 'id': 46, 'ws': True, 'label': 'O'}, {'text': 'um', 'start': 344, 'end': 346, 'id': 47, 'ws': True, 'label': 'O'}, {'text': 'die', 'start': 347, 'end': 350, 'id': 48, 'ws': True, 'label': 'O'}, {'text': 'Karrenblick', 'start': 351, 'end': 362, 'id': 49, 'ws': True, 'label': 'VERKAEUFER'}, {'text': 'Projekt', 'start': 363, 'end': 370, 'id': 50, 'ws': True, 'label': 'VERKAEUFER'}, {'text': 'GmbH.', 'start': 371, 'end': 376, 'id': 51, 'ws': True, 'label': 'VERKAEUFER'}, {'text': ' ', 'start': 377, 'end': 378, 'id': 52, 'ws': False, 'label': 'O'}, {'text': 'Der', 'start': 378, 'end': 381, 'id': 53, 'ws': True, 'label': 'O'}, {'text': 'Kaufpreis', 'start': 382, 'end': 391, 'id': 54, 'ws': True, 'label': 'O'}, {'text': 'liegt', 'start': 392, 'end': 397, 'id': 55, 'ws': True, 'label': 'O'}, {'text': 'bei', 'start': 398, 'end': 401, 'id': 56, 'ws': True, 'label': 'O'}, {'text': '398.040', 'start': 402, 'end': 409, 'id': 57, 'ws': True, 'label': 'GESAMTPREIS'}, {'text': 'Euro', 'start': 410, 'end': 414, 'id': 58, 'ws': False, 'label': 'O'}, {'text': '.', 'start': 414, 'end': 415, 'id': 59, 'ws': True, 'label': 'O'}, {'text': 'Unterzeichnet', 'start': 416, 'end': 429, 'id': 60, 'ws': True, 'label': 'O'}, {'text': 'wurde', 'start': 430, 'end': 435, 'id': 61, 'ws': True, 'label': 'O'}, {'text': 'der', 'start': 436, 'end': 439, 'id': 62, 'ws': True, 'label': 'O'}, {'text': 'Kaufvertrag', 'start': 440, 'end': 451, 'id': 63, 'ws': True, 'label': 'O'}, {'text': 'am', 'start': 452, 'end': 454, 'id': 64, 'ws': True, 'label': 'O'}, {'text': '18.', 'start': 455, 'end': 458, 'id': 65, 'ws': True, 'label': 'DATUM_VERTRAG'}, {'text': 'September', 'start': 459, 'end': 468, 'id': 66, 'ws': False, 'label': 'DATUM_VERTRAG'}, {'text': '.', 'start': 468, 'end': 469, 'id': 67, 'ws': True, 'label': 'DATUM_VERTRAG'}, {'text': 'Die', 'start': 470, 'end': 473, 'id': 68, 'ws': True, 'label': 'O'}, {'text': 'Verbücherung', 'start': 474, 'end': 486, 'id': 69, 'ws': True, 'label': 'O'}, {'text': 'datiert', 'start': 487, 'end': 494, 'id': 70, 'ws': True, 'label': 'O'}, {'text': 'mit', 'start': 495, 'end': 498, 'id': 71, 'ws': True, 'label': 'O'}, {'text': 'Oktober', 'start': 499, 'end': 506, 'id': 72, 'ws': True, 'label': 'DATUM_VERBUECHERUNG'}, {'text': '2020.', 'start': 507, 'end': 512, 'id': 73, 'ws': False, 'label': 'DATUM_VERBUECHERUNG'}]\n"
     ]
    }
   ],
   "source": [
    "# print(annot[0]['tokens']) # DON'T RUN - BEFORE"
   ]
  },
  {
   "cell_type": "code",
   "execution_count": 331,
   "id": "423e8686",
   "metadata": {},
   "outputs": [
    {
     "name": "stdout",
     "output_type": "stream",
     "text": [
      "[{'text': 'DORNBIRN', 'start': 0, 'end': 8, 'id': 0, 'ws': True, 'label': 'ORT'}, {'text': 'In', 'start': 9, 'end': 11, 'id': 1, 'ws': True, 'label': 'O'}, {'text': 'der', 'start': 12, 'end': 15, 'id': 2, 'ws': True, 'label': 'O'}, {'text': 'Schulgasse', 'start': 16, 'end': 26, 'id': 3, 'ws': True, 'label': 'STRASSE'}, {'text': 'in', 'start': 27, 'end': 29, 'id': 4, 'ws': True, 'label': 'O'}, {'text': 'Dornbirn', 'start': 30, 'end': 38, 'id': 5, 'ws': True, 'label': 'ORT'}, {'text': 'hat', 'start': 39, 'end': 42, 'id': 6, 'ws': True, 'label': 'O'}, {'text': 'eine', 'start': 43, 'end': 47, 'id': 7, 'ws': True, 'label': 'O'}, {'text': '71,93', 'start': 48, 'end': 53, 'id': 8, 'ws': True, 'label': 'FLAECHE'}, {'text': 'Quadratmeter', 'start': 54, 'end': 66, 'id': 9, 'ws': True, 'label': 'O'}, {'text': 'große', 'start': 67, 'end': 72, 'id': 10, 'ws': True, 'label': 'O'}, {'text': 'Wohnung', 'start': 73, 'end': 80, 'id': 11, 'ws': True, 'label': 'IMMO_TYP'}, {'text': 'für', 'start': 81, 'end': 84, 'id': 12, 'ws': True, 'label': 'O'}, {'text': 'einen', 'start': 85, 'end': 90, 'id': 13, 'ws': True, 'label': 'O'}, {'text': 'Quadratmeterpreis', 'start': 91, 'end': 108, 'id': 14, 'ws': True, 'label': 'O'}, {'text': 'von', 'start': 109, 'end': 112, 'id': 15, 'ws': True, 'label': 'O'}, {'text': '5533,71', 'start': 113, 'end': 120, 'id': 16, 'ws': True, 'label': 'QMPREIS'}, {'text': 'Euro', 'start': 121, 'end': 125, 'id': 17, 'ws': True, 'label': 'O'}, {'text': 'den', 'start': 126, 'end': 129, 'id': 18, 'ws': True, 'label': 'O'}, {'text': 'Besitzer', 'start': 130, 'end': 138, 'id': 19, 'ws': True, 'label': 'O'}, {'text': 'gewechselt', 'start': 139, 'end': 149, 'id': 20, 'ws': False, 'label': 'O'}, {'text': '.', 'start': 149, 'end': 150, 'id': 21, 'ws': True, 'label': 'O'}, {'text': 'Dieser', 'start': 151, 'end': 157, 'id': 22, 'ws': True, 'label': 'O'}, {'text': 'beinhaltet', 'start': 158, 'end': 168, 'id': 23, 'ws': True, 'label': 'O'}, {'text': 'auch', 'start': 169, 'end': 173, 'id': 24, 'ws': True, 'label': 'O'}, {'text': 'einen', 'start': 174, 'end': 179, 'id': 25, 'ws': True, 'label': 'O'}, {'text': 'Pkw-Abstellplatz', 'start': 180, 'end': 196, 'id': 26, 'ws': False, 'label': 'O'}, {'text': '.', 'start': 196, 'end': 197, 'id': 27, 'ws': True, 'label': 'O'}, {'text': 'Käufer', 'start': 198, 'end': 204, 'id': 28, 'ws': True, 'label': 'O'}, {'text': 'der', 'start': 205, 'end': 208, 'id': 29, 'ws': True, 'label': 'O'}, {'text': 'Wohnung', 'start': 209, 'end': 216, 'id': 30, 'ws': True, 'label': 'O'}, {'text': 'mit', 'start': 217, 'end': 220, 'id': 31, 'ws': True, 'label': 'O'}, {'text': '9,86', 'start': 221, 'end': 225, 'id': 32, 'ws': True, 'label': 'TERRASSENGROESSE'}, {'text': 'Quadratmetern', 'start': 226, 'end': 239, 'id': 33, 'ws': True, 'label': 'O'}, {'text': 'Terrasse', 'start': 240, 'end': 248, 'id': 34, 'ws': True, 'label': 'O'}, {'text': 'ist', 'start': 249, 'end': 252, 'id': 35, 'ws': True, 'label': 'O'}, {'text': 'die', 'start': 253, 'end': 256, 'id': 36, 'ws': True, 'label': 'O'}, {'text': 'ValLiLean', 'start': 257, 'end': 266, 'id': 37, 'ws': True, 'label': 'KAEUFER'}, {'text': 'Beteiligungs-', 'start': 267, 'end': 280, 'id': 38, 'ws': True, 'label': 'KAEUFER'}, {'text': 'und', 'start': 281, 'end': 284, 'id': 39, 'ws': True, 'label': 'KAEUFER'}, {'text': 'Immobilienverwaltungs', 'start': 285, 'end': 306, 'id': 40, 'ws': True, 'label': 'KAEUFER'}, {'text': 'GmbH', 'start': 307, 'end': 311, 'id': 41, 'ws': True, 'label': 'KAEUFER'}, {'text': '.', 'start': 311, 'end': 312, 'id': 42, 'ws': True, 'label': 'O'}, {'text': 'Beim', 'start': 313, 'end': 317, 'id': 43, 'ws': True, 'label': 'O'}, {'text': 'Verkäufer', 'start': 318, 'end': 327, 'id': 44, 'ws': True, 'label': 'O'}, {'text': 'handelt', 'start': 328, 'end': 335, 'id': 45, 'ws': True, 'label': 'O'}, {'text': 'es', 'start': 336, 'end': 338, 'id': 46, 'ws': True, 'label': 'O'}, {'text': 'sich', 'start': 339, 'end': 343, 'id': 47, 'ws': True, 'label': 'O'}, {'text': 'um', 'start': 344, 'end': 346, 'id': 48, 'ws': True, 'label': 'O'}, {'text': 'die', 'start': 347, 'end': 350, 'id': 49, 'ws': True, 'label': 'O'}, {'text': 'Karrenblick', 'start': 351, 'end': 362, 'id': 50, 'ws': True, 'label': 'VERKAEUFER'}, {'text': 'Projekt', 'start': 363, 'end': 370, 'id': 51, 'ws': True, 'label': 'VERKAEUFER'}, {'text': 'GmbH', 'start': 371, 'end': 375, 'id': 52, 'ws': True, 'label': 'VERKAEUFER'}, {'text': '.', 'start': 375, 'end': 376, 'id': 53, 'ws': True, 'label': 'O'}, {'text': ' ', 'start': 377, 'end': 378, 'id': 54, 'ws': False, 'label': 'O'}, {'text': 'Der', 'start': 378, 'end': 381, 'id': 55, 'ws': True, 'label': 'O'}, {'text': 'Kaufpreis', 'start': 382, 'end': 391, 'id': 56, 'ws': True, 'label': 'O'}, {'text': 'liegt', 'start': 392, 'end': 397, 'id': 57, 'ws': True, 'label': 'O'}, {'text': 'bei', 'start': 398, 'end': 401, 'id': 58, 'ws': True, 'label': 'O'}, {'text': '398.040', 'start': 402, 'end': 409, 'id': 59, 'ws': True, 'label': 'GESAMTPREIS'}, {'text': 'Euro', 'start': 410, 'end': 414, 'id': 60, 'ws': False, 'label': 'O'}, {'text': '.', 'start': 414, 'end': 415, 'id': 61, 'ws': True, 'label': 'O'}, {'text': 'Unterzeichnet', 'start': 416, 'end': 429, 'id': 62, 'ws': True, 'label': 'O'}, {'text': 'wurde', 'start': 430, 'end': 435, 'id': 63, 'ws': True, 'label': 'O'}, {'text': 'der', 'start': 436, 'end': 439, 'id': 64, 'ws': True, 'label': 'O'}, {'text': 'Kaufvertrag', 'start': 440, 'end': 451, 'id': 65, 'ws': True, 'label': 'O'}, {'text': 'am', 'start': 452, 'end': 454, 'id': 66, 'ws': True, 'label': 'O'}, {'text': '18.', 'start': 455, 'end': 458, 'id': 67, 'ws': True, 'label': 'DATUM_VERTRAG'}, {'text': 'September', 'start': 459, 'end': 468, 'id': 68, 'ws': False, 'label': 'DATUM_VERTRAG'}, {'text': '.', 'start': 468, 'end': 469, 'id': 69, 'ws': True, 'label': 'O'}, {'text': 'Die', 'start': 470, 'end': 473, 'id': 70, 'ws': True, 'label': 'O'}, {'text': 'Verbücherung', 'start': 474, 'end': 486, 'id': 71, 'ws': True, 'label': 'O'}, {'text': 'datiert', 'start': 487, 'end': 494, 'id': 72, 'ws': True, 'label': 'O'}, {'text': 'mit', 'start': 495, 'end': 498, 'id': 73, 'ws': True, 'label': 'O'}, {'text': 'Oktober', 'start': 499, 'end': 506, 'id': 74, 'ws': True, 'label': 'DATUM_VERBUECHERUNG'}, {'text': '2020', 'start': 507, 'end': 511, 'id': 75, 'ws': False, 'label': 'DATUM_VERBUECHERUNG'}, {'text': '.', 'start': 511, 'end': 512, 'id': 76, 'ws': True, 'label': 'O'}]\n"
     ]
    }
   ],
   "source": [
    "print(annot[0]['tokens']) # AFTER"
   ]
  },
  {
   "cell_type": "code",
   "execution_count": 273,
   "id": "5e7799f9",
   "metadata": {},
   "outputs": [
    {
     "name": "stdout",
     "output_type": "stream",
     "text": [
      "77\n"
     ]
    }
   ],
   "source": [
    "print(len(annot[0]['tokens']))"
   ]
  },
  {
   "cell_type": "code",
   "execution_count": 297,
   "id": "4d8ddc35",
   "metadata": {},
   "outputs": [
    {
     "name": "stdout",
     "output_type": "stream",
     "text": [
      "[{'text': 'FELDKIRCH', 'start': 0, 'end': 9, 'id': 0, 'ws': True, 'label': 'ORT'}, {'text': 'Im', 'start': 10, 'end': 12, 'id': 1, 'ws': True, 'label': 'O'}, {'text': 'Altenreuteweg', 'start': 13, 'end': 26, 'id': 2, 'ws': True, 'label': 'STRASSE'}, {'text': 'in', 'start': 27, 'end': 29, 'id': 3, 'ws': True, 'label': 'O'}, {'text': 'Feldkirch', 'start': 30, 'end': 39, 'id': 4, 'ws': True, 'label': 'ORT'}, {'text': 'hat', 'start': 40, 'end': 43, 'id': 5, 'ws': True, 'label': 'O'}, {'text': 'eine', 'start': 44, 'end': 48, 'id': 6, 'ws': True, 'label': 'O'}, {'text': '100,67', 'start': 49, 'end': 55, 'id': 7, 'ws': True, 'label': 'FLAECHE'}, {'text': 'Quadratmeter', 'start': 56, 'end': 68, 'id': 8, 'ws': True, 'label': 'O'}, {'text': 'große', 'start': 69, 'end': 74, 'id': 9, 'ws': True, 'label': 'O'}, {'text': 'Wohnung', 'start': 75, 'end': 82, 'id': 10, 'ws': True, 'label': 'IMMO_TYP'}, {'text': 'für', 'start': 83, 'end': 86, 'id': 11, 'ws': True, 'label': 'O'}, {'text': 'einen', 'start': 87, 'end': 92, 'id': 12, 'ws': True, 'label': 'O'}, {'text': 'Quadratmeterpreis', 'start': 93, 'end': 110, 'id': 13, 'ws': True, 'label': 'O'}, {'text': 'von', 'start': 111, 'end': 114, 'id': 14, 'ws': True, 'label': 'O'}, {'text': '6168,67', 'start': 115, 'end': 122, 'id': 15, 'ws': True, 'label': 'QMPREIS'}, {'text': 'Euro', 'start': 123, 'end': 127, 'id': 16, 'ws': True, 'label': 'O'}, {'text': 'den', 'start': 128, 'end': 131, 'id': 17, 'ws': True, 'label': 'O'}, {'text': 'Besitzer', 'start': 132, 'end': 140, 'id': 18, 'ws': True, 'label': 'O'}, {'text': 'gewechselt', 'start': 141, 'end': 151, 'id': 19, 'ws': False, 'label': 'O'}, {'text': '.', 'start': 151, 'end': 152, 'id': 20, 'ws': True, 'label': 'O'}, {'text': 'Käufer', 'start': 153, 'end': 159, 'id': 21, 'ws': True, 'label': 'O'}, {'text': 'der', 'start': 160, 'end': 163, 'id': 22, 'ws': True, 'label': 'O'}, {'text': 'Wohnung', 'start': 164, 'end': 171, 'id': 23, 'ws': True, 'label': 'O'}, {'text': 'mit', 'start': 172, 'end': 175, 'id': 24, 'ws': True, 'label': 'O'}, {'text': 'einer', 'start': 176, 'end': 181, 'id': 25, 'ws': True, 'label': 'O'}, {'text': '137,49', 'start': 182, 'end': 188, 'id': 26, 'ws': True, 'label': 'TERRASSENGROESSE'}, {'text': 'Quadratmeter', 'start': 189, 'end': 201, 'id': 27, 'ws': True, 'label': 'O'}, {'text': 'großen', 'start': 202, 'end': 208, 'id': 28, 'ws': True, 'label': 'O'}, {'text': 'Terrasse', 'start': 209, 'end': 217, 'id': 29, 'ws': True, 'label': 'O'}, {'text': 'ist', 'start': 218, 'end': 221, 'id': 30, 'ws': True, 'label': 'O'}, {'text': 'eine', 'start': 222, 'end': 226, 'id': 31, 'ws': True, 'label': 'O'}, {'text': 'Privatperson', 'start': 227, 'end': 239, 'id': 32, 'ws': False, 'label': 'KAEUFER'}, {'text': '.', 'start': 239, 'end': 240, 'id': 33, 'ws': True, 'label': 'O'}, {'text': 'Beim', 'start': 241, 'end': 245, 'id': 34, 'ws': True, 'label': 'O'}, {'text': 'Verkäufer', 'start': 246, 'end': 255, 'id': 35, 'ws': True, 'label': 'O'}, {'text': 'handelt', 'start': 256, 'end': 263, 'id': 36, 'ws': True, 'label': 'O'}, {'text': 'es', 'start': 264, 'end': 266, 'id': 37, 'ws': True, 'label': 'O'}, {'text': 'sich', 'start': 267, 'end': 271, 'id': 38, 'ws': True, 'label': 'O'}, {'text': 'um', 'start': 272, 'end': 274, 'id': 39, 'ws': True, 'label': 'O'}, {'text': 'die', 'start': 275, 'end': 278, 'id': 40, 'ws': True, 'label': 'O'}, {'text': 'Rüscher', 'start': 279, 'end': 286, 'id': 41, 'ws': True, 'label': 'VERKAEUFER'}, {'text': 'und', 'start': 287, 'end': 290, 'id': 42, 'ws': True, 'label': 'VERKAEUFER'}, {'text': 'Söhne', 'start': 291, 'end': 296, 'id': 43, 'ws': True, 'label': 'VERKAEUFER'}, {'text': 'Bau', 'start': 297, 'end': 300, 'id': 44, 'ws': True, 'label': 'VERKAEUFER'}, {'text': 'GmbH', 'start': 301, 'end': 305, 'id': 45, 'ws': True, 'label': 'VERKAEUFER'}, {'text': '&', 'start': 306, 'end': 307, 'id': 46, 'ws': True, 'label': 'VERKAEUFER'}, {'text': 'Co', 'start': 308, 'end': 310, 'id': 47, 'ws': True, 'label': 'VERKAEUFER'}, {'text': 'KG', 'start': 311, 'end': 313, 'id': 48, 'ws': False, 'label': 'VERKAEUFER'}, {'text': '.', 'start': 313, 'end': 314, 'id': 49, 'ws': True, 'label': 'O'}, {'text': ' ', 'start': 315, 'end': 316, 'id': 50, 'ws': False, 'label': 'O'}, {'text': 'Der', 'start': 316, 'end': 319, 'id': 51, 'ws': True, 'label': 'O'}, {'text': 'Kaufpreis', 'start': 320, 'end': 329, 'id': 52, 'ws': True, 'label': 'O'}, {'text': 'liegt', 'start': 330, 'end': 335, 'id': 53, 'ws': True, 'label': 'O'}, {'text': 'bei', 'start': 336, 'end': 339, 'id': 54, 'ws': True, 'label': 'O'}, {'text': '621.000', 'start': 340, 'end': 347, 'id': 55, 'ws': True, 'label': 'GESAMTPREIS'}, {'text': 'Euro', 'start': 348, 'end': 352, 'id': 56, 'ws': False, 'label': 'O'}, {'text': '.', 'start': 352, 'end': 353, 'id': 57, 'ws': True, 'label': 'O'}, {'text': 'Unterzeichnet', 'start': 354, 'end': 367, 'id': 58, 'ws': True, 'label': 'O'}, {'text': 'wurde', 'start': 368, 'end': 373, 'id': 59, 'ws': True, 'label': 'O'}, {'text': 'der', 'start': 374, 'end': 377, 'id': 60, 'ws': True, 'label': 'O'}, {'text': 'Kaufvertrag', 'start': 378, 'end': 389, 'id': 61, 'ws': True, 'label': 'O'}, {'text': 'am', 'start': 390, 'end': 392, 'id': 62, 'ws': True, 'label': 'O'}, {'text': '11.', 'start': 393, 'end': 396, 'id': 63, 'ws': True, 'label': 'DATUM_VERTRAG'}, {'text': 'August', 'start': 397, 'end': 403, 'id': 64, 'ws': False, 'label': 'DATUM_VERTRAG'}, {'text': '.', 'start': 403, 'end': 404, 'id': 65, 'ws': True, 'label': 'O'}, {'text': 'Die', 'start': 405, 'end': 408, 'id': 66, 'ws': True, 'label': 'O'}, {'text': 'Verbücherung', 'start': 409, 'end': 421, 'id': 67, 'ws': True, 'label': 'O'}, {'text': 'datiert', 'start': 422, 'end': 429, 'id': 68, 'ws': True, 'label': 'O'}, {'text': 'mit', 'start': 430, 'end': 433, 'id': 69, 'ws': True, 'label': 'O'}, {'text': 'September', 'start': 434, 'end': 443, 'id': 70, 'ws': True, 'label': 'DATUM_VERBUECHERUNG'}, {'text': '2020', 'start': 444, 'end': 448, 'id': 71, 'ws': False, 'label': 'DATUM_VERBUECHERUNG'}, {'text': '.', 'start': 448, 'end': 449, 'id': 72, 'ws': True, 'label': 'O'}]\n"
     ]
    }
   ],
   "source": [
    "# and another example\n",
    "print(annot[1]['tokens'])"
   ]
  },
  {
   "cell_type": "code",
   "execution_count": 298,
   "id": "6a29c055",
   "metadata": {},
   "outputs": [],
   "source": [
    "# check if id's have been adjusted in line with items that were added to annot[]['tokens']\n",
    "for i in range(0,len(annot)):\n",
    "    jMax=0\n",
    "    for j in range(0,len(annot[i]['tokens'])):\n",
    "        if annot[i]['tokens'][j]['id']>jMax:\n",
    "            jMax=annot[i]['tokens'][j]['id']\n",
    "    if len(annot[i]['tokens']) != jMax+1:\n",
    "        print(i)"
   ]
  },
  {
   "cell_type": "code",
   "execution_count": 303,
   "id": "65e9af23",
   "metadata": {},
   "outputs": [],
   "source": [
    "# check if id's always increase by 1 for each successive token\n",
    "for i in range(0,len(annot)):\n",
    "    for j in range(0,len(annot[i]['tokens'])-1):\n",
    "        if annot[i]['tokens'][j]['id']+1!=annot[i]['tokens'][j+1]['id']: # note: they are in order as we sorted them by asc id1\n",
    "            print(i)"
   ]
  },
  {
   "cell_type": "code",
   "execution_count": 325,
   "id": "a33cc1c9",
   "metadata": {},
   "outputs": [
    {
     "name": "stdout",
     "output_type": "stream",
     "text": [
      "0\n"
     ]
    }
   ],
   "source": [
    "# check finally test if token-reconstructed text matches text\n",
    "# note: can't reconstruct text in this way as the ones we added don't have leading spaces in true text\n",
    "i=0\n",
    "auxStr=\"\"\n",
    "for j in range(0,len(annot[i]['tokens'])):\n",
    "    auxStr=auxStr+\" \"+annot[i]['tokens'][j]['text'] \n",
    "if auxStr!=annot[i]['text']: # note: they are in order as we sorted them by asc id1\n",
    "    print(i)"
   ]
  },
  {
   "cell_type": "code",
   "execution_count": 324,
   "id": "7b24c4af",
   "metadata": {},
   "outputs": [
    {
     "name": "stdout",
     "output_type": "stream",
     "text": [
      "77\n",
      "GÖTZIS In der Hans-Berchtold-Straße 35 in Götzis wurde eine Wohnung mit der Größe von 113 Quadratmetern um 538.400 Euro verkauft. Käufer der Wohnung sind Privatpersonen. Beim Verkäufer handelt es sich um die wohn.wert Immobilien GmbH. Der Quadratmeterpreis der Wohnung beträgt 4767,98 Euro. Unterzeichnet wurde der Kaufvertrag am 1. Juli. Die Verbücherung datiert mit Juli 2020.\n",
      "GÖTZIS In der Hans-Berchtold-Straße 35 in Götzis wurde eine Wohnung mit der Größe von 113 Quadratmetern um 538.400 Euro verkauft. Käufer der Wohnung sind Privatpersonen. Beim Verkäufer handelt es sich um die wohn.wert Immobilien GmbH. Der Quadratmeterpreis der Wohnung beträgt 4767,98 Euro. Unterzeichnet wurde der Kaufvertrag am 1. Juli. Die Verbücherung datiert mit Juli 2020. \n"
     ]
    }
   ],
   "source": [
    "# check reconstructing text from tokens by using start and end indices\n",
    "# note annot[77]['text'] has a trailing \" \" right at the end. Not sure why and it is not included in input annot tokens\n",
    "for i in range(0,len(annot)):\n",
    "    if annot[i]['spans']!=[]: # are there annot for this example?\n",
    "        auxStr=annot[i]['tokens'][0]['text']\n",
    "        for j in range(1,len(annot[i]['tokens'])):\n",
    "            if annot[i]['tokens'][j]['start']==annot[i]['tokens'][j-1]['end']+1:\n",
    "                auxStr=auxStr+\" \"+annot[i]['tokens'][j]['text']\n",
    "            else:\n",
    "                auxStr=auxStr+annot[i]['tokens'][j]['text']\n",
    "        if auxStr!=annot[i]['text']: # note: they are in order as we sorted them by asc id1\n",
    "            print(i)\n",
    "            #print(auxStr)\n",
    "            #print(annot[i]['text'])"
   ]
  },
  {
   "cell_type": "code",
   "execution_count": 332,
   "id": "98d3d175",
   "metadata": {},
   "outputs": [],
   "source": [
    "# output new annotation file\n",
    "with open('annotations2.jsonl', 'w') as outfile:\n",
    "    for entry in annot:\n",
    "        json.dump(entry, outfile)\n",
    "        outfile.write('\\n')"
   ]
  },
  {
   "cell_type": "code",
   "execution_count": 133,
   "id": "a9fb658a",
   "metadata": {},
   "outputs": [],
   "source": [
    "# CHECK: read back ... OK\n",
    "with open('annotations2.jsonl') as jsonl_file:\n",
    "    lines = jsonl_file.readlines()\n",
    "annot2 = [json.loads(line) for line in lines]"
   ]
  },
  {
   "cell_type": "code",
   "execution_count": 217,
   "id": "baea0c5d",
   "metadata": {},
   "outputs": [
    {
     "name": "stdout",
     "output_type": "stream",
     "text": [
      "[{'c': 'cde', 'id': 1}, {'a': 'abc', 'id': 2}, {'b': 'bcd', 'id': 3}]\n"
     ]
    }
   ],
   "source": [
    "a=[{'a': 'abc', 'id':2},{'b':'bcd', 'id':3},{'c':'cde','id':1}]\n",
    "\n",
    "newlist = sorted(a, key=lambda d: d['id'])\n",
    "print(newlist)"
   ]
  }
 ],
 "metadata": {
  "kernelspec": {
   "display_name": "xcs224u",
   "language": "python",
   "name": "xcs224u"
  },
  "language_info": {
   "codemirror_mode": {
    "name": "ipython",
    "version": 3
   },
   "file_extension": ".py",
   "mimetype": "text/x-python",
   "name": "python",
   "nbconvert_exporter": "python",
   "pygments_lexer": "ipython3",
   "version": "3.8.12"
  }
 },
 "nbformat": 4,
 "nbformat_minor": 5
}
