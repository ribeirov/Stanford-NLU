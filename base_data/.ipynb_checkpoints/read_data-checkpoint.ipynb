{
 "cells": [
  {
   "cell_type": "code",
   "execution_count": 1,
   "id": "e2afe6c0",
   "metadata": {
    "ExecuteTime": {
     "end_time": "2022-02-28T21:12:43.909551Z",
     "start_time": "2022-02-28T21:12:43.776924Z"
    }
   },
   "outputs": [],
   "source": [
    "import pandas as pd"
   ]
  },
  {
   "cell_type": "code",
   "execution_count": 2,
   "id": "f9676304",
   "metadata": {
    "ExecuteTime": {
     "end_time": "2022-02-28T21:12:44.188961Z",
     "start_time": "2022-02-28T21:12:44.158194Z"
    }
   },
   "outputs": [],
   "source": [
    "df = pd.read_csv('all_articles_in_text.csv')  "
   ]
  },
  {
   "cell_type": "code",
   "execution_count": 3,
   "id": "67aae55a",
   "metadata": {
    "ExecuteTime": {
     "end_time": "2022-02-28T21:12:44.614978Z",
     "start_time": "2022-02-28T21:12:44.600199Z"
    }
   },
   "outputs": [
    {
     "data": {
      "text/html": [
       "<div>\n",
       "<style scoped>\n",
       "    .dataframe tbody tr th:only-of-type {\n",
       "        vertical-align: middle;\n",
       "    }\n",
       "\n",
       "    .dataframe tbody tr th {\n",
       "        vertical-align: top;\n",
       "    }\n",
       "\n",
       "    .dataframe thead th {\n",
       "        text-align: right;\n",
       "    }\n",
       "</style>\n",
       "<table border=\"1\" class=\"dataframe\">\n",
       "  <thead>\n",
       "    <tr style=\"text-align: right;\">\n",
       "      <th></th>\n",
       "      <th>Text</th>\n",
       "    </tr>\n",
       "  </thead>\n",
       "  <tbody>\n",
       "    <tr>\n",
       "      <th>0</th>\n",
       "      <td>DORNBIRN In der Schulgasse in Dornbirn hat ein...</td>\n",
       "    </tr>\n",
       "    <tr>\n",
       "      <th>1</th>\n",
       "      <td>FELDKIRCH Im Altenreuteweg in Feldkirch hat ei...</td>\n",
       "    </tr>\n",
       "    <tr>\n",
       "      <th>2</th>\n",
       "      <td>LUDESCH In der Raggalerstraße in Ludesch hat e...</td>\n",
       "    </tr>\n",
       "    <tr>\n",
       "      <th>3</th>\n",
       "      <td>DORNBIRN Im Fohramoos in Dornbirn hat ein Gebä...</td>\n",
       "    </tr>\n",
       "    <tr>\n",
       "      <th>4</th>\n",
       "      <td>VANDANS In der Bahnhofstraße 5 in Vandans wurd...</td>\n",
       "    </tr>\n",
       "    <tr>\n",
       "      <th>...</th>\n",
       "      <td>...</td>\n",
       "    </tr>\n",
       "    <tr>\n",
       "      <th>3697</th>\n",
       "      <td>SATTEINS In der Alten Schlinserstraße 3 in Sat...</td>\n",
       "    </tr>\n",
       "    <tr>\n",
       "      <th>3698</th>\n",
       "      <td>FELDKIRCH Ein Mehrfamilienhaus in der Reichsst...</td>\n",
       "    </tr>\n",
       "    <tr>\n",
       "      <th>3699</th>\n",
       "      <td>LAUTERACH Im Haag in Lauterach hat ein 193 Qua...</td>\n",
       "    </tr>\n",
       "    <tr>\n",
       "      <th>3700</th>\n",
       "      <td>NÜZIDERS Ein Gebäude in der Landstraße in Nüzi...</td>\n",
       "    </tr>\n",
       "    <tr>\n",
       "      <th>3701</th>\n",
       "      <td>LUSTENAU Im Bereich Brändlestraße in Lustenau ...</td>\n",
       "    </tr>\n",
       "  </tbody>\n",
       "</table>\n",
       "<p>3702 rows × 1 columns</p>\n",
       "</div>"
      ],
      "text/plain": [
       "                                                   Text\n",
       "0     DORNBIRN In der Schulgasse in Dornbirn hat ein...\n",
       "1     FELDKIRCH Im Altenreuteweg in Feldkirch hat ei...\n",
       "2     LUDESCH In der Raggalerstraße in Ludesch hat e...\n",
       "3     DORNBIRN Im Fohramoos in Dornbirn hat ein Gebä...\n",
       "4     VANDANS In der Bahnhofstraße 5 in Vandans wurd...\n",
       "...                                                 ...\n",
       "3697  SATTEINS In der Alten Schlinserstraße 3 in Sat...\n",
       "3698  FELDKIRCH Ein Mehrfamilienhaus in der Reichsst...\n",
       "3699  LAUTERACH Im Haag in Lauterach hat ein 193 Qua...\n",
       "3700  NÜZIDERS Ein Gebäude in der Landstraße in Nüzi...\n",
       "3701  LUSTENAU Im Bereich Brändlestraße in Lustenau ...\n",
       "\n",
       "[3702 rows x 1 columns]"
      ]
     },
     "execution_count": 3,
     "metadata": {},
     "output_type": "execute_result"
    }
   ],
   "source": [
    "df"
   ]
  },
  {
   "cell_type": "code",
   "execution_count": null,
   "id": "3297eb7c",
   "metadata": {},
   "outputs": [],
   "source": []
  }
 ],
 "metadata": {
  "kernelspec": {
   "display_name": "nlu",
   "language": "python",
   "name": "nlu"
  },
  "language_info": {
   "codemirror_mode": {
    "name": "ipython",
    "version": 3
   },
   "file_extension": ".py",
   "mimetype": "text/x-python",
   "name": "python",
   "nbconvert_exporter": "python",
   "pygments_lexer": "ipython3",
   "version": "3.8.12"
  },
  "toc": {
   "base_numbering": 1,
   "nav_menu": {},
   "number_sections": true,
   "sideBar": true,
   "skip_h1_title": false,
   "title_cell": "Table of Contents",
   "title_sidebar": "Contents",
   "toc_cell": false,
   "toc_position": {},
   "toc_section_display": true,
   "toc_window_display": false
  }
 },
 "nbformat": 4,
 "nbformat_minor": 5
}
