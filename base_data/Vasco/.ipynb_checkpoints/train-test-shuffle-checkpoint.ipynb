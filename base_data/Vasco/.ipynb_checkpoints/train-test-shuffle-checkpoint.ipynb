{
 "cells": [
  {
   "cell_type": "code",
   "execution_count": 5,
   "id": "37dd65b9",
   "metadata": {},
   "outputs": [
    {
     "name": "stdout",
     "output_type": "stream",
     "text": [
      "[0, 1, 2, 3, 4, 5, 6, 7, 8, 9]\n",
      "[2, 8, 4, 9, 1, 6, 7, 3, 0, 5]\n",
      "[6, 9, 7, 3, 1, 4, 2, 5, 8, 0]\n",
      "[7, 8, 1, 0, 9, 2, 5, 3, 6, 4]\n"
     ]
    }
   ],
   "source": [
    "from sklearn.utils import shuffle\n",
    "a=[i for i in range(0,10)]\n",
    "print(a)\n",
    "b=shuffle(a,random_state=0)\n",
    "c=shuffle(a)\n",
    "print(b)\n",
    "print(c)\n",
    "d=[c[auxB] for auxB in b]\n",
    "print(d)"
   ]
  },
  {
   "cell_type": "code",
   "execution_count": null,
   "id": "264d0561",
   "metadata": {},
   "outputs": [],
   "source": [
    "train_ratio = 0.75\n",
    "train_test_split = round(0.75*len(X_all) - 0.5) # -0.5 => floor\n",
    "idx = [i for i in range(0,len(X_all))]\n",
    "idx_shuffle = shuffle(idx,random_state=0)\n",
    "X_shuffle, y_shuffle = [X_all[auxIdx] for auxIdx in idx_shuffle], [y_all[auxIdx] for auxIdx in idx_shuffle]\n",
    "\n",
    "X_train, X_test, y_train, y_test = X_shuffle[:train_test_split], X_shuffle[train_test_split:], y_shuffle[:train_test_split], y_shuffle[train_test_split:]"
   ]
  }
 ],
 "metadata": {
  "kernelspec": {
   "display_name": "Python 3 (ipykernel)",
   "language": "python",
   "name": "python3"
  },
  "language_info": {
   "codemirror_mode": {
    "name": "ipython",
    "version": 3
   },
   "file_extension": ".py",
   "mimetype": "text/x-python",
   "name": "python",
   "nbconvert_exporter": "python",
   "pygments_lexer": "ipython3",
   "version": "3.8.12"
  }
 },
 "nbformat": 4,
 "nbformat_minor": 5
}
