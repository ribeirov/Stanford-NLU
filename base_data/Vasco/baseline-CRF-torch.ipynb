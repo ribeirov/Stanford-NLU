{
 "cells": [
  {
   "cell_type": "code",
   "execution_count": 32,
   "id": "f9d9b7e1",
   "metadata": {},
   "outputs": [],
   "source": [
    "import nltk\n",
    "from sklearn.metrics import classification_report, r2_score\n",
    "from sklearn.model_selection import train_test_split\n",
    "from sklearn.model_selection import cross_validate\n",
    "from sklearn.model_selection import GridSearchCV\n",
    "import torch\n",
    "import torch.nn as nn\n",
    "\n",
    "#from torch_model_base import TorchModelBase\n",
    "#from torch_shallow_neural_classifier import TorchShallowNeuralClassifier\n",
    "from torch_rnn_classifier import TorchRNNDataset, TorchRNNClassifier, TorchRNNModel\n",
    "import utils\n",
    "\n",
    "import pandas as pd\n",
    "from collections import Counter\n",
    "\n",
    "import json\n",
    "\n",
    "from torchcrf import CRF\n",
    "from sklearn.utils import shuffle"
   ]
  },
  {
   "cell_type": "code",
   "execution_count": 3,
   "id": "0417555e",
   "metadata": {},
   "outputs": [],
   "source": [
    "with open('annotations2.jsonl') as jsonl_file:\n",
    "    # note: after running data-preprocessing.ipynb this file already has token-level labels\n",
    "    lines = jsonl_file.readlines()\n",
    "annot = [json.loads(line) for line in lines]"
   ]
  },
  {
   "cell_type": "code",
   "execution_count": 4,
   "id": "0480399a",
   "metadata": {},
   "outputs": [],
   "source": [
    "# now get data into format that TorchRNN expects:\n",
    "X=[] \n",
    "y=[]\n",
    "for j in range(0,len(annot)):\n",
    "    a = annot[j]['tokens']\n",
    "    auxX = []\n",
    "    auxy = []\n",
    "    if annot[j]['spans']!=[]: # are there annot for this example?\n",
    "        for i in range(0,len(a)):\n",
    "            #token_element = (a[i]['text'],a[i]['label'])\n",
    "            auxX.append(a[i]['text'])\n",
    "            auxy.append(a[i]['label'])\n",
    "        X.append(auxX)\n",
    "        y.append(auxy)\n",
    "#X_train, X_test, y_train, y_test = train_test_split(X, y, test_size=0.25, random_state=42)\n",
    "#X_train, X_test, y_train, y_test = X[:120], X[120:], y[:120], y[120:]\n"
   ]
  },
  {
   "cell_type": "code",
   "execution_count": 11,
   "id": "8a902e4f",
   "metadata": {},
   "outputs": [],
   "source": [
    "# convert X and y to ids\n",
    "word_to_ix = {}\n",
    "for sentence in X:\n",
    "    for word in sentence:\n",
    "        if word not in word_to_ix:\n",
    "            word_to_ix[word] = len(word_to_ix) # i.e. each successive word added gets a successive index"
   ]
  },
  {
   "cell_type": "code",
   "execution_count": 12,
   "id": "163cf50e",
   "metadata": {},
   "outputs": [],
   "source": [
    "label_to_ix = {}\n",
    "for sentence in y:\n",
    "    for label in sentence:\n",
    "        if label not in label_to_ix:\n",
    "            label_to_ix[label] = len(label_to_ix) # i.e. each successive word added gets a successive index"
   ]
  },
  {
   "cell_type": "code",
   "execution_count": 18,
   "id": "0a58f434",
   "metadata": {},
   "outputs": [],
   "source": [
    "# convert X and y to indices (ints)\n",
    "X_ix = [[word_to_ix[w] for w in seq] for seq in X]\n",
    "y_ix = [[label_to_ix[l] for l in seq] for seq in y]"
   ]
  },
  {
   "cell_type": "code",
   "execution_count": 33,
   "id": "77005942",
   "metadata": {},
   "outputs": [],
   "source": [
    "train_ratio = 0.75\n",
    "train_test_split = round(0.75*len(X_ix) - 0.5) # -0.5 => floor\n",
    "idx = [i for i in range(0,len(X_ix))]\n",
    "idx_shuffle = shuffle(idx,random_state=0)\n",
    "X_shuffle, y_shuffle = [X_ix[auxIdx] for auxIdx in idx_shuffle], [y_ix[auxIdx] for auxIdx in idx_shuffle]\n",
    "X_train, X_test, y_train, y_test = X_shuffle[:train_test_split], X_shuffle[train_test_split:], y_shuffle[:train_test_split], y_shuffle[train_test_split:]"
   ]
  },
  {
   "cell_type": "code",
   "execution_count": 44,
   "id": "0b2db943",
   "metadata": {},
   "outputs": [],
   "source": [
    "labels = sorted({y for auxVec in y_train for y in auxVec})\n",
    "numTags = len(labels)\n",
    "seq_lengths = [len(auxVec) for auxVec in X_train] # note: want to create mask only for inputs we're going to use to train the model\n",
    "seq_length_max = max(seq_lengths)"
   ]
  },
  {
   "cell_type": "code",
   "execution_count": 25,
   "id": "8db219eb",
   "metadata": {},
   "outputs": [],
   "source": [
    "def create_mask(seq_length):\n",
    "    maxLen=max(seq_length)\n",
    "    auxLen=len(seq_length)\n",
    "    auxOne = torch.ones(maxLen)\n",
    "    auxZero = torch.zeros(maxLen)\n",
    "    auxOne_l=[1]*maxLen\n",
    "    auxZero_l=[0]*maxLen\n",
    "    auxMatrix=[]\n",
    "    for i in range(auxLen):\n",
    "        auxRow=auxOne_l[:seq_length[i]]+auxZero_l[seq_length[i]:]\n",
    "        auxMatrix.append(auxRow)\n",
    "    return torch.tensor(auxMatrix,dtype=torch.uint8)  "
   ]
  },
  {
   "cell_type": "code",
   "execution_count": 107,
   "id": "e666d144",
   "metadata": {},
   "outputs": [],
   "source": [
    "def fillList_ofLists(y,seq_length_max):\n",
    "    auxMatrix = []\n",
    "    for i in range(0,len(y)):\n",
    "        auxRow=y[i]+[0]*(seq_length_max-len(y[i]))\n",
    "        auxMatrix.append(auxRow)\n",
    "    return auxMatrix "
   ]
  },
  {
   "cell_type": "code",
   "execution_count": 108,
   "id": "3dd858cc",
   "metadata": {},
   "outputs": [],
   "source": [
    "mask = create_mask(seq_lengths)\n",
    "X_train_forCRF = fillList_ofLists(X_train,seq_length_max) # tags filled out and converted to tensor\n",
    "y_train_forCRF = fillList_ofLists(y_train,seq_length_max) # tags filled out and converted to tensor"
   ]
  },
  {
   "cell_type": "code",
   "execution_count": 125,
   "id": "1ca2164f",
   "metadata": {},
   "outputs": [
    {
     "name": "stdout",
     "output_type": "stream",
     "text": [
      "[0, 1, 4, 1, 1, 2, 1, 0, 1, 1, 3, 1, 1, 4, 1, 1, 9, 1, 1, 1, 1, 1, 1, 1, 1, 1, 1, 1, 1, 1, 1, 1, 1, 1, 1, 1, 1, 1, 8, 1, 1, 1, 1, 1, 10, 10, 1, 1, 1, 1, 1, 1, 11, 11, 1, 0, 0, 0, 0, 0, 0, 0, 0, 0, 0, 0, 0, 0, 0, 0, 0, 0, 0, 0, 0, 0, 0, 0, 0, 0, 0, 0, 0, 0, 0, 0, 0, 0, 0, 0, 0, 0, 0, 0, 0, 0, 0, 0, 0, 0, 0, 0, 0, 0, 0, 0, 0, 0, 0, 0, 0, 0, 0, 0, 0, 0, 0]\n"
     ]
    }
   ],
   "source": [
    "print(y_train_forCRF[1])"
   ]
  },
  {
   "cell_type": "code",
   "execution_count": 137,
   "id": "9632394f",
   "metadata": {},
   "outputs": [],
   "source": [
    "def convert_to_Tensor_andStack(y_train_forCRF):\n",
    "    auxMatrix = torch.tensor(y_train_forCRF[0])\n",
    "    for i in range(1,len(y_train_forCRF)):\n",
    "        auxMatrix = torch.vstack((auxMatrix,torch.tensor(y_train_forCRF[i])))\n",
    "    return auxMatrix\n",
    "\n",
    "tags = convert_to_Tensor_andStack(y_train_forCRF)"
   ]
  },
  {
   "cell_type": "code",
   "execution_count": null,
   "id": "9e12967d",
   "metadata": {},
   "outputs": [],
   "source": [
    "# Have mask and have tags\n",
    "# TO DO: emissions - see description in notebook"
   ]
  },
  {
   "cell_type": "code",
   "execution_count": null,
   "id": "a4d1e2fc",
   "metadata": {},
   "outputs": [],
   "source": []
  },
  {
   "cell_type": "code",
   "execution_count": null,
   "id": "f4daed66",
   "metadata": {},
   "outputs": [],
   "source": []
  },
  {
   "cell_type": "code",
   "execution_count": null,
   "id": "371179dc",
   "metadata": {},
   "outputs": [],
   "source": [
    "torch.manual_seed(1)\n",
    "#seq_length_max = 3  # maximum sequence length in a batch\n",
    "batch_size = X_train_length  # number of samples in the batch\n",
    "model = CRF(numTags,batch_first=True)\n",
    "\n",
    "#emissions = torch.randn(batch_size, seq_length_max, num_tags)\n",
    "#model(emissions, tags, mask=mask)\n",
    "#model.decode(emissions,mask=mask)"
   ]
  },
  {
   "cell_type": "code",
   "execution_count": null,
   "id": "e9fc25c7",
   "metadata": {},
   "outputs": [],
   "source": []
  },
  {
   "cell_type": "code",
   "execution_count": null,
   "id": "32be6603",
   "metadata": {},
   "outputs": [],
   "source": []
  },
  {
   "cell_type": "code",
   "execution_count": null,
   "id": "053713a5",
   "metadata": {},
   "outputs": [],
   "source": []
  },
  {
   "cell_type": "code",
   "execution_count": null,
   "id": "1c999cd4",
   "metadata": {},
   "outputs": [],
   "source": []
  },
  {
   "cell_type": "code",
   "execution_count": 109,
   "id": "49b52fd3",
   "metadata": {},
   "outputs": [],
   "source": [
    "def convertList_ofLists_bivariate(X_train,y_train): #stitches together 2 separate list of lists w/ identical lengths\n",
    "    auxMatrix=[]\n",
    "    for i in range(0,len(X_train)):\n",
    "        auxRow=list(zip(X_train[i],y_train[i]))\n",
    "        auxMatrix.append(auxRow)\n",
    "    return auxMatrix"
   ]
  },
  {
   "cell_type": "code",
   "execution_count": 110,
   "id": "9dee57ff",
   "metadata": {},
   "outputs": [],
   "source": [
    "a = convertList_ofLists_bivariate(X_train_forCRF,y_train_forCRF)"
   ]
  },
  {
   "cell_type": "code",
   "execution_count": 112,
   "id": "b6995fa0",
   "metadata": {},
   "outputs": [
    {
     "name": "stdout",
     "output_type": "stream",
     "text": [
      "[(362, 0), (392, 1), (99, 4), (4, 1), (2, 1), (1089, 2), (4, 1), (364, 0), (284, 1), (285, 1), (1094, 3), (9, 1), (71, 1), (133, 4), (6, 1), (12, 1), (1095, 9), (17, 1), (18, 1), (19, 1), (20, 1), (21, 1), (58, 1), (101, 1), (31, 1), (979, 1), (1096, 1), (21, 1), (221, 1), (26, 1), (35, 1), (39, 1), (2, 1), (103, 1), (40, 1), (41, 1), (42, 1), (43, 1), (91, 8), (21, 1), (47, 1), (54, 1), (53, 1), (55, 1), (405, 10), (245, 10), (399, 1), (136, 1), (32, 1), (59, 1), (60, 1), (27, 1), (225, 11), (96, 11), (21, 1), (0, 0), (0, 0), (0, 0), (0, 0), (0, 0), (0, 0), (0, 0), (0, 0), (0, 0), (0, 0), (0, 0), (0, 0), (0, 0), (0, 0), (0, 0), (0, 0), (0, 0), (0, 0), (0, 0), (0, 0), (0, 0), (0, 0), (0, 0), (0, 0), (0, 0), (0, 0), (0, 0), (0, 0), (0, 0), (0, 0), (0, 0), (0, 0), (0, 0), (0, 0), (0, 0), (0, 0), (0, 0), (0, 0), (0, 0), (0, 0), (0, 0), (0, 0), (0, 0), (0, 0), (0, 0), (0, 0), (0, 0), (0, 0), (0, 0), (0, 0), (0, 0), (0, 0), (0, 0), (0, 0), (0, 0), (0, 0), (0, 0), (0, 0), (0, 0), (0, 0), (0, 0), (0, 0)]\n"
     ]
    }
   ],
   "source": [
    "print(a[1])"
   ]
  },
  {
   "cell_type": "code",
   "execution_count": null,
   "id": "838e7bb0",
   "metadata": {},
   "outputs": [],
   "source": [
    "# now convert into a 3d tensor (noExamples,maxNoTokensInSentence,noLabels)\n"
   ]
  },
  {
   "cell_type": "code",
   "execution_count": 120,
   "id": "620c9b0e",
   "metadata": {},
   "outputs": [
    {
     "name": "stdout",
     "output_type": "stream",
     "text": [
      "[1, 2]\n",
      "[2, 3]\n",
      "Counter({(1, 2): 1, (2, 3): 1})\n"
     ]
    }
   ],
   "source": [
    "a=[(1,2),(2,3)]\n",
    "b = [auxA1 for auxA1,_ in a]\n",
    "print(b)\n",
    "c = [auxA2 for _,auxA2 in a]\n",
    "print(c)\n",
    "d=Counter(a)\n",
    "print(d)\n",
    "aux1 = a[1]"
   ]
  },
  {
   "cell_type": "code",
   "execution_count": null,
   "id": "870078a9",
   "metadata": {},
   "outputs": [],
   "source": [
    "# is below calc of emission probabilities actually necessary or CRF does this for us?"
   ]
  },
  {
   "cell_type": "code",
   "execution_count": 50,
   "id": "1514f0d0",
   "metadata": {},
   "outputs": [
    {
     "name": "stdout",
     "output_type": "stream",
     "text": [
      "[362, 64, 129, 363, 4, 364, 53, 98, 106, 27, 69, 365, 15, 366, 9, 43, 367, 17, 118, 21, 26, 102, 24, 39, 141, 142, 27, 69, 270, 89, 91, 21, 47, 14, 141, 142, 123, 368, 17, 21, 52, 53, 2, 54, 55, 346, 81, 21, 58, 59, 60, 27, 126, 62, 21]\n",
      "[0, 1, 1, 2, 1, 0, 1, 1, 4, 1, 1, 1, 1, 3, 1, 1, 9, 1, 1, 1, 1, 1, 1, 1, 4, 4, 4, 4, 4, 1, 8, 1, 1, 1, 1, 1, 1, 5, 1, 1, 1, 1, 1, 1, 1, 10, 10, 1, 1, 1, 1, 1, 11, 11, 1]\n"
     ]
    }
   ],
   "source": [
    "# naive emissions as simple likelihood of each word being classified to each label\n",
    "print(X_train[2])\n",
    "print(y_train[2])"
   ]
  },
  {
   "cell_type": "code",
   "execution_count": 98,
   "id": "68954cc3",
   "metadata": {},
   "outputs": [
    {
     "name": "stdout",
     "output_type": "stream",
     "text": [
      "5397\n",
      "5397\n",
      "Counter({(21, 1): 455, (2, 1): 175, (27, 1): 143, (17, 1): 119, (53, 1): 110, (9, 1): 95, (7, 1): 92, (4, 1): 85, (58, 1): 80, (43, 1): 78, (59, 1): 78, (54, 1): 77, (26, 1): 76, (55, 1): 75, (60, 1): 75, (52, 1): 71, (6, 1): 70, (39, 1): 64, (47, 1): 64, (18, 1): 59, (32, 1): 56, (14, 1): 54, (31, 1): 53, (15, 1): 53, (19, 1): 51, (20, 1): 51, (41, 1): 46, (42, 1): 46, (11, 1): 45, (40, 1): 44, (50, 1): 44, (49, 1): 43, (1, 1): 43, (96, 11): 41, (11, 4): 38, (29, 1): 38, (13, 1): 37, (136, 1): 35, (98, 1): 35, (69, 1): 35, (38, 1): 34, (12, 1): 32, (106, 4): 31, (62, 11): 31, (10, 1): 31, (141, 1): 30, (24, 1): 29, (64, 1): 28, (89, 1): 27, (91, 8): 26, (219, 1): 26, (216, 1): 24, (46, 1): 24, (35, 1): 23, (72, 7): 22, (37, 8): 22, (118, 1): 21, (48, 1): 21, (385, 1): 19, (37, 7): 19, (142, 1): 18, (72, 8): 18, (5, 0): 17, (27, 4): 16, (69, 4): 16, (105, 1): 16, (88, 1): 16, (22, 1): 16, (23, 1): 16, (101, 1): 15, (217, 1): 15, (861, 1): 14, (123, 1): 14, (91, 7): 14, (107, 1): 14, (132, 1): 14, (135, 1): 14, (30, 1): 14, (0, 0): 14, (99, 4): 13, (284, 1): 13, (129, 1): 13, (25, 1): 13, (878, 1): 13, (221, 1): 12, (160, 1): 12, (71, 1): 11, (61, 11): 11, (81, 11): 11, (285, 1): 10, (126, 10): 10, (267, 1): 10, (57, 10): 10, (81, 10): 9, (172, 1): 9, (161, 1): 9, (127, 11): 9, (139, 4): 9, (873, 1): 9, (110, 10): 9, (126, 11): 8, (171, 1): 8, (188, 0): 8, (95, 10): 8, (115, 1): 8, (139, 1): 8, (57, 11): 8, (102, 1): 7, (66, 0): 7, (90, 8): 7, (319, 10): 7, (839, 1): 7, (61, 10): 7, (296, 1): 7, (90, 7): 7, (133, 4): 6, (63, 0): 6, (340, 1): 6, (226, 10): 6, (110, 11): 6, (2, 2): 6, (214, 0): 6, (76, 8): 6, (106, 1): 6, (245, 11): 6, (93, 8): 6, (35, 8): 6, (241, 4): 6, (399, 1): 5, (225, 11): 5, (365, 1): 5, (186, 0): 5, (121, 1): 5, (879, 1): 5, (127, 10): 5, (225, 10): 5, (226, 11): 5, (93, 7): 5, (205, 10): 5, (211, 10): 5, (392, 1): 4, (103, 1): 4, (405, 10): 4, (142, 4): 4, (346, 10): 4, (144, 10): 4, (560, 0): 4, (847, 1): 4, (848, 1): 4, (901, 1): 4, (871, 1): 4, (482, 1): 4, (323, 1): 4, (27, 11): 4, (138, 8): 4, (865, 1): 4, (125, 10): 4, (319, 11): 4, (317, 4): 4, (270, 1): 4, (32, 8): 4, (236, 8): 4, (195, 0): 4, (199, 0): 4, (466, 1): 4, (292, 1): 4, (212, 0): 4, (56, 10): 4, (262, 0): 4, (369, 0): 4, (370, 0): 4, (243, 1): 4, (362, 0): 3, (364, 0): 3, (245, 10): 3, (270, 4): 3, (104, 4): 3, (187, 2): 3, (396, 1): 3, (398, 10): 3, (423, 10): 3, (154, 10): 3, (833, 1): 3, (882, 0): 3, (333, 10): 3, (838, 1): 3, (777, 1): 3, (483, 1): 3, (62, 10): 3, (156, 2): 3, (167, 10): 3, (168, 11): 3, (103, 4): 3, (55, 10): 3, (109, 10): 3, (720, 9): 3, (417, 4): 3, (412, 10): 3, (566, 0): 3, (133, 1): 3, (377, 10): 3, (557, 0): 3, (271, 1): 3, (272, 1): 3, (320, 1): 3, (821, 1): 3, (168, 10): 3, (859, 0): 2, (860, 1): 2, (1089, 2): 2, (979, 1): 2, (105, 4): 2, (343, 4): 2, (607, 0): 2, (1, 2): 2, (610, 0): 2, (540, 1): 2, (899, 1): 2, (324, 0): 2, (328, 0): 2, (99, 1): 2, (896, 1): 2, (280, 1): 2, (831, 1): 2, (297, 1): 2, (836, 1): 2, (910, 1): 2, (452, 1): 2, (883, 1): 2, (867, 0): 2, (950, 1): 2, (947, 1): 2, (538, 1): 2, (968, 1): 2, (972, 1): 2, (935, 1): 2, (974, 1): 2, (956, 1): 2, (823, 1): 2, (853, 1): 2, (858, 1): 2, (939, 1): 2, (864, 0): 2, (155, 0): 2, (158, 0): 2, (159, 3): 2, (77, 8): 2, (169, 11): 2, (348, 3): 2, (269, 1): 2, (191, 6): 2, (194, 10): 2, (185, 10): 2, (247, 2): 2, (251, 6): 2, (82, 0): 2, (84, 0): 2, (138, 7): 2, (713, 10): 2, (64, 2): 2, (202, 8): 2, (482, 4): 2, (662, 4): 2, (665, 1): 2, (274, 11): 2, (218, 1): 2, (335, 2): 2, (334, 0): 2, (337, 0): 2, (4, 2): 2, (400, 0): 2, (402, 0): 2, (688, 0): 2, (471, 1): 2, (691, 9): 2, (274, 10): 2, (263, 8): 2, (264, 8): 2, (446, 3): 2, (862, 0): 2, (863, 1): 2, (207, 9): 2, (131, 0): 2, (35, 7): 2, (266, 3): 2, (812, 9): 2, (431, 9): 2, (75, 8): 2, (734, 5): 2, (227, 0): 2, (228, 2): 2, (229, 2): 2, (230, 0): 2, (234, 8): 2, (235, 8): 2, (32, 7): 2, (383, 1): 2, (409, 7): 2, (1094, 3): 1, (1095, 9): 1, (1096, 1): 1, (363, 2): 1, (366, 3): 1, (367, 9): 1, (141, 4): 1, (368, 5): 1, (170, 2): 1, (173, 3): 1, (174, 5): 1, (393, 3): 1, (394, 9): 1, (395, 3): 1, (397, 7): 1, (813, 2): 1, (814, 2): 1, (815, 3): 1, (816, 6): 1, (817, 1): 1, (818, 9): 1, (819, 5): 1, (814, 1): 1, (598, 1): 1, (433, 2): 1, (353, 4): 1, (496, 1): 1, (497, 1): 1, (498, 3): 1, (499, 9): 1, (500, 7): 1, (501, 5): 1, (886, 1): 1, (887, 1): 1, (888, 1): 1, (889, 1): 1, (890, 1): 1, (891, 1): 1, (892, 1): 1, (893, 1): 1, (894, 1): 1, (895, 1): 1, (897, 1): 1, (898, 1): 1, (900, 1): 1, (902, 1): 1, (903, 1): 1, (904, 1): 1, (96, 1): 1, (905, 1): 1, (906, 1): 1, (907, 1): 1, (286, 1): 1, (908, 1): 1, (909, 1): 1, (911, 1): 1, (912, 1): 1, (913, 1): 1, (914, 1): 1, (915, 1): 1, (916, 1): 1, (917, 1): 1, (918, 1): 1, (919, 1): 1, (920, 1): 1, (921, 1): 1, (922, 1): 1, (648, 2): 1, (649, 2): 1, (650, 3): 1, (651, 1): 1, (652, 6): 1, (653, 5): 1, (654, 10): 1, (488, 0): 1, (489, 2): 1, (490, 0): 1, (491, 3): 1, (492, 5): 1, (493, 6): 1, (494, 8): 1, (495, 9): 1, (325, 2): 1, (326, 2): 1, (327, 2): 1, (329, 3): 1, (330, 5): 1, (331, 6): 1, (332, 9): 1, (959, 1): 1, (960, 1): 1, (961, 1): 1, (962, 1): 1, (963, 1): 1, (964, 1): 1, (965, 1): 1, (966, 1): 1, (967, 1): 1, (969, 1): 1, (970, 1): 1, (971, 1): 1, (973, 1): 1, (975, 1): 1, (976, 1): 1, (977, 1): 1, (978, 1): 1, (980, 1): 1, (981, 1): 1, (982, 1): 1, (983, 1): 1, (984, 1): 1, (335, 1): 1, (985, 1): 1, (986, 1): 1, (987, 1): 1, (988, 1): 1, (989, 1): 1, (990, 1): 1, (991, 1): 1, (992, 1): 1, (993, 1): 1, (994, 1): 1, (995, 1): 1, (996, 1): 1, (997, 1): 1, (998, 1): 1, (999, 1): 1, (680, 0): 1, (798, 2): 1, (799, 2): 1, (682, 0): 1, (800, 3): 1, (801, 1): 1, (802, 5): 1, (803, 9): 1, (157, 2): 1, (162, 8): 1, (163, 8): 1, (164, 8): 1, (165, 9): 1, (166, 5): 1, (347, 2): 1, (349, 3): 1, (624, 0): 1, (625, 7): 1, (357, 7): 1, (626, 7): 1, (627, 2): 1, (628, 0): 1, (629, 3): 1, (630, 1): 1, (631, 9): 1, (189, 3): 1, (190, 5): 1, (192, 8): 1, (193, 9): 1, (884, 0): 1, (513, 9): 1, (502, 0): 1, (503, 2): 1, (504, 0): 1, (505, 3): 1, (506, 9): 1, (507, 1): 1, (508, 1): 1, (509, 1): 1, (510, 1): 1, (511, 3): 1, (512, 7): 1, (513, 7): 1, (514, 7): 1, (182, 7): 1, (246, 2): 1, (248, 3): 1, (249, 1): 1, (250, 5): 1, (252, 8): 1, (253, 8): 1, (254, 9): 1, (83, 2): 1, (85, 3): 1, (86, 5): 1, (87, 6): 1, (92, 8): 1, (94, 9): 1, (608, 2): 1, (609, 2): 1, (611, 1): 1, (612, 3): 1, (613, 9): 1, (614, 5): 1, (1088, 2): 1, (1090, 3): 1, (1091, 9): 1, (1092, 7): 1, (1093, 5): 1, (924, 0): 1, (515, 0): 1, (516, 2): 1, (517, 0): 1, (1072, 3): 1, (1073, 5): 1, (1074, 6): 1, (1075, 9): 1, (413, 0): 1, (414, 2): 1, (415, 0): 1, (416, 3): 1, (418, 6): 1, (419, 8): 1, (420, 8): 1, (421, 9): 1, (422, 5): 1, (661, 2): 1, (663, 1): 1, (440, 3): 1, (664, 1): 1, (666, 1): 1, (93, 1): 1, (529, 1): 1, (667, 7): 1, (668, 7): 1, (669, 8): 1, (199, 8): 1, (670, 9): 1, (671, 1): 1, (672, 1): 1, (622, 10): 1, (586, 2): 1, (587, 2): 1, (588, 3): 1, (589, 5): 1, (590, 9): 1, (772, 2): 1, (773, 1): 1, (322, 4): 1, (774, 3): 1, (216, 3): 1, (775, 3): 1, (776, 3): 1, (778, 9): 1, (779, 7): 1, (136, 7): 1, (47, 7): 1, (780, 7): 1, (781, 5): 1, (1076, 2): 1, (526, 3): 1, (1077, 7): 1, (1078, 7): 1, (1079, 3): 1, (213, 2): 1, (207, 2): 1, (215, 3): 1, (220, 5): 1, (222, 6): 1, (223, 9): 1, (224, 10): 1, (548, 2): 1, (549, 2): 1, (550, 3): 1, (551, 5): 1, (552, 6): 1, (553, 8): 1, (554, 8): 1, (555, 8): 1, (556, 9): 1, (597, 2): 1, (100, 2): 1, (768, 3): 1, (769, 1): 1, (602, 6): 1, (603, 8): 1, (604, 8): 1, (770, 9): 1, (771, 5): 1, (570, 2): 1, (571, 3): 1, (572, 9): 1, (573, 3): 1, (543, 2): 1, (544, 3): 1, (545, 3): 1, (546, 9): 1, (547, 1): 1, (239, 2): 1, (240, 2): 1, (242, 3): 1, (244, 3): 1, (619, 2): 1, (620, 2): 1, (621, 3): 1, (622, 1): 1, (623, 5): 1, (463, 2): 1, (464, 3): 1, (465, 3): 1, (133, 3): 1, (467, 7): 1, (468, 7): 1, (469, 9): 1, (719, 2): 1, (720, 2): 1, (721, 1): 1, (722, 5): 1, (723, 10): 1, (558, 2): 1, (559, 2): 1, (561, 3): 1, (562, 5): 1, (563, 6): 1, (564, 9): 1, (97, 2): 1, (100, 3): 1, (108, 3): 1, (530, 0): 1, (531, 0): 1, (532, 2): 1, (533, 3): 1, (534, 3): 1, (535, 9): 1, (536, 1): 1, (145, 0): 1, (146, 2): 1, (147, 2): 1, (148, 0): 1, (149, 3): 1, (150, 9): 1, (151, 6): 1, (152, 8): 1, (153, 5): 1, (689, 2): 1, (690, 3): 1, (692, 4): 1, (216, 5): 1, (693, 5): 1, (694, 1): 1, (91, 1): 1, (615, 2): 1, (616, 9): 1, (617, 3): 1, (618, 5): 1, (923, 1): 1, (1057, 2): 1, (1058, 3): 1, (1059, 9): 1, (1060, 6): 1, (1061, 5): 1, (702, 10): 1, (1043, 2): 1, (1044, 3): 1, (1045, 9): 1, (243, 4): 1, (1046, 7): 1, (1047, 7): 1, (687, 10): 1, (425, 1): 1, (632, 2): 1, (633, 3): 1, (634, 7): 1, (635, 9): 1, (820, 1): 1, (822, 1): 1, (824, 1): 1, (825, 1): 1, (169, 1): 1, (826, 1): 1, (827, 1): 1, (828, 1): 1, (829, 1): 1, (830, 1): 1, (832, 1): 1, (834, 1): 1, (835, 1): 1, (837, 1): 1, (840, 1): 1, (841, 1): 1, (842, 1): 1, (843, 1): 1, (844, 1): 1, (845, 1): 1, (846, 1): 1, (849, 1): 1, (850, 1): 1, (851, 1): 1, (852, 1): 1, (854, 1): 1, (855, 1): 1, (856, 1): 1, (857, 1): 1, (866, 1): 1, (868, 1): 1, (869, 1): 1, (870, 1): 1, (872, 1): 1, (874, 1): 1, (875, 1): 1, (876, 1): 1, (877, 1): 1, (554, 1): 1, (371, 2): 1, (372, 3): 1, (373, 3): 1, (374, 9): 1, (282, 9): 1, (375, 7): 1, (376, 7): 1, (236, 7): 1, (263, 7): 1, (76, 7): 1, (264, 7): 1, (265, 2): 1, (268, 9): 1, (273, 5): 1, (799, 1): 1, (196, 2): 1, (197, 2): 1, (198, 2): 1, (200, 3): 1, (201, 6): 1, (203, 9): 1, (204, 5): 1, (703, 2): 1, (704, 3): 1, (520, 4): 1, (705, 3): 1, (522, 9): 1, (706, 1): 1, (175, 2): 1, (1080, 1): 1, (90, 1): 1, (1081, 5): 1, (880, 0): 1, (881, 1): 1, (470, 0): 1, (472, 2): 1, (473, 0): 1, (474, 3): 1, (475, 9): 1, (476, 6): 1, (477, 7): 1, (478, 7): 1, (479, 8): 1, (480, 8): 1, (481, 5): 1, (804, 2): 1, (805, 3): 1, (806, 9): 1, (807, 5): 1, (65, 2): 1, (67, 3): 1, (68, 5): 1, (70, 6): 1, (73, 8): 1, (74, 8): 1, (78, 8): 1, (79, 9): 1, (80, 10): 1, (782, 0): 1, (783, 0): 1, (784, 3): 1, (785, 9): 1, (606, 10): 1, (1033, 0): 1, (1034, 2): 1, (1035, 2): 1, (1036, 0): 1, (1037, 3): 1, (1038, 9): 1, (1039, 8): 1, (1040, 8): 1, (1041, 8): 1, (1042, 5): 1, (484, 3): 1, (485, 9): 1, (486, 6): 1, (487, 5): 1, (111, 0): 1, (112, 2): 1, (113, 2): 1, (114, 0): 1, (116, 3): 1, (117, 9): 1, (119, 6): 1, (120, 1): 1, (122, 8): 1, (124, 5): 1, (255, 2): 1, (256, 2): 1, (257, 3): 1, (258, 6): 1, (259, 9): 1, (260, 7): 1, (261, 5): 1, (444, 0): 1, (445, 0): 1, (296, 2): 1, (447, 2): 1, (283, 1): 1, (448, 3): 1, (449, 1): 1, (450, 1): 1, (451, 1): 1, (453, 1): 1, (454, 4): 1, (455, 1): 1, (295, 1): 1, (456, 1): 1, (457, 10): 1, (297, 11): 1, (128, 0): 1, (129, 2): 1, (130, 2): 1, (134, 9): 1, (137, 7): 1, (140, 3): 1, (143, 5): 1, (565, 2): 1, (567, 9): 1, (568, 7): 1, (569, 5): 1, (1066, 0): 1, (1067, 2): 1, (1068, 0): 1, (454, 1): 1, (1069, 1): 1, (1070, 3): 1, (1071, 5): 1, (730, 1): 1, (731, 3): 1, (732, 9): 1, (733, 7): 1, (3, 2): 1, (8, 3): 1, (16, 5): 1, (28, 6): 1, (33, 7): 1, (34, 7): 1, (36, 7): 1, (44, 8): 1, (45, 8): 1, (51, 9): 1, (424, 2): 1, (425, 3): 1, (426, 3): 1, (361, 10): 1, (378, 2): 1, (379, 1): 1, (380, 3): 1, (381, 1): 1, (382, 1): 1, (384, 1): 1, (386, 5): 1, (387, 1): 1, (574, 2): 1, (575, 4): 1, (576, 1): 1, (577, 3): 1, (578, 3): 1, (579, 9): 1, (580, 1): 1, (581, 7): 1, (582, 7): 1, (583, 8): 1, (584, 8): 1, (585, 8): 1, (714, 2): 1, (715, 2): 1, (716, 3): 1, (717, 1): 1, (718, 5): 1, (427, 2): 1, (251, 2): 1, (428, 3): 1, (429, 1): 1, (430, 5): 1, (336, 2): 1, (338, 3): 1, (339, 9): 1, (341, 1): 1, (342, 3): 1, (344, 7): 1, (345, 7): 1, (78, 7): 1, (707, 2): 1, (708, 0): 1, (709, 3): 1, (710, 5): 1, (711, 6): 1, (712, 9): 1, (401, 2): 1, (403, 3): 1, (404, 3): 1, (808, 2): 1, (809, 3): 1, (101, 4): 1, (810, 3): 1, (811, 9): 1, (274, 1): 1, (591, 2): 1, (592, 3): 1, (593, 9): 1, (594, 1): 1, (595, 6): 1, (375, 8): 1, (376, 8): 1, (596, 5): 1, (1097, 2): 1, (1098, 3): 1, (1099, 5): 1, (1100, 6): 1, (1101, 8): 1, (1102, 9): 1, (406, 9): 1, (407, 7): 1, (408, 7): 1, (410, 3): 1, (411, 5): 1, (925, 1): 1, (926, 1): 1, (927, 1): 1, (928, 1): 1, (929, 1): 1, (930, 1): 1, (931, 1): 1, (932, 1): 1, (933, 1): 1, (934, 1): 1, (936, 1): 1, (937, 1): 1, (938, 1): 1, (940, 1): 1, (941, 1): 1, (298, 1): 1, (942, 1): 1, (943, 1): 1, (944, 1): 1, (945, 1): 1, (946, 1): 1, (948, 1): 1, (949, 1): 1, (951, 1): 1, (952, 1): 1, (953, 1): 1, (954, 1): 1, (955, 1): 1, (957, 1): 1, (958, 1): 1, (231, 3): 1, (232, 1): 1, (233, 6): 1, (237, 9): 1, (238, 5): 1, (275, 2): 1, (276, 3): 1, (277, 5): 1, (388, 3): 1, (389, 8): 1, (390, 9): 1, (391, 5): 1, (537, 2): 1, (538, 2): 1, (539, 3): 1, (541, 5): 1, (542, 9): 1, (229, 1): 1, (251, 9): 1})\n"
     ]
    }
   ],
   "source": [
    "# now convert into count dictionary\n",
    "c = Counter([auxItem for auxVec in a for auxItem in auxVec])\n",
    "d=c.values()\n",
    "print(sum(d)) \n",
    "print(sum(seq_lengths)) # matches ... OK\n",
    "print(c)"
   ]
  },
  {
   "cell_type": "code",
   "execution_count": null,
   "id": "376abe70",
   "metadata": {},
   "outputs": [],
   "source": [
    "# now convert this count dict into dict /w probabilities of each word given each "
   ]
  },
  {
   "cell_type": "code",
   "execution_count": null,
   "id": "d6293a41",
   "metadata": {},
   "outputs": [],
   "source": [
    "\n",
    "vocab = sorted({w for seq in X_train for w in seq}) + [\"$UNK\"]\n",
    "vocab_length = len(X_train)\n",
    "y_train_length = len(labels)\n",
    "\n",
    "def convertCounter_toMatrix_rawCounts(c,X_train_length,y_train_length):\n",
    "    auxMatrix=torch.zeros(X_train_length,y_train_length)\n",
    "    # now convert into matrix format\n",
    "    for i in range(0,X_train_length):\n",
    "        for j in range(0,y_train_length):\n",
    "            if (i,j) in c: \n",
    "                auxMatrix[i][j] = c[(i,j)]\n",
    "    return auxMatrix\n",
    "e = convertCounter_toMatrix_rawCounts(c,X_train_length,y_train_length)"
   ]
  },
  {
   "cell_type": "code",
   "execution_count": 94,
   "id": "0eb2b558",
   "metadata": {},
   "outputs": [
    {
     "name": "stdout",
     "output_type": "stream",
     "text": [
      "99\n",
      "99\n"
     ]
    }
   ],
   "source": [
    "print(len(e[0]))\n",
    "print(y_train_length)"
   ]
  },
  {
   "cell_type": "code",
   "execution_count": 95,
   "id": "49d7ddff",
   "metadata": {},
   "outputs": [
    {
     "name": "stdout",
     "output_type": "stream",
     "text": [
      "torch.Size([99, 117])\n"
     ]
    }
   ],
   "source": [
    "print(mask.shape)"
   ]
  }
 ],
 "metadata": {
  "kernelspec": {
   "display_name": "Python 3 (ipykernel)",
   "language": "python",
   "name": "python3"
  },
  "language_info": {
   "codemirror_mode": {
    "name": "ipython",
    "version": 3
   },
   "file_extension": ".py",
   "mimetype": "text/x-python",
   "name": "python",
   "nbconvert_exporter": "python",
   "pygments_lexer": "ipython3",
   "version": "3.8.12"
  }
 },
 "nbformat": 4,
 "nbformat_minor": 5
}
