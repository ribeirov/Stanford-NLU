{
 "cells": [
  {
   "cell_type": "code",
   "execution_count": 1,
   "id": "4fb1d1e0",
   "metadata": {},
   "outputs": [],
   "source": [
    "import json # read from json file\n",
    "import re\n",
    "from collections import Counter \n",
    "from sklearn.utils import shuffle"
   ]
  },
  {
   "cell_type": "code",
   "execution_count": 2,
   "id": "6708da91",
   "metadata": {},
   "outputs": [],
   "source": [
    "### RUN\n",
    "with open('annotations2.jsonl') as jsonl_file:\n",
    "    # note: after running data-preprocessing.ipynb this file already has token-level labels\n",
    "    lines = jsonl_file.readlines()\n",
    "annot = [json.loads(line) for line in lines]\n",
    "#print(annot[0])"
   ]
  },
  {
   "cell_type": "code",
   "execution_count": 3,
   "id": "669d651e",
   "metadata": {},
   "outputs": [],
   "source": [
    "### RUN\n",
    "# now convert annotation tokens into list (sentences) of lists (tokens) format for sklearn_crfsuite.CRF\n",
    "train_sents=[] \n",
    "for j in range(0,len(annot)):\n",
    "    a = annot[j]['tokens']\n",
    "    train_sentence = []\n",
    "    for i in range(0,len(a)):\n",
    "        if 'label' in a[i]: # only add element if this sample sentence has been labelled \n",
    "            token_element = (a[i]['text'],a[i]['label'])\n",
    "            train_sentence.append(token_element)\n",
    "    train_sents.append(train_sentence)"
   ]
  },
  {
   "cell_type": "code",
   "execution_count": 7,
   "id": "b49c30f1",
   "metadata": {},
   "outputs": [],
   "source": [
    "labels = sorted({a for seq in train_sents for _,a in seq})"
   ]
  },
  {
   "cell_type": "code",
   "execution_count": 9,
   "id": "e241a671",
   "metadata": {},
   "outputs": [
    {
     "name": "stdout",
     "output_type": "stream",
     "text": [
      "Counter({'O': 5600, 'ORT': 238, 'DATUM_VERTRAG': 222, 'IMMO_TYP': 219, 'VERKAEUFER': 215, 'DATUM_VERBUECHERUNG': 212, 'STRASSE': 166, 'KAEUFER': 153, 'FLAECHE': 139, 'GESAMTPREIS': 103, 'QMPREIS': 77, 'TERRASSENGROESSE': 36})\n",
      "7380\n"
     ]
    }
   ],
   "source": [
    "# summary counts\n",
    "# first unfold y_train\n",
    "y_train_all = [a for seq in train_sents for _,a in seq]\n",
    "y_train_all_count = Counter(y_train_all)\n",
    "print(y_train_all_count)\n",
    "print(len(y_train_all))"
   ]
  },
  {
   "cell_type": "code",
   "execution_count": 10,
   "id": "88c99695",
   "metadata": {},
   "outputs": [
    {
     "name": "stdout",
     "output_type": "stream",
     "text": [
      "Counter({'2021': 55, '2020': 42, 'oktober': 18, 'dezember': 14, 'juli': 13, 'august': 12, 'september': 9, 'november': 9, 'februar': 8, 'april': 7, 'juni': 7, 'mai': 6, 'mit': 4, 'jänner': 3, '2022': 2, 'märz': 2, '2019': 1})\n",
      "Counter({'september': 14, 'august': 12, 'juli': 12, 'november': 12, 'mai': 11, 'oktober': 10, 'april': 10, '6.': 9, 'juni': 8, '12.': 7, '3.': 7, '18.': 6, '1.': 6, '29.': 6, '2.': 6, 'dezember': 6, '4.': 5, '27.': 5, '5.': 5, '23.': 5, '16.': 4, 'märz': 4, 'jänner': 4, '7.': 3, '10.': 3, 'am': 3, 'februar': 3, '2019': 3, '28.': 3, '20.': 3, '25.': 3, '31.': 3, '2020': 3, '19.': 2, '15.': 2, '30.': 2, '24.': 2, '21.': 2, '11.': 1, '9.': 1, '25.04.2019': 1, '8.': 1, '13.': 1, '2012': 1, '14.': 1, '26.': 1})\n",
      "Counter({'75,14': 2, '1526': 2, '82': 2, '145': 2, '142': 2, '71,93': 1, '100,67': 1, '76,9': 1, '35': 1, '197': 1, '63,25': 1, '781': 1, '98,84': 1, '1827': 1, '54,32': 1, '66,92': 1, '104,38': 1, '78,86': 1, '52,43': 1, '90,88': 1, '104': 1, '422': 1, '46,5': 1, '80,36': 1, '615': 1, '587': 1, '1000': 1, '199': 1, '66,44': 1, '129': 1, '1085': 1, '481': 1, '483': 1, '841': 1, '294': 1, '1826': 1, '48': 1, '84,98': 1, '527': 1, '2214': 1, '207': 1, '878': 1, '727': 1, '96,5': 1, '110': 1, '821': 1, '64,34': 1, '1214': 1, '103,49': 1, '1209': 1, '3298': 1, '192': 1, '1066': 1, 'grund': 1, '77,4': 1, '50,05': 1, '88,11': 1, '917': 1, '857': 1, '2599': 1, '98': 1, '413': 1, '625': 1, '95': 1, '319': 1, '75,75': 1, '158': 1, '805': 1, '77,72': 1, '93,8': 1, '218': 1, '1123': 1, '286': 1, '2237': 1, '111,28': 1, '105,81': 1, '96,07': 1, '80': 1, '590': 1, '65,43': 1, '170': 1, '1086': 1, '141': 1, '469': 1, '81,37': 1, '73,28': 1, '53,8': 1, '280': 1, '343': 1, '1296': 1, '68,06': 1, '583': 1, '362': 1, '2593': 1, '103': 1, '600': 1, '110,34': 1, '72,64': 1, '113': 1, '4215': 1, '613': 1, '88,03': 1, '78,91': 1, '799': 1, '2436': 1, '700': 1, '103,25': 1, '1105': 1, '(': 1, '553': 1, '552': 1, '809': 1, '808': 1, '790': 1, '112,8': 1, '647': 1, '79': 1, '339': 1, '81,16': 1, '81,15': 1, '70': 1, '96': 1, '432': 1, '2013': 1, '90,5': 1, '626': 1, '30367': 1, '131,73': 1, '1137': 1, '95,74': 1, '1145': 1, '171': 1, '62,17': 1, '56': 1})\n",
      "Counter({'millionen': 3, '1': 3, '4': 3, '290.000': 2, '520.000': 2, '430.000': 2, '150.000': 2, '700.000': 2, '9': 2, '3': 2, '398.040': 1, '621.000': 1, '394.800': 1, '259.000': 1, '665.000': 1, '2.232.000': 1, '249.900': 1, '298.338': 1, '292.700': 1, '474.000': 1, '219.000': 1, '524.000': 1, '282.000': 1, '260.000': 1, '1.083.460': 1, '(': 1, '9,7': 1, '9,5': 1, '355.000': 1, '2.712.500': 1, '470.000': 1, '605.520': 1, '1,77': 1, '371.700': 1, '1.650.000': 1, '820.056': 1, '706.390': 1, '560.000': 1, '2.167.000': 1, '500.000': 1, '850.000': 1, '452.400': 1, '282.800': 1, '417.970': 1, '880.320': 1, '770.000': 1, '411.000': 1, '612.200': 1, '312.000': 1, '800.000': 1, '445.000': 1, '1.304.100': 1, '730.000': 1, '1.839.850': 1, '350.000': 1, '654.252': 1, '480.092': 1, '270.000': 1, '258.000': 1, '280.000': 1, '1.346.640': 1, '652.000': 1, '257.200': 1, '1.300.000': 1, '373.900': 1, '975.000': 1, '349.000': 1, '538.400': 1, '1.475.250': 1, '361.250': 1, '226.600': 1, '231.000': 1, '538.890': 1, '1.049.750': 1, '283.150': 1, '262.600': 1, '582.300': 1, '475.000': 1, '315.000': 1, '6': 1, '319.176': 1, '809.800': 1, '297.000': 1, '510.000': 1, '419.420': 1, '858.000': 1, '674.182': 1, '629.750': 1, '425.000': 1, '361.000': 1})\n",
      "Counter({'wohnung': 49, 'grundstück': 44, 'gebäude': 17, 'mit': 17, 'einer': 17, 'baufläche-wohngebiet-widmung': 9, 'grund': 8, 'einfamilienhaus': 7, 'bodens': 5, 'haus': 5, 'baufläche-mischgebiet-widmung': 4, 'dachgeschosswohnung': 4, 'immobilie': 3, 'freihaltefläche-widmung': 3, 'grundstücksfläche': 3, 'das': 2, 'grundstücke': 2, 'gebäudes': 2, 'bebautes': 2, 'zwei': 2, 'benachbarte': 2, 'baufläche': 2, 'liegenschaft': 1, 'des': 1, 'boden': 1, 'reihenhaus': 1, 'geschäftslokal': 1, 'zinshaus': 1, 'baufläche-wohngebietwidmung': 1, 'hausanteil': 1, 'wohnhauses': 1, 'industriegebäude': 1})\n",
      "Counter({'privatperson': 28, 'gmbh': 25, 'privatpersonen': 20, 'mehrere': 10, 'immobilien': 6, 'die': 3, 'und': 2, 'wohnbau': 2, 'prisma': 2, 'investment': 2, 'vallilean': 1, 'beteiligungs-': 1, 'immobilienverwaltungs': 1, 'w+m': 1, 'loek': 1, 'hilti': 1, '&': 1, 'jehle': 1, 'internationaler': 1, 'finanzinvestor': 1, 'bekannter': 1, 'deutscher': 1, 'industrieller': 1, 'hbb': 1, 'immobilienverwaltng': 1, 'kg': 1, 'schmelzenbach': 1, 'nägele': 1, 'wohn-': 1, 'projektbau': 1, 'canbau': 1, 'standort': 1, 'tb17': 1, 'keckeis': 1, 'installations': 1, 'loacker': 1, 'verwaltungs': 1, 'q21': 1, 'zm': 1, '3': 1, 'immobiliengesellschaft': 1, 'mbh': 1, 'top': 1, 'regio': 1, 'd.e.': 1, 'invest': 1, 'hefel': 1, 'adler': 1, 'beherbergungs': 1, 'erhart': 1, 'holding': 1, 'breitenberg': 1, 'golobimmo': 1, 'grabher': 1, ',': 1, 'der': 1, 'baumeister': 1, 'pegasus': 1, 'immo': 1, 'ed': 1, 'double': 1, 'v': 1, 'müller': 1})\n",
      "Counter({'.': 629, 'der': 332, 'mit': 204, 'die': 181, 'in': 170, 'euro': 163, 'wurde': 152, 'quadratmeter': 128, 'eine': 125, 'verbücherung': 108, 'am': 106, 'um': 105, 'kaufvertrag': 105, 'unterzeichnet': 104, 'käufer': 103, 'datiert': 103, 'hat': 93, 'verkäufer': 88, 'den': 78, 'bei': 76, 'quadratmeterpreis': 75, 'von': 74, 'ist': 71, 'besitzer': 67, 'gewechselt': 67, 'wohnung': 62, 'es': 61, 'sich': 60, 'liegt': 60, 'ein': 58, 'handelt': 56, 'im': 56, 'einer': 54, 'quadratmetern': 52, 'einen': 51, 'auch': 49, 'verkauft': 49, 'beim': 45, ',': 44, 'große': 43, 'des': 43, 'für': 41, 'sind': 41, 'das': 40, ')': 36, '(': 33, ' ': 29, 'und': 29, 'kaufpreis': 28, 'bodens': 27, 'dieser': 26, 'beinhaltet': 24, 'balkon': 22, 'auf': 22, ':': 22, 'pkw-abstellplatz': 21, 'baujahr': 21, 'baufläche': 20, 'beträgt': 20, 'bereich': 20, 'fläche': 19, 'durch': 18, 'als': 18, 'terrasse': 17, 'einem': 17, 'großen': 16, 'prozent': 16, 'ha': 16, 'sowohl': 14, 'baufläche-wohngebiet-widmung': 14, 'großes': 13, 'wie': 12, 'nutzfläche': 10, 'objekt': 10, 'grundstück': 10, 'hektar': 10, 'immobilie': 8, 'dazugehörige': 8, 'bauflächen': 8, 'eigentümer': 7, 'gesamtfläche': 7, 'garten': 6, 'grundbuch': 6, 'baufläche-mischgebiet-widmung': 6, 'neuen': 6, '1999': 6, 'bzw.': 6, 'wohnhauses': 5, 'laut': 5, 'erfolgte': 5, 'haben': 5, 'groß': 5, 'grund': 5, '60': 5, 'jahren': 5, 'zwei': 4, 'pkw-stellplätze': 4, 'vor': 4, 'entwicklung': 4, 'seit': 4, 'letzten': 4, 'beiden': 3, 'vertragsunterzeichnung': 3, 'gebäude': 3, '2021': 3, 'gesamt': 3, 'gemeinden': 3, 'bürgermeister': 3, 'habe': 3, 'so': 3, '1973': 2, 'erworben': 2, 'steht': 2, 'lediglich': 2, 'beide': 2, '2019': 2, 'dem': 2, 'gewidmet': 2, 'mischgebiet': 2, 'baufläche-kerngebiet-widmung': 2, 'worden': 2, '1992': 2, 'qm': 2, 'bauerwartungsfläche-wohngebiet-widmung': 2, 'boden': 2, 'hand': 2, 'allerdings': 2, 'daten': 2, 'flächen': 2, 'zeitspanne': 2, 'angestiegen': 2, 'etwa': 2, '67': 2, '61': 2, 'gab': 2, '50': 2, 'innerhalb': 2, '118': 2, 'wiederum': 2, '20': 2, '13': 2, 'erklärt': 2, 'bedarf': 2, 'bauflächenwidmungen': 2, 'seien': 2, 'wirtschaftliche': 2, 'wohnraum': 2, 'man': 2, 'egger': 2, 'nicht': 2, 'realisiert': 2, '„': 2, 'aber': 2, 'noch': 2, '“': 2, 'bitschi': 2, '123,6': 1, '188,6': 1, '1976': 1, 'etwas': 1, 'teurere': 1, 'neuer': 1, 'exklusiven': 1, 'scheint': 1, 'norwegen': 1, 'kaum': 1, 'weniger': 1, 'tief': 1, 'musste': 1, 'tasche': 1, 'greifen': 1, 'erwarb': 1, 'unternehmer': 1, 'rund': 1, 'bebaut': 1, 'umfasst': 1, 'abbruchreifem': 1, 'liegenschaft': 1, 'knapp': 1, 'inklusive': 1, 'kellerabteil': 1, '1967': 1, 'unterschrieben': 1, '1996': 1, 'ruhiger': 1, 'wohnlage': 1, 'sowie': 1, 'wohngebiet': 1, 'war': 1, 'wird': 1, 'abgetragen': 1, 'widmung': 1, 'landwirtschaftlichen': 1, 'bauten': 1, 'käufern': 1, 'verkäufern': 1, 'seinen': 1, 'tankstelle': 1, 'geschäftslokals': 1, '192,83': 1, '2020': 1, '134,39': 1, '1969': 1, '2012': 1, '759': 1, '2011': 1, '1994': 1, 'gesamt-baufläche': 1, '251': 1, '29': 1, 'immobilien': 1, 'bereits': 1, 'gebäudes': 1, 'pro': 1, 'privatpersonen': 1, 'ebenfalls': 1, '1995': 1, '1981': 1, 'größe': 1, 'baumgartenstraße': 1, 'bauerwartungsfläche-mischgebiet-widmung': 1, '2005': 1, '153,29': 1, 'wurden': 1, '2015': 1, 'märz': 1, '18,77': 1, 'widmungen': 1, 'freie': 1, 'autonom': 1, 'ab': 1, '2022': 1, 'verbindliche': 1, 'räumliche': 1, 'entwicklungspläne': 1, 'rep': 1, 'geben': 1, 'rahmen': 1, 'blick': 1, 'jüngsten': 1, 'zur': 1, 'allen': 1, '96': 1, 'zeigt': 1, 'deutliche': 1, 'unterschiede': 1, 'einzelnen': 1, 'kleineren': 1, 'keine': 1, 'weiteren': 1, 'dazugekommen': 1, 'anderen': 1, 'massiv': 1, 'oder': 1, 'vorarlbergweit': 1, '22': 1, '10.530': 1, 'mittlerweile': 1, '11.453': 1, 'plus': 1, '924': 1, '+': 1, '54': 1, '110': 1, '33': 1, '30': 1, '25': 1, 'großzügigsten': 1, 'voraussetzungen': 1, 'findet': 1, 'vorarlbergs': 1, 'größte': 1, 'stadt': 1, 'frühzeitig': 1, 'vorrat': 1, 'bedacht': 1, 'kamen': 1, 'vorgegebenen': 1, 'siedlungsränder': 1, 'dazu': 1, 'dynamik': 1, 'zurückgegangen': 1, 'zwischen': 1, 'zeigen': 1, 'vn': 1, 'vorliegenden': 1, 'zuwachs': 1, 'bauland': 1, 'aufgrund': 1, 'seiner': 1, 'geografischen': 1, 'lage': 1, 'wachstum': 1, 'stark': 1, 'beschränkt': 1, 'acht': 1, 'landeshauptstadt': 1, 'nur': 1, 'vier': 1, 'vergrößert': 1, '10': 1, '11': 1, '19': 1, 'andere': 1, 'können': 1, 'aus': 1, 'vollen': 1, 'schöpfen': 1, 'davon': 1, 'alleine': 1, 'zehn': 1, 'zugenommen': 1, 'florian': 1, 'kasseroler': 1, 'betriebserweiterungen': 1, 'großer': 1, 'internationaler': 1, 'unternehmen': 1, 'damit': 1, 'standortbekenntnis': 1, 'abgegeben': 1, 'hätten': 1, 'wesentlich': 1, 'gewesen': 1, 'was': 1, 'betrifft': 1, 'bewege': 1, 'konsequent': 1, 'siedlungsgebietes': 1, 'zu': 1, 'umfangreichen': 1, 'geführt': 1, 'fallen': 1, '15': 1, 'sechs': 1, 'jahre': 1, 'strukturellen': 1, 'nachholbedarf': 1, 'gegeben': 1, 'dieter': 1, 'weil': 1, 'entsprechende': 1, 'private': 1, 'industriegebiete': 1, 'mobilisierbar': 1, 'waren': 1, 'heft': 1, 'selbst': 1, 'genommen': 1, 'neu': 1, 'gewidmeten': 1, 'soll': 1, 'betriebsgebiet': 1, 'a14': 1, 'werden': 1, 'grundsätzlich': 1, 'wäre': 1, 'weit': 1, 'größer': 1, 'über': 1, 'ganze': 1, 'mehr': 1, 'gibt': 1, '750-seelen-ort': 1, 'steigerung': 1, 'dynamischen': 1, 'allem': 1, '2007': 1, 'bis': 1, '2011.': 1, 'damals': 1, 'appartement-komplexe': 1, 'umgesetzt': 1, 'hotelerweiterungen': 1, 'verstärkte': 1, 'nachfrage': 1, 'nach': 1, 'weiter': 1, 'zahl': 1, 'einwohner': 1, 'sei': 1, '650': 1, '750': 1, 'erhöhte': 1, 'bauvolumen': 1, 'an': 1, 'einfamilienhäusern': 1, 'gemeinnützigen': 1, 'wohnbauprojekt': 1, 'niedergeschlagen': 1, 'befindet': 1, 'freifläche-landwirtschaft-widmung': 1, '1991': 1, 'mehrere': 1, 'schlatt': 1, 'drei': 1, 'bekannt': 1})\n",
      "Counter({'dornbirn': 37, 'feldkirch': 25, 'hohenems': 15, 'bregenz': 12, 'götzis': 9, 'lustenau': 9, 'schruns': 8, 'rankweil': 8, 'bludenz': 7, 'höchst': 6, 'lauterach': 5, 'ludesch': 4, 'vandans': 4, 'bludesch': 4, 'hörbranz': 4, 'lochau': 4, 'frastanz': 4, 'schwarzach': 4, 'nüziders': 4, 'wolfurt': 4, 'satteins': 4, 'koblach': 3, 'schlins': 3, 'zwischenwasser': 3, 'brand': 3, 'nenzing': 3, 'lech': 2, 'göfis': 2, 'sulzberg': 2, 'klaus-weiler': 2, 'egg': 2, 'hohenweiler': 2, 'bartholomäberg': 2, 'mäder': 2, 'bürs': 2, 'riefensberg': 2, 'altach': 2, 'klösterle': 2, 'blons': 2, 'fontanella': 2, 'schröcken': 2, 'hard': 2, 'krumbach': 2, 'doren': 2, 'zürs': 1, 'gaissau': 1, 'gaißau': 1, 'bürserberg': 1, 'fußach': 1, 'klaus': 1})\n",
      "Counter({'350': 2, '5533,71': 1, '6168,67': 1, '5133,94': 1, '4094,86': 1, '851,47': 1, '18.818,29': 1, '3325,79': 1, '142,3': 1, '5492,22': 1, '4373,87': 1, '4541,09': 1, '4945,47': 1, '4176,99': 1, '5765,85': 1, '6064,51': 1, '3235,44': 1, '710': 1, '650,4': 1, '5343,17': 1, '973,08': 1, '720': 1, '2927,64': 1, '4373,97': 1, '1128': 1, '7320,1': 1, '4507,3': 1, '470,19': 1, '20939,22': 1, '151,6': 1, '4870,8': 1, '5650,35': 1, '4743,72': 1, '960': 1, '4118,81': 1, '5725,68': 1, '4584,22': 1, '854,58': 1, '3145,21': 1, '6183,27': 1, '4997,31': 1, '3375': 1, '437,28': 1, '5333,94': 1, '8012,78': 1, '4694,32': 1, '4135,68': 1, '5493,68': 1, '(': 1, '266': 1, '3162,95': 1, '2959,8': 1, '3902,43': 1, '4767,98': 1, '473,08': 1, '4543,9': 1, '4578': 1, '330': 1, '5219,27': 1, '950': 1, '325': 1, '544': 1, '6205,67': 1, '900': 1, '3881,22': 1, '3933,16': 1, '3093,75': 1, '5635,35': 1, '670': 1, '4,93': 1, '6513,32': 1, '3859,46': 1, '5868,16': 1, '550': 1, '5806,65': 1, '5357,14': 1})\n",
      "Counter({'der': 6, 'im': 5, 'in': 4, 'walgaustraße': 3, 'radetzkystraße': 3, 'bereich': 2, 'bachgasse': 2, '9': 2, 'quellengasse': 2, '19': 2, '7': 2, 'auf': 2, 'römerstraße': 2, 'hag': 2, 'bergäcker': 2, 'sandgasse': 2, '2': 2, '35': 2, 'landstraße': 2, 'schulgasse': 1, 'altenreuteweg': 1, 'raggalerstraße': 1, 'fohramoos': 1, 'bahnhofstraße': 1, '5': 1, 'nollen': 1, 'strass': 1, '42': 1, '30': 1, 'berggasse': 1, '43': 1, 'johann': 1, 'wiederin': 1, 'weg': 1, 'gilmstraße': 1, 'holzbündt': 1, 'oberer': 1, 'kirchweg': 1, 'kirchgasse': 1, 'fischbachgasse': 1, '45a': 1, 'bleiche': 1, 'primelweg': 1, 'lochauer': 1, 'straße': 1, '12b': 1, 'reute': 1, 'novalgasse': 1, 'vordere': 1, 'achmühlerstraße': 1, 'lettenstraße': 1, 'schützenstraße': 1, 'bergmannstraße': 1, 'einliserfeldweg': 1, 'kapellenstraße': 1, 'watzenegg': 1, 'schwefelquelle': 1, '6': 1, 'zürs': 1, '280': 1, 'wolfbühl': 1, 'rappenwaldstraße': 1, 'kreuzgasse': 1, 'lurabühel': 1, 'stadlermöser': 1, 'fesslers': 1, 'länglegasse': 1, 'luttweg': 1, 'strabonstraße': 1, '20': 1, 'altreute': 1, 'reichsstraße': 1, '39': 1, 'steinackerstraße': 1, '26': 1, 'stegenwies': 1, 'litz': 1, 'arlbergstraße': 1, 'gallusstraße': 1, '51': 1, 'montfortstraße': 1, '33': 1, 'walserweg': 1, '18': 1, 'doz.-albrich-weg': 1, 'hämmerlestraße': 1, '52': 1, 'hauptstraße': 1, 'erlenweg': 1, 'zellerweg': 1, '6b': 1, 'klienstraße': 1, '12': 1, 'werkstraße': 1, 'außerlitzstraße': 1, 'rüttenenstraße': 1, 'kessel': 1, '3': 1, 'fingabühel': 1, 'gaden': 1, 'sonnengarten': 1, '40': 1, 'siedlung': 1, '17': 1, 'büngenstraße': 1, '4': 1, 'hans-berchtold-straße': 1, 'mittelfeldstraße': 1, 'sandholzerstraße': 1, '37': 1, 'egelseestraße': 1, '78': 1, 'sonnenbergstraße': 1, 'obere': 1, 'venserstraße': 1, 'kneippgasse': 1, 'sellasweg': 1, 'torkelweg': 1, 'schulstraße': 1, '13': 1, 'jägerloch': 1, 'eschbühel': 1, 'halde': 1, '11': 1, 'unterkrumbach': 1, '336': 1, 'binsenfeldstraße': 1, 'mühlefeld': 1, 'kernstockstraße': 1, 'römerweg': 1, 'rotach': 1, 'sigibertweg': 1, 'alte': 1, 'schweizerstraße': 1, 'schendlingerstraße': 1, '41': 1})\n",
      "Counter({'19,23': 2, '2': 2, '6': 2, '14,29': 2, '9,86': 1, '137,49': 1, '28,65': 1, '13,27': 1, '30,2': 1, '7,32': 1, '27,41': 1, '17,73': 1, '24,63': 1, '4,83': 1, '11,12': 1, '31,15': 1, '22,94': 1, '14,66': 1, '17,17': 1, '12,5': 1, '22,26': 1, '67,69': 1, '68,22': 1, '15,45': 1, '7,43': 1, '15,24': 1, '20,11': 1, '8,89': 1, '16,46': 1, '137,97': 1, '83,03': 1, '10,3': 1})\n",
      "Counter({'privatpersonen': 37, 'gmbh': 28, 'privatperson': 25, 'immobilien': 9, 'und': 8, 'die': 7, 'mehrere': 7, '&': 6, 'wohnbau': 6, 'projektbau': 4, 'i': 3, '+': 3, 'r': 3, 'bau': 2, 'co': 2, 'gartenland': 2, 'primus': 2, 'greif': 2, 'sohm': 2, 'wohn-form.at': 2, 'gastronomie': 2, 'invest': 2, 'hilti': 2, 'jehle': 2, 'swietelsky': 2, 'ag': 2, '.': 2, 'karrenblick': 1, 'projekt': 1, 'rüscher': 1, 'söhne': 1, 'kg': 1, 'zimcon': 1, 'rhomberg': 1, 'almrausch': 1, 'bwg': 1, 'vorarlberg': 1, 'og': 1, 'zima': 1, 'wohn': 1, 'baugesellschaft': 1, 'mbh': 1, 'hagen': 1, 'liegenschaftsverwaltung': 1, 'vorarlberger': 1, 'unternehmer': 1, 'barta': 1, 'architektur': 1, 'ml': 1, 'liegenschafts': 1, 'plandrei': 1, 'bp': 1, 'europa': 1, 'se': 1, 'nägele': 1, 'wohn-': 1, 'marktgemeinde': 1, 'schruns': 1, 'tabit': 1, 'wohn.wert': 1, 'amman': 1, 'wohnbaugesellschaft': 1, 'm.b': 1, 'h': 1, 'morscher': 1, 'bau-': 1, 'projektmanagement': 1, 'wwb': 1})\n"
     ]
    }
   ],
   "source": [
    "# extract counters for all annot \n",
    "for l in range(0,len(labels)):\n",
    "    out=[]\n",
    "    for k in range(0,len(annot)):\n",
    "        j=len(annot[k]['tokens'])\n",
    "        for i in range(0,j):\n",
    "            if annot[k]['spans']!=[]: # are there annot for this example?\n",
    "                if annot[k]['tokens'][i]['label']==labels[l]:\n",
    "                    out.append(annot[k]['tokens'][i]['text'].lower())\n",
    "    out_count = Counter(out)\n",
    "    print(out_count)"
   ]
  },
  {
   "cell_type": "code",
   "execution_count": 11,
   "id": "078e3184",
   "metadata": {},
   "outputs": [
    {
     "name": "stdout",
     "output_type": "stream",
     "text": [
      "Counter({('O', 1): 313, ('O', 2): 276, ('ORT', 1): 238, ('O', 5): 151, ('IMMO_TYP', 1): 138, ('FLAECHE', 1): 137, ('O', 7): 136, ('DATUM_VERTRAG', 2): 97, ('GESAMTPREIS', 1): 96, ('DATUM_VERBUECHERUNG', 2): 96, ('O', 4): 95, ('QMPREIS', 1): 75, ('O', 8): 59, ('VERKAEUFER', 1): 55, ('STRASSE', 1): 53, ('O', 6): 52, ('STRASSE', 2): 39, ('KAEUFER', 1): 38, ('O', 3): 38, ('TERRASSENGROESSE', 1): 36, ('O', 10): 19, ('O', 13): 19, ('KAEUFER', 2): 17, ('O', 12): 17, ('O', 9): 14, ('IMMO_TYP', 4): 14, ('VERKAEUFER', 2): 13, ('O', 11): 12, ('VERKAEUFER', 3): 11, ('KAEUFER', 3): 11, ('O', 15): 10, ('STRASSE', 3): 9, ('DATUM_VERTRAG', 3): 9, ('O', 14): 9, ('DATUM_VERBUECHERUNG', 1): 8, ('VERKAEUFER', 5): 7, ('KAEUFER', 4): 7, ('KAEUFER', 5): 4, ('DATUM_VERBUECHERUNG', 3): 4, ('VERKAEUFER', 4): 4, ('VERKAEUFER', 8): 3, ('IMMO_TYP', 5): 3, ('O', 18): 3, ('VERKAEUFER', 6): 2, ('STRASSE', 4): 2, ('GESAMTPREIS', 2): 2, ('IMMO_TYP', 2): 2, ('VERKAEUFER', 7): 2, ('O', 16): 2, ('IMMO_TYP', 3): 2, ('O', 20): 2, ('O', 21): 2, ('GESAMTPREIS', 3): 1, ('DATUM_VERTRAG', 1): 1, ('QMPREIS', 2): 1, ('FLAECHE', 2): 1, ('O', 17): 1, ('O', 68): 1, ('O', 27): 1, ('O', 49): 1, ('O', 29): 1, ('O', 28): 1, ('O', 44): 1, ('O', 79): 1, ('O', 66): 1})\n"
     ]
    }
   ],
   "source": [
    "# extract # of tokens for each annot \n",
    "out=Counter({})\n",
    "for k in range(0,len(annot)):\n",
    "    j=len(annot[k]['tokens']) #74\n",
    "    i=0\n",
    "    if annot[k]['spans']!=[]: # are there annot for this example?\n",
    "        while i < j:\n",
    "            m=0 # count length of successive tokens w/ same label\n",
    "            #print(\"k/\"+str(k))\n",
    "            #print(\"i/\"+str(i))\n",
    "            while (i < (j-1)) and annot[k]['tokens'][i]['label']==annot[k]['tokens'][i+1]['label']:\n",
    "                 # note w/ i=j-2 in below expression can go up to i+1 = j-1 ... i.e. i can go up to 72\n",
    "                m+=1\n",
    "                i+=1\n",
    "                #print(annot[k]['tokens'][i]['label'])\n",
    "                #print(m)\n",
    "            m+=1\n",
    "            out += Counter({(annot[k]['tokens'][i]['label'],m): 1}) # add 1 entry for this pair of label and length\n",
    "            #if (annot[k]['tokens'][i]['label'] == 'GESAMTPREIS') and (m>1): # investigating situations where # successive tokens GESAMTPREIS > 1\n",
    "            #    print(\"k/\"+str(k))\n",
    "            #    print(\"i/\"+str(i))\n",
    "            i+=1\n",
    "            #print(out)\n",
    "                   # out.append(annot[k]['tokens'][i]['text'].lower())\n",
    "print(out)"
   ]
  },
  {
   "cell_type": "code",
   "execution_count": 12,
   "id": "b491d3d9",
   "metadata": {},
   "outputs": [
    {
     "name": "stdout",
     "output_type": "stream",
     "text": [
      "Total Examples = 140\n",
      "Total Distinct Labels = 1283\n",
      "Total Distinct Labelled Tokens = 1822\n",
      "Avg. # of words per example = 55.121428571428574\n",
      "Avg. # of labelled words per example = 13.014285714285714\n",
      "Avg. # of labels per example = 9.164285714285715\n",
      "Avg. # of words per label = 1.4201091192517536\n",
      "[(('DATUM_VERBUECHERUNG', 1), 8), (('DATUM_VERBUECHERUNG', 2), 96), (('DATUM_VERBUECHERUNG', 3), 4), (('DATUM_VERTRAG', 1), 1), (('DATUM_VERTRAG', 2), 97), (('DATUM_VERTRAG', 3), 9), (('FLAECHE', 1), 138), (('GESAMTPREIS', 1), 97), (('GESAMTPREIS', 2), 3), (('IMMO_TYP', 1), 142), (('IMMO_TYP', 2), 2), (('IMMO_TYP', 3), 2), (('IMMO_TYP', 4), 14), (('IMMO_TYP', 5), 3), (('KAEUFER', 1), 69), (('KAEUFER', 2), 17), (('KAEUFER', 3), 11), (('KAEUFER', 4), 7), (('KAEUFER', 5), 4), (('ORT', 1), 238), (('QMPREIS', 1), 76), (('STRASSE', 1), 53), (('STRASSE', 2), 39), (('STRASSE', 3), 9), (('STRASSE', 4), 2), (('TERRASSENGROESSE', 1), 36), (('VERKAEUFER', 1), 64), (('VERKAEUFER', 2), 13), (('VERKAEUFER', 3), 11), (('VERKAEUFER', 4), 4), (('VERKAEUFER', 5), 7), (('VERKAEUFER', 6), 2), (('VERKAEUFER', 7), 2), (('VERKAEUFER', 8), 3)]\n"
     ]
    }
   ],
   "source": [
    "# Statistics of dataset\n",
    "sumExamples = len(annot)\n",
    "sumTokens = 0\n",
    "sumLabels = 0\n",
    "sumLabelledWords = 0\n",
    "labelWords =[]\n",
    "for i in range (0,sumExamples):\n",
    "    sumTokens+=len(annot[i]['tokens'])\n",
    "    noLabels = len(annot[i]['spans'])\n",
    "    sumLabels += noLabels\n",
    "    for j in range(0,noLabels):\n",
    "        labelWords.append((annot[i]['spans'][j]['label'],annot[i]['spans'][j]['noWords'])) \n",
    "        sumLabelledWords+=annot[i]['spans'][j]['noWords']\n",
    "print(\"Total Examples = \" + str(sumExamples))\n",
    "print(\"Total Distinct Labels = \" + str(sumLabels))\n",
    "print(\"Total Distinct Labelled Tokens = \" + str(sumLabelledWords))\n",
    "print(\"Avg. # of words per label = \"+str(sumLabelledWords/sumLabels))\n",
    "print(\"Avg. # of words per example = \"+str(sumTokens/sumExamples))\n",
    "print(\"Avg. # of labelled words per example = \"+str(sumLabelledWords/sumExamples))\n",
    "print(\"Avg. # of labels per example = \"+str(sumLabels/sumExamples))\n",
    "labelWordDistrib = Counter(labelWords)\n",
    "labelWordDistrib_items = labelWordDistrib.items()\n",
    "labelWordDistrib_sorted = sorted(labelWordDistrib_items)\n",
    "print(labelWordDistrib_sorted)"
   ]
  },
  {
   "cell_type": "code",
   "execution_count": 20,
   "id": "22c91e31",
   "metadata": {},
   "outputs": [
    {
     "name": "stdout",
     "output_type": "stream",
     "text": [
      "{'ORT': 1.0, 'STRASSE': 1.6116504854368932, 'FLAECHE': 1.0, 'IMMO_TYP': 1.3680981595092025, 'QMPREIS': 1.0, 'TERRASSENGROESSE': 1.0, 'KAEUFER': 1.7037037037037037, 'VERKAEUFER': 2.1132075471698113, 'GESAMTPREIS': 1.03, 'DATUM_VERTRAG': 2.074766355140187, 'DATUM_VERBUECHERUNG': 1.962962962962963}\n"
     ]
    }
   ],
   "source": [
    "#Average number of words per label for each different label type\n",
    "a = [((a1,a2),a3) for ((a1,a2),a3) in labelWordDistrib.items()]\n",
    "\n",
    "keys = [a1 for ((a1,a2),a3) in a]\n",
    "\n",
    "values1 = [a3 for ((a1,a2),a3) in a]\n",
    "\n",
    "values2 = [a2*a3 for ((a1,a2),a3) in a]\n",
    "\n",
    "d = {}\n",
    "e = {}\n",
    "for item in range(len(keys)):\n",
    "    key = keys[item]\n",
    "    value1 = values1[item]\n",
    "    value2 = values2[item]\n",
    "    if key in d:\n",
    "        d[key] += value1\n",
    "        e[key] += value2\n",
    "    else:\n",
    "        d[key] = value1\n",
    "        e[key] = value2\n",
    "f={}\n",
    "for key in d:\n",
    "    f[key]=e[key]/d[key]\n",
    "print(f)"
   ]
  },
  {
   "cell_type": "code",
   "execution_count": 21,
   "id": "cf04c053",
   "metadata": {},
   "outputs": [
    {
     "name": "stdout",
     "output_type": "stream",
     "text": [
      "7717\n",
      "1152\n"
     ]
    }
   ],
   "source": [
    "# lexicon\n",
    "a=[]\n",
    "for i in range(0,len(annot)):\n",
    "    for j in range(0,len(annot[i]['tokens'])):\n",
    "        a.append(annot[i]['tokens'][j]['text'].lower())\n",
    "b=set(a)\n",
    "print(len(a)) # total # of words\n",
    "print(len(b)) # total # of distinct words"
   ]
  },
  {
   "cell_type": "code",
   "execution_count": 22,
   "id": "0289ff9a",
   "metadata": {},
   "outputs": [
    {
     "name": "stdout",
     "output_type": "stream",
     "text": [
      "i is:0;length is: 77\n",
      "i is:1;length is: 73\n",
      "i is:2;length is: 67\n",
      "i is:3;length is: 55\n",
      "i is:4;length is: 71\n",
      "i is:5;length is: 67\n",
      "i is:6;length is: 66\n",
      "i is:7;length is: 68\n",
      "i is:8;length is: 57\n",
      "i is:9;length is: 70\n",
      "i is:10;length is: 67\n",
      "i is:11;length is: 63\n",
      "i is:12;length is: 59\n",
      "i is:13;length is: 66\n",
      "i is:14;length is: 71\n",
      "i is:15;length is: 53\n",
      "i is:16;length is: 72\n",
      "i is:17;length is: 66\n",
      "i is:18;length is: 57\n",
      "i is:19;length is: 57\n",
      "i is:20;length is: 54\n",
      "i is:21;length is: 61\n",
      "i is:22;length is: 77\n",
      "i is:23;length is: 65\n",
      "i is:24;length is: 52\n",
      "i is:25;length is: 78\n",
      "i is:26;length is: 55\n",
      "i is:27;length is: 61\n",
      "i is:28;length is: 53\n",
      "i is:29;length is: 62\n",
      "i is:30;length is: 65\n",
      "i is:31;length is: 51\n",
      "i is:32;length is: 68\n",
      "i is:33;length is: 70\n",
      "i is:34;length is: 59\n",
      "i is:35;length is: 72\n",
      "i is:36;length is: 56\n",
      "i is:37;length is: 53\n",
      "i is:38;length is: 61\n",
      "i is:39;length is: 64\n",
      "i is:40;length is: 66\n",
      "i is:41;length is: 73\n",
      "i is:42;length is: 71\n",
      "i is:43;length is: 65\n",
      "i is:44;length is: 70\n",
      "i is:45;length is: 71\n",
      "i is:46;length is: 47\n",
      "i is:47;length is: 55\n",
      "i is:48;length is: 46\n",
      "i is:49;length is: 61\n",
      "i is:50;length is: 50\n",
      "i is:51;length is: 71\n",
      "i is:52;length is: 67\n",
      "i is:53;length is: 70\n",
      "i is:54;length is: 56\n",
      "i is:55;length is: 66\n",
      "i is:56;length is: 67\n",
      "i is:57;length is: 72\n",
      "i is:58;length is: 74\n",
      "i is:59;length is: 62\n",
      "i is:60;length is: 65\n",
      "i is:61;length is: 62\n",
      "i is:62;length is: 56\n",
      "i is:63;length is: 64\n",
      "i is:64;length is: 52\n",
      "i is:65;length is: 79\n",
      "i is:66;length is: 57\n",
      "i is:67;length is: 59\n",
      "i is:68;length is: 72\n",
      "i is:69;length is: 63\n",
      "i is:70;length is: 77\n",
      "i is:71;length is: 52\n",
      "i is:72;length is: 60\n",
      "i is:73;length is: 45\n",
      "i is:74;length is: 67\n",
      "i is:75;length is: 62\n",
      "i is:76;length is: 53\n",
      "i is:77;length is: 61\n",
      "i is:78;length is: 66\n",
      "i is:79;length is: 57\n",
      "i is:80;length is: 59\n",
      "i is:81;length is: 71\n",
      "i is:82;length is: 56\n",
      "i is:83;length is: 67\n",
      "i is:84;length is: 65\n",
      "i is:85;length is: 75\n",
      "i is:86;length is: 48\n",
      "i is:87;length is: 65\n",
      "i is:88;length is: 59\n",
      "i is:89;length is: 68\n",
      "i is:90;length is: 56\n",
      "i is:91;length is: 61\n",
      "i is:92;length is: 76\n",
      "i is:94;length is: 117\n",
      "i is:96;length is: 4\n",
      "i is:97;length is: 4\n",
      "i is:98;length is: 4\n",
      "i is:99;length is: 4\n",
      "i is:100;length is: 4\n",
      "i is:102;length is: 4\n",
      "i is:103;length is: 4\n",
      "i is:104;length is: 4\n",
      "i is:105;length is: 4\n",
      "i is:106;length is: 4\n",
      "i is:107;length is: 87\n",
      "i is:109;length is: 4\n",
      "i is:110;length is: 4\n",
      "i is:111;length is: 4\n",
      "i is:112;length is: 4\n",
      "i is:113;length is: 4\n",
      "i is:115;length is: 7\n",
      "i is:116;length is: 7\n",
      "i is:117;length is: 7\n",
      "i is:118;length is: 7\n",
      "i is:119;length is: 7\n",
      "i is:120;length is: 73\n",
      "i is:121;length is: 86\n",
      "i is:122;length is: 92\n",
      "i is:125;length is: 63\n",
      "i is:126;length is: 54\n",
      "i is:127;length is: 63\n",
      "i is:128;length is: 62\n",
      "i is:129;length is: 67\n",
      "i is:130;length is: 58\n",
      "i is:131;length is: 67\n",
      "i is:132;length is: 67\n",
      "i is:133;length is: 66\n",
      "i is:134;length is: 66\n",
      "i is:135;length is: 77\n",
      "i is:136;length is: 65\n",
      "i is:137;length is: 55\n",
      "i is:138;length is: 66\n",
      "i is:139;length is: 60\n"
     ]
    }
   ],
   "source": [
    "# length of each example\n",
    "sumExamples = len(annot)\n",
    "for i in range (0,sumExamples):\n",
    "    if annot[i]['spans']!=[]:\n",
    "        print(\"i is:\"+str(i)+\";\"+\"length is: \"+str(len(annot[i]['tokens'])))"
   ]
  },
  {
   "cell_type": "code",
   "execution_count": 23,
   "id": "9be446e0",
   "metadata": {},
   "outputs": [
    {
     "name": "stdout",
     "output_type": "stream",
     "text": [
      "Counter({'O': 5600, 'ORT': 238, 'DATUM_VERTRAG': 222, 'IMMO_TYP': 219, 'VERKAEUFER': 215, 'DATUM_VERBUECHERUNG': 212, 'STRASSE': 166, 'KAEUFER': 153, 'FLAECHE': 139, 'GESAMTPREIS': 103, 'QMPREIS': 77, 'TERRASSENGROESSE': 36})\n"
     ]
    }
   ],
   "source": [
    "# Token counts per class label\n",
    "auxCount = Counter([a for seq in train_sents for _,a in seq])\n",
    "print(auxCount)\n"
   ]
  }
 ],
 "metadata": {
  "kernelspec": {
   "display_name": "Python 3 (ipykernel)",
   "language": "python",
   "name": "python3"
  },
  "language_info": {
   "codemirror_mode": {
    "name": "ipython",
    "version": 3
   },
   "file_extension": ".py",
   "mimetype": "text/x-python",
   "name": "python",
   "nbconvert_exporter": "python",
   "pygments_lexer": "ipython3",
   "version": "3.8.12"
  }
 },
 "nbformat": 4,
 "nbformat_minor": 5
}
